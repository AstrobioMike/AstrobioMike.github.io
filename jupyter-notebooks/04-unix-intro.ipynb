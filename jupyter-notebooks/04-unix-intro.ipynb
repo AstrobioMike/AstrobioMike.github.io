{
 "cells": [
  {
   "cell_type": "markdown",
   "id": "8704685d-e7f1-4d46-903e-cc3e877f93f5",
   "metadata": {
    "deletable": false,
    "editable": false,
    "tags": []
   },
   "source": [
    "# 4. Six glorious commands\n",
    "\n",
    "<hr>\n",
    "<center>This is part 4 of 5 of an <a href=\"00-unix-intro.ipynb\" target=\"_blank\">introduction to Unix</a>, it assumes the previous parts were done first.</center>\n",
    "<hr>\n",
    "\n",
    "> **Things covered here:**\n",
    "> * cut\n",
    "> * grep\n",
    "> * paste\n",
    "> * sed\n",
    "> * awk\n",
    "> * tr\n",
    "\n",
    "---\n",
    "\n",
    "<div class=\"alert alert-block alert-warning\" align=\"center\">\n",
    "    <b>Not yet incorporated</b>\n",
    "</div>"
   ]
  },
  {
   "cell_type": "markdown",
   "id": "cbe2b85a-57f0-4b16-9870-4668ed6072e5",
   "metadata": {
    "deletable": false,
    "editable": false,
    "tags": []
   },
   "source": [
    "<br>\n",
    "\n",
    "---\n",
    "---\n",
    "\n",
    "<a href=\"03-unix-intro.ipynb\"><b>Previous:</b> 3. Redirectors and wildcards</a>\n",
    "\n",
    "<div align=\"right\"><a href=”05-unix-intro.ipynb”><b>Next:</b> 5. Variables and for loops</a></div>\n",
    "\n",
    "---\n",
    "\n",
    "<div class=\"alert alert-block alert-info\" align=\"center\">\n",
    "<font size=\"-1\">This is a notebook implementation of the <a href=\"https://astrobiomike.github.io/unix/unix-intro\" target=\"_blank\">Unix introduction</a> from <a href=\"https://astrobiomike.github.io\" target=\"_blank\">Happy Belly Bioinformatics.</a></font>\n",
    "</div>\n",
    "    \n",
    "---"
   ]
  }
 ],
 "metadata": {
  "kernelspec": {
   "display_name": "Bash",
   "language": "bash",
   "name": "bash"
  },
  "language_info": {
   "codemirror_mode": "shell",
   "file_extension": ".sh",
   "mimetype": "text/x-sh",
   "name": "bash"
  }
 },
 "nbformat": 4,
 "nbformat_minor": 5
}
