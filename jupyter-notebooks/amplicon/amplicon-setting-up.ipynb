{
 "cells": [
  {
   "cell_type": "code",
   "execution_count": 2,
   "id": "8a00b6a7-5f2b-4b16-8fff-6f6a3fe3db9d",
   "metadata": {
    "tags": []
   },
   "outputs": [],
   "source": [
    "# while building\n",
    "cd /Users/mdlee4/github/AstrobioMike.github.io/jupyter-notebooks/amplicon/amplicon-tutorial"
   ]
  },
  {
   "cell_type": "code",
   "execution_count": null,
   "id": "6bef0cf8-f1e5-4bfd-ac37-41e4c5bf292d",
   "metadata": {},
   "outputs": [],
   "source": [
    "mkdir amplicon-tutorial"
   ]
  },
  {
   "cell_type": "code",
   "execution_count": 3,
   "id": "ad2f50ad-dd30-4619-9794-68f1c9c34250",
   "metadata": {
    "tags": []
   },
   "outputs": [],
   "source": [
    "cd amplicon-tutorial"
   ]
  },
  {
   "cell_type": "code",
   "execution_count": 4,
   "id": "78397983-b6b9-49e6-a441-50b3b1880da7",
   "metadata": {
    "tags": []
   },
   "outputs": [],
   "source": [
    "mkdir raw-reads trimmed-and-filtered-reads fastqc-outputs final-outputs"
   ]
  },
  {
   "cell_type": "code",
   "execution_count": 5,
   "id": "2c019a46-718c-4f4e-8713-7af7a871efd3",
   "metadata": {
    "tags": []
   },
   "outputs": [
    {
     "name": "stdout",
     "output_type": "stream",
     "text": [
      "fastqc-outputs\tfinal-outputs  raw-reads  trimmed-and-filtered-reads\n"
     ]
    }
   ],
   "source": [
    "ls"
   ]
  },
  {
   "cell_type": "code",
   "execution_count": 6,
   "id": "f257f94a-b571-40cf-8e62-3f49ecede729",
   "metadata": {
    "tags": []
   },
   "outputs": [],
   "source": [
    "cp /Users/mdlee4/Documents/NASA/GeneLab/GL4U/amplicon/GLDS-249-subset/* raw-reads"
   ]
  },
  {
   "cell_type": "code",
   "execution_count": 7,
   "id": "74ce7ad9-c1e7-42d2-a550-9185d7dd9e49",
   "metadata": {
    "tags": []
   },
   "outputs": [
    {
     "name": "stdout",
     "output_type": "stream",
     "text": [
      "F10_R1_raw.fastq.gz  F8_R2_raw.fastq.gz   G5_R1_raw.fastq.gz\n",
      "F10_R2_raw.fastq.gz  F9_R1_raw.fastq.gz   G5_R2_raw.fastq.gz\n",
      "F3_R1_raw.fastq.gz   F9_R2_raw.fastq.gz   G8_R1_raw.fastq.gz\n",
      "F3_R2_raw.fastq.gz   G10_R1_raw.fastq.gz  G8_R2_raw.fastq.gz\n",
      "F5_R1_raw.fastq.gz   G10_R2_raw.fastq.gz  G9_R1_raw.fastq.gz\n",
      "F5_R2_raw.fastq.gz   G3_R1_raw.fastq.gz   G9_R2_raw.fastq.gz\n",
      "F8_R1_raw.fastq.gz   G3_R2_raw.fastq.gz\n"
     ]
    }
   ],
   "source": [
    "ls raw-reads"
   ]
  },
  {
   "cell_type": "code",
   "execution_count": 8,
   "id": "1c6746f4-af37-494b-9030-e06fd3641d90",
   "metadata": {
    "tags": []
   },
   "outputs": [
    {
     "name": "stdout",
     "output_type": "stream",
     "text": [
      "/Users/mdlee4/github/AstrobioMike.github.io/jupyter-notebooks/amplicon/amplicon-tutorial\n"
     ]
    }
   ],
   "source": [
    "pwd"
   ]
  },
  {
   "cell_type": "code",
   "execution_count": null,
   "id": "7cb93529-7a02-4b51-8304-225629e03e90",
   "metadata": {},
   "outputs": [],
   "source": []
  }
 ],
 "metadata": {
  "kernelspec": {
   "display_name": "Bash",
   "language": "bash",
   "name": "bash"
  },
  "language_info": {
   "codemirror_mode": "shell",
   "file_extension": ".sh",
   "mimetype": "text/x-sh",
   "name": "bash"
  }
 },
 "nbformat": 4,
 "nbformat_minor": 5
}
