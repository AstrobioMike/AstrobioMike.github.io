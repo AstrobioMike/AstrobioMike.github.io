{
 "cells": [
  {
   "cell_type": "code",
   "execution_count": null,
   "id": "c90d7f23-b753-43e6-92e9-555cd67dc278",
   "metadata": {},
   "outputs": [],
   "source": []
  }
 ],
 "metadata": {
  "kernelspec": {
   "display_name": "R",
   "language": "R",
   "name": "ir"
  },
  "language_info": {
   "codemirror_mode": "r",
   "file_extension": ".r",
   "mimetype": "text/x-r-source",
   "name": "R",
   "pygments_lexer": "r",
   "version": "4.1.3"
  }
 },
 "nbformat": 4,
 "nbformat_minor": 5
}
