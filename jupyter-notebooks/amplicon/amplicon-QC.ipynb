{
 "cells": [
  {
   "cell_type": "markdown",
   "id": "98aabd5b-24f0-413c-b906-4d2fe6d4c95c",
   "metadata": {},
   "source": [
    "# FastQC assessments"
   ]
  },
  {
   "cell_type": "markdown",
   "id": "50e86613-65f8-49d6-b94d-55982d463462",
   "metadata": {},
   "source": [
    "## Raw data QC"
   ]
  },
  {
   "cell_type": "code",
   "execution_count": 12,
   "id": "c4e71a15-4090-4fe2-b402-c8093b8fb4c0",
   "metadata": {
    "tags": []
   },
   "outputs": [],
   "source": [
    "# while building\n",
    "cd /Users/mdlee4/github/AstrobioMike.github.io/jupyter-notebooks/amplicon/amplicon-tutorial"
   ]
  },
  {
   "cell_type": "code",
   "execution_count": 13,
   "id": "9a527642-db73-4295-a39d-68bbc1d1de04",
   "metadata": {
    "tags": []
   },
   "outputs": [
    {
     "name": "stdout",
     "output_type": "stream",
     "text": [
      "fastqc-outputs\tfinal-outputs  raw-reads  trimmed-and-filtered-reads\n"
     ]
    }
   ],
   "source": [
    "ls"
   ]
  },
  {
   "cell_type": "code",
   "execution_count": 38,
   "id": "a99aadbd-3bfc-4ffa-a34f-28007b8b086c",
   "metadata": {
    "tags": []
   },
   "outputs": [],
   "source": [
    "fastqc -t 8 raw-reads/*.gz -q -o fastqc-outputs"
   ]
  },
  {
   "cell_type": "code",
   "execution_count": 32,
   "id": "258dcb8d-50ee-4b40-848f-f2836bffc2f1",
   "metadata": {
    "tags": []
   },
   "outputs": [
    {
     "name": "stdout",
     "output_type": "stream",
     "text": [
      "F10_R1_raw_fastqc.html\tF8_R2_raw_fastqc.html\tG5_R1_raw_fastqc.html\n",
      "F10_R1_raw_fastqc.zip\tF8_R2_raw_fastqc.zip\tG5_R1_raw_fastqc.zip\n",
      "F10_R2_raw_fastqc.html\tF9_R1_raw_fastqc.html\tG5_R2_raw_fastqc.html\n",
      "F10_R2_raw_fastqc.zip\tF9_R1_raw_fastqc.zip\tG5_R2_raw_fastqc.zip\n",
      "F3_R1_raw_fastqc.html\tF9_R2_raw_fastqc.html\tG8_R1_raw_fastqc.html\n",
      "F3_R1_raw_fastqc.zip\tF9_R2_raw_fastqc.zip\tG8_R1_raw_fastqc.zip\n",
      "F3_R2_raw_fastqc.html\tG10_R1_raw_fastqc.html\tG8_R2_raw_fastqc.html\n",
      "F3_R2_raw_fastqc.zip\tG10_R1_raw_fastqc.zip\tG8_R2_raw_fastqc.zip\n",
      "F5_R1_raw_fastqc.html\tG10_R2_raw_fastqc.html\tG9_R1_raw_fastqc.html\n",
      "F5_R1_raw_fastqc.zip\tG10_R2_raw_fastqc.zip\tG9_R1_raw_fastqc.zip\n",
      "F5_R2_raw_fastqc.html\tG3_R1_raw_fastqc.html\tG9_R2_raw_fastqc.html\n",
      "F5_R2_raw_fastqc.zip\tG3_R1_raw_fastqc.zip\tG9_R2_raw_fastqc.zip\n",
      "F8_R1_raw_fastqc.html\tG3_R2_raw_fastqc.html\n",
      "F8_R1_raw_fastqc.zip\tG3_R2_raw_fastqc.zip\n"
     ]
    }
   ],
   "source": [
    "ls fastqc-outputs"
   ]
  },
  {
   "cell_type": "markdown",
   "id": "abb40090-5ab0-4afe-87ea-0f7ca5de06a8",
   "metadata": {
    "tags": []
   },
   "source": [
    "We can look at one of these by navigating to it on the left and double-clicking on the html file, or by clicking **[here for F10_R1](amplicon-tutorial/fastqc-outputs/F10_R1_raw_fastqc.html)** (so long as we didn't delete the file already)."
   ]
  },
  {
   "cell_type": "code",
   "execution_count": 39,
   "id": "d136cb2f-0209-4ce2-9873-b132f234497a",
   "metadata": {
    "tags": []
   },
   "outputs": [
    {
     "name": "stdout",
     "output_type": "stream",
     "text": [
      "\n",
      "  \u001b[34m/\u001b[0m\u001b[32m/\u001b[0m\u001b[31m/\u001b[0m \u001b]8;id=928019;https://multiqc.info\u001b\\\u001b[1mMultiQC\u001b[0m\u001b]8;;\u001b\\ 🔍 \u001b[2m| v1.12\u001b[0m\n",
      "\n",
      "\u001b[34m|           multiqc\u001b[0m | \u001b[33mMultiQC Version v1.14 now available!\u001b[0m\n",
      "\u001b[34m|           multiqc\u001b[0m | Search path : /Users/mdlee4/github/AstrobioMike.github.io/jupyter-notebooks/amplicon/amplicon-tutorial/fastqc-outputs\n",
      "\u001b[2K\u001b[34m|\u001b[0m         \u001b[34msearching\u001b[0m | \u001b[38;2;114;156;31m━━━━━━━━━━━━━━━━━━━━━━━━━━━━━━━━━━━━━━━━\u001b[0m \u001b[35m100%\u001b[0m \u001b[32m41/41\u001b[0m  tqc-outputs/G9_R2_raw_fastqc.html\u001b[0mR1_raw_fastqc.html\u001b[0m\n",
      "\u001b[?25h\u001b[34m|            fastqc\u001b[0m | Found 20 reports\n",
      "\u001b[34m|           multiqc\u001b[0m | Compressing plot data\n",
      "\u001b[34m|           multiqc\u001b[0m | Report      : fastqc-outputs/raw_multiqc.html\n",
      "\u001b[34m|           multiqc\u001b[0m | Data        : fastqc-outputs/raw_multiqc_data\n",
      "\u001b[34m|           multiqc\u001b[0m | MultiQC complete\n"
     ]
    }
   ],
   "source": [
    "multiqc fastqc-outputs/ -o fastqc-outputs/ -n raw_multiqc"
   ]
  },
  {
   "cell_type": "code",
   "execution_count": 40,
   "id": "7fd1973f-4437-4523-8b5a-c7766bac71b2",
   "metadata": {
    "tags": []
   },
   "outputs": [],
   "source": [
    "# removing all original fastqc files since they are summarized in the multiqc\n",
    "rm fastqc-outputs/*fastqc*"
   ]
  },
  {
   "cell_type": "code",
   "execution_count": 41,
   "id": "ebe7d645-c3fa-46a5-b6af-33d380d6f525",
   "metadata": {},
   "outputs": [
    {
     "name": "stdout",
     "output_type": "stream",
     "text": [
      "raw_multiqc.html  raw_multiqc_data\n"
     ]
    }
   ],
   "source": [
    "ls fastqc-outputs"
   ]
  },
  {
   "cell_type": "markdown",
   "id": "7ac42558-cce2-42b7-bc73-b25120564eaf",
   "metadata": {},
   "source": [
    "And we can open and look at that by navigating to it also with the explorer browser on the left, or by clicking **[here](amplicon-tutorial/fastqc-outputs/raw_multiqc.html)**. Be sure to click \"Trust HTML\" at the top-left after opening."
   ]
  },
  {
   "cell_type": "code",
   "execution_count": null,
   "id": "d233600d-d578-4409-977a-1391db323788",
   "metadata": {},
   "outputs": [],
   "source": []
  },
  {
   "cell_type": "code",
   "execution_count": null,
   "id": "3a337142-4b60-485b-af6c-5a307fccf8f0",
   "metadata": {},
   "outputs": [],
   "source": []
  },
  {
   "cell_type": "markdown",
   "id": "b3eb89dd-e95a-4a28-ab90-545a7d1d4c6a",
   "metadata": {},
   "source": [
    "## Quality-filtered QC"
   ]
  },
  {
   "cell_type": "code",
   "execution_count": 42,
   "id": "d4b35eef-7098-49f4-b28d-8664a34d40f0",
   "metadata": {
    "tags": []
   },
   "outputs": [
    {
     "name": "stdout",
     "output_type": "stream",
     "text": [
      "fastqc-outputs\tfinal-outputs  raw-reads  trimmed-and-filtered-reads\n"
     ]
    }
   ],
   "source": [
    "ls"
   ]
  },
  {
   "cell_type": "code",
   "execution_count": 44,
   "id": "e61929bf-2b6a-4619-868c-50637052dd61",
   "metadata": {
    "tags": []
   },
   "outputs": [],
   "source": [
    "fastqc -t 8 trimmed-and-filtered-reads/*.gz -q -o fastqc-outputs"
   ]
  },
  {
   "cell_type": "code",
   "execution_count": 45,
   "id": "71d4a515-1d4b-42ad-ae35-896d33e4ece3",
   "metadata": {
    "tags": []
   },
   "outputs": [
    {
     "name": "stdout",
     "output_type": "stream",
     "text": [
      "\n",
      "  \u001b[34m/\u001b[0m\u001b[32m/\u001b[0m\u001b[31m/\u001b[0m \u001b]8;id=638456;https://multiqc.info\u001b\\\u001b[1mMultiQC\u001b[0m\u001b]8;;\u001b\\ 🔍 \u001b[2m| v1.12\u001b[0m\n",
      "\n",
      "\u001b[34m|           multiqc\u001b[0m | \u001b[33mMultiQC Version v1.14 now available!\u001b[0m\n",
      "\u001b[34m|           multiqc\u001b[0m | Search path : /Users/mdlee4/github/AstrobioMike.github.io/jupyter-notebooks/amplicon/amplicon-tutorial/fastqc-outputs\n",
      "\u001b[2K\u001b[34m|\u001b[0m         \u001b[34msearching\u001b[0m | \u001b[38;2;114;156;31m━━━━━━━━━━━━━━━━━━━━━━━━━━━━━━━━━━━━━━━━\u001b[0m \u001b[35m100%\u001b[0m \u001b[32m49/49\u001b[0m  tqc-outputs/raw_multiqc_data/multiqc.log\u001b[0mfastqc.html\u001b[0m\n",
      "\u001b[?25h\u001b[34m|            snippy\u001b[0m | Found 1 reports\n",
      "\u001b[34m|          bargraph\u001b[0m | \u001b[33mTried to make bar plot, but had no data: snippy_variants\u001b[0m\n",
      "\u001b[34m|            fastqc\u001b[0m | Found 20 reports\n",
      "\u001b[34m|           multiqc\u001b[0m | Compressing plot data\n",
      "\u001b[34m|           multiqc\u001b[0m | Report      : fastqc-outputs/trimmed_and_filtered_multiqc.html\n",
      "\u001b[34m|           multiqc\u001b[0m | Data        : fastqc-outputs/trimmed_and_filtered_multiqc_data\n",
      "\u001b[34m|           multiqc\u001b[0m | MultiQC complete\n"
     ]
    }
   ],
   "source": [
    "multiqc fastqc-outputs/ -o fastqc-outputs/ -n trimmed_and_filtered_multiqc"
   ]
  },
  {
   "cell_type": "code",
   "execution_count": 46,
   "id": "70ad500e-105d-41b6-bdd7-69d93ecadf6a",
   "metadata": {
    "tags": []
   },
   "outputs": [
    {
     "name": "stdout",
     "output_type": "stream",
     "text": [
      "F10_R1_filtered_fastqc.html  G10_R2_filtered_fastqc.html\n",
      "F10_R1_filtered_fastqc.zip   G10_R2_filtered_fastqc.zip\n",
      "F10_R2_filtered_fastqc.html  G3_R1_filtered_fastqc.html\n",
      "F10_R2_filtered_fastqc.zip   G3_R1_filtered_fastqc.zip\n",
      "F3_R1_filtered_fastqc.html   G3_R2_filtered_fastqc.html\n",
      "F3_R1_filtered_fastqc.zip    G3_R2_filtered_fastqc.zip\n",
      "F3_R2_filtered_fastqc.html   G5_R1_filtered_fastqc.html\n",
      "F3_R2_filtered_fastqc.zip    G5_R1_filtered_fastqc.zip\n",
      "F5_R1_filtered_fastqc.html   G5_R2_filtered_fastqc.html\n",
      "F5_R1_filtered_fastqc.zip    G5_R2_filtered_fastqc.zip\n",
      "F5_R2_filtered_fastqc.html   G8_R1_filtered_fastqc.html\n",
      "F5_R2_filtered_fastqc.zip    G8_R1_filtered_fastqc.zip\n",
      "F8_R1_filtered_fastqc.html   G8_R2_filtered_fastqc.html\n",
      "F8_R1_filtered_fastqc.zip    G8_R2_filtered_fastqc.zip\n",
      "F8_R2_filtered_fastqc.html   G9_R1_filtered_fastqc.html\n",
      "F8_R2_filtered_fastqc.zip    G9_R1_filtered_fastqc.zip\n",
      "F9_R1_filtered_fastqc.html   G9_R2_filtered_fastqc.html\n",
      "F9_R1_filtered_fastqc.zip    G9_R2_filtered_fastqc.zip\n",
      "F9_R2_filtered_fastqc.html   raw_multiqc.html\n",
      "F9_R2_filtered_fastqc.zip    raw_multiqc_data\n",
      "G10_R1_filtered_fastqc.html  trimmed_and_filtered_multiqc.html\n",
      "G10_R1_filtered_fastqc.zip   trimmed_and_filtered_multiqc_data\n"
     ]
    }
   ],
   "source": [
    "ls fastqc-outputs"
   ]
  },
  {
   "cell_type": "code",
   "execution_count": 47,
   "id": "4cc9db5e-757d-41ad-81c9-6e95de7eb0d9",
   "metadata": {
    "tags": []
   },
   "outputs": [],
   "source": [
    "# removing all original fastqc files since they are summarized in the multiqc\n",
    "rm fastqc-outputs/*fastqc*"
   ]
  },
  {
   "cell_type": "code",
   "execution_count": 49,
   "id": "29888631-479c-4333-b86c-40190da47f99",
   "metadata": {
    "tags": []
   },
   "outputs": [
    {
     "name": "stdout",
     "output_type": "stream",
     "text": [
      "raw_multiqc.html  trimmed_and_filtered_multiqc.html\n",
      "raw_multiqc_data  trimmed_and_filtered_multiqc_data\n"
     ]
    }
   ],
   "source": [
    "ls fastqc-outputs"
   ]
  },
  {
   "cell_type": "markdown",
   "id": "19be22be-faf0-42b1-b2da-d54a1a9e093d",
   "metadata": {},
   "source": [
    "And we can open and look at that by navigating to it also with the explorer browser on the left, or by clicking **[here](amplicon-tutorial/fastqc-outputs/trimmed_and_filtered_multiqc.html)**. Be sure to click \"Trust HTML\" at the top-left after opening."
   ]
  },
  {
   "cell_type": "markdown",
   "id": "a33dac35-d35f-4c19-9201-b1d061e8b297",
   "metadata": {},
   "source": [
    "**Now let's head back to the [amplicon-processing.ipynb notebook](amplicon-processing.ipynb).**"
   ]
  },
  {
   "cell_type": "code",
   "execution_count": null,
   "id": "30095526-9746-4651-a45e-121833b9a9ae",
   "metadata": {},
   "outputs": [],
   "source": []
  }
 ],
 "metadata": {
  "kernelspec": {
   "display_name": "Bash",
   "language": "bash",
   "name": "bash"
  },
  "language_info": {
   "codemirror_mode": "shell",
   "file_extension": ".sh",
   "mimetype": "text/x-sh",
   "name": "bash"
  }
 },
 "nbformat": 4,
 "nbformat_minor": 5
}
