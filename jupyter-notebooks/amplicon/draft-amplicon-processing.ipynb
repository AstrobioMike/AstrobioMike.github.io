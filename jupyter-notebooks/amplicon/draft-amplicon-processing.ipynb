{
 "cells": [
  {
   "cell_type": "code",
   "execution_count": 1,
   "id": "72b44f19-afb8-4832-8308-447b1e976298",
   "metadata": {
    "tags": []
   },
   "outputs": [
    {
     "name": "stderr",
     "output_type": "stream",
     "text": [
      "Loading required package: Rcpp\n",
      "\n",
      "Warning message:\n",
      "“package ‘Rcpp’ was built under R version 4.1.3”\n",
      "Warning message:\n",
      "“package ‘tidyverse’ was built under R version 4.1.3”\n",
      "── \u001b[1mAttaching packages\u001b[22m ────────────────────────────────────────────────────────────────────────────────────────────────────────────────────────────────────────────────────── tidyverse 1.3.2 ──\n",
      "\u001b[32m✔\u001b[39m \u001b[34mggplot2\u001b[39m 3.4.1     \u001b[32m✔\u001b[39m \u001b[34mpurrr  \u001b[39m 1.0.1\n",
      "\u001b[32m✔\u001b[39m \u001b[34mtibble \u001b[39m 3.1.8     \u001b[32m✔\u001b[39m \u001b[34mdplyr  \u001b[39m 1.1.0\n",
      "\u001b[32m✔\u001b[39m \u001b[34mtidyr  \u001b[39m 1.3.0     \u001b[32m✔\u001b[39m \u001b[34mstringr\u001b[39m 1.5.0\n",
      "\u001b[32m✔\u001b[39m \u001b[34mreadr  \u001b[39m 2.1.4     \u001b[32m✔\u001b[39m \u001b[34mforcats\u001b[39m 1.0.0\n",
      "Warning message:\n",
      "“package ‘ggplot2’ was built under R version 4.1.3”\n",
      "Warning message:\n",
      "“package ‘tibble’ was built under R version 4.1.3”\n",
      "Warning message:\n",
      "“package ‘tidyr’ was built under R version 4.1.3”\n",
      "Warning message:\n",
      "“package ‘readr’ was built under R version 4.1.3”\n",
      "Warning message:\n",
      "“package ‘purrr’ was built under R version 4.1.3”\n",
      "Warning message:\n",
      "“package ‘dplyr’ was built under R version 4.1.3”\n",
      "Warning message:\n",
      "“package ‘stringr’ was built under R version 4.1.3”\n",
      "Warning message:\n",
      "“package ‘forcats’ was built under R version 4.1.3”\n",
      "── \u001b[1mConflicts\u001b[22m ───────────────────────────────────────────────────────────────────────────────────────────────────────────────────────────────────────────────────────── tidyverse_conflicts() ──\n",
      "\u001b[31m✖\u001b[39m \u001b[34mdplyr\u001b[39m::\u001b[32mfilter()\u001b[39m masks \u001b[34mstats\u001b[39m::filter()\n",
      "\u001b[31m✖\u001b[39m \u001b[34mdplyr\u001b[39m::\u001b[32mlag()\u001b[39m    masks \u001b[34mstats\u001b[39m::lag()\n"
     ]
    }
   ],
   "source": [
    "library(dada2)\n",
    "library(tidyverse)"
   ]
  },
  {
   "cell_type": "markdown",
   "id": "d8303be3-bcf9-4282-9c22-8fe1e347c89a",
   "metadata": {},
   "source": [
    "## Checking on settings to remove primers\n",
    "\n",
    "Here we can try trimming the primers with dada2's quality trimming/filtering program. But we want to make sure we are removing the primers, so we are going to run one sample and look at the sequences before and after. These are the primers for this dataset, and the IUPAC degenerate-base codes."
   ]
  },
  {
   "cell_type": "markdown",
   "id": "ee910c10-0244-406d-a8ce-8ea30afd9aef",
   "metadata": {},
   "source": [
    "```\n",
    "f primer: GTGYCAGCMGCCGCGGTAA\n",
    "r primer: GGACTACNVGGGTWTCTAAT\n",
    "\n",
    "Y = C/T  \n",
    "M = A/C  \n",
    "N = A/T/G/C  \n",
    "V = A/C/G  \n",
    "W = A/T  \n",
    "```"
   ]
  },
  {
   "cell_type": "code",
   "execution_count": 2,
   "id": "d620e1e9-3079-49cc-9ce2-8f160af857f9",
   "metadata": {
    "tags": []
   },
   "outputs": [],
   "source": [
    "setwd(\"~/Documents/temp/GLDS-249/testing\")"
   ]
  },
  {
   "cell_type": "markdown",
   "id": "33f6a899-feb0-4715-a8a4-8332932fe806",
   "metadata": {},
   "source": [
    "### Ensuring we can spot the primers"
   ]
  },
  {
   "cell_type": "code",
   "execution_count": 11,
   "id": "97a6dfb2-97ec-455e-ac85-537ebabecab6",
   "metadata": {
    "tags": []
   },
   "outputs": [],
   "source": [
    "incon <- gzcon(file(\"F10_R1_raw.fastq.gz\", open = \"rb\"))"
   ]
  },
  {
   "cell_type": "code",
   "execution_count": 4,
   "id": "425cbc45-7f8c-43b5-a0a5-9591e29a334c",
   "metadata": {
    "tags": []
   },
   "outputs": [],
   "source": [
    "# this reads in the first 8 lines, with each set of 4 lines holding one fastq entry\n",
    "stuff <- readLines(incon, 8)"
   ]
  },
  {
   "cell_type": "code",
   "execution_count": 6,
   "id": "d8bd09ed-79fe-4421-bc81-cb16a6b4fa6c",
   "metadata": {
    "tags": []
   },
   "outputs": [
    {
     "data": {
      "text/html": [
       "<style>\n",
       ".list-inline {list-style: none; margin:0; padding: 0}\n",
       ".list-inline>li {display: inline-block}\n",
       ".list-inline>li:not(:last-child)::after {content: \"\\00b7\"; padding: 0 .5ex}\n",
       "</style>\n",
       "<ol class=list-inline><li>'GTGCCAGCAGCCGCGGTAATACGGAGGATGCGAGCGTTATCCGGATTTAATGGGTTTAAAGGGTGCGTAGGTGGTTAATTAAGTCAGCGGTGAAAGTATGTGGCTCAACCATAAAATTGCCGTTGAAACTGGTTGACTTGAGTATAGTAGAGG'</li><li>'GTGCCAGCCGCCGCGGTAATACGTAGGGGGCAAGCGTTATCCGGATTTACTGGGAGTAAAGGGAGCGTAGACGGCCAGACAAGTCTGAAGTGAAAATTCAGCGCTTAACTTTGGAAGTGCTTTGGAAACTGCCGGGATAGAGTGCAGGAGGGG'</li></ol>\n"
      ],
      "text/latex": [
       "\\begin{enumerate*}\n",
       "\\item 'GTGCCAGCAGCCGCGGTAATACGGAGGATGCGAGCGTTATCCGGATTTAATGGGTTTAAAGGGTGCGTAGGTGGTTAATTAAGTCAGCGGTGAAAGTATGTGGCTCAACCATAAAATTGCCGTTGAAACTGGTTGACTTGAGTATAGTAGAGG'\n",
       "\\item 'GTGCCAGCCGCCGCGGTAATACGTAGGGGGCAAGCGTTATCCGGATTTACTGGGAGTAAAGGGAGCGTAGACGGCCAGACAAGTCTGAAGTGAAAATTCAGCGCTTAACTTTGGAAGTGCTTTGGAAACTGCCGGGATAGAGTGCAGGAGGGG'\n",
       "\\end{enumerate*}\n"
      ],
      "text/markdown": [
       "1. 'GTGCCAGCAGCCGCGGTAATACGGAGGATGCGAGCGTTATCCGGATTTAATGGGTTTAAAGGGTGCGTAGGTGGTTAATTAAGTCAGCGGTGAAAGTATGTGGCTCAACCATAAAATTGCCGTTGAAACTGGTTGACTTGAGTATAGTAGAGG'\n",
       "2. 'GTGCCAGCCGCCGCGGTAATACGTAGGGGGCAAGCGTTATCCGGATTTACTGGGAGTAAAGGGAGCGTAGACGGCCAGACAAGTCTGAAGTGAAAATTCAGCGCTTAACTTTGGAAGTGCTTTGGAAACTGCCGGGATAGAGTGCAGGAGGGG'\n",
       "\n",
       "\n"
      ],
      "text/plain": [
       "[1] \"GTGCCAGCAGCCGCGGTAATACGGAGGATGCGAGCGTTATCCGGATTTAATGGGTTTAAAGGGTGCGTAGGTGGTTAATTAAGTCAGCGGTGAAAGTATGTGGCTCAACCATAAAATTGCCGTTGAAACTGGTTGACTTGAGTATAGTAGAGG\"\n",
       "[2] \"GTGCCAGCCGCCGCGGTAATACGTAGGGGGCAAGCGTTATCCGGATTTACTGGGAGTAAAGGGAGCGTAGACGGCCAGACAAGTCTGAAGTGAAAATTCAGCGCTTAACTTTGGAAGTGCTTTGGAAACTGCCGGGATAGAGTGCAGGAGGGG\""
      ]
     },
     "metadata": {},
     "output_type": "display_data"
    }
   ],
   "source": [
    "# here is how we can just get the sequences for the first 2 entries\n",
    "stuff[c(2,6)]"
   ]
  },
  {
   "cell_type": "markdown",
   "id": "2dde8282-d274-4897-8db7-3a5a45121b0a",
   "metadata": {
    "tags": []
   },
   "source": [
    "They each start exactly with the forward primer sequence"
   ]
  },
  {
   "cell_type": "markdown",
   "id": "457e12c2-526f-408e-b23a-c8afd5078676",
   "metadata": {
    "tags": []
   },
   "source": [
    "```\n",
    "forward primer:         GTGYCAGCMGCCGCGGTAA\n",
    "forward read 1 start:   GTGCCAGCAGCCGCGGTAA\n",
    "forward read 2 start:   GTGCCAGCCGCCGCGGTAA\n",
    "```"
   ]
  },
  {
   "cell_type": "code",
   "execution_count": 14,
   "id": "176ff446-0112-4926-bd9a-7bd74118849b",
   "metadata": {
    "tags": []
   },
   "outputs": [],
   "source": [
    "stuff_rev <- readLines(gzcon(file(\"F10_R2_raw.fastq.gz\", open = \"rb\")), 8)"
   ]
  },
  {
   "cell_type": "code",
   "execution_count": 15,
   "id": "3fcecaa9-de85-44fe-8c81-f86b982d4b28",
   "metadata": {
    "tags": []
   },
   "outputs": [
    {
     "data": {
      "text/html": [
       "<style>\n",
       ".list-inline {list-style: none; margin:0; padding: 0}\n",
       ".list-inline>li {display: inline-block}\n",
       ".list-inline>li:not(:last-child)::after {content: \"\\00b7\"; padding: 0 .5ex}\n",
       "</style>\n",
       "<ol class=list-inline><li>'GGACTACTAGGGTTTCTAATCCTGTTTGATCCCCACGCTTTCGTGCATCAGTGTCAGTTATAGAAAAGTAAGCAGCCTTCGCAAACGGAGTTCAGCGAGATATCTAAGCATTTCACCGCTANACNANGNNTTCCGCCTACCTCAAATAAACTC'</li><li>'GGACTACCCGGGTTTCTAATCCTTTTTGCTCCCCACGCCTTCGAGCCTCAACGTCAGTTGCAGTCCAGCAGGACGCCTTCGCCACTGGTGTTCCTCCTAATATCTACGCATTTCACCGCTANACTANGAATTCCGCCTGCCCCTCCTGCACTC'</li></ol>\n"
      ],
      "text/latex": [
       "\\begin{enumerate*}\n",
       "\\item 'GGACTACTAGGGTTTCTAATCCTGTTTGATCCCCACGCTTTCGTGCATCAGTGTCAGTTATAGAAAAGTAAGCAGCCTTCGCAAACGGAGTTCAGCGAGATATCTAAGCATTTCACCGCTANACNANGNNTTCCGCCTACCTCAAATAAACTC'\n",
       "\\item 'GGACTACCCGGGTTTCTAATCCTTTTTGCTCCCCACGCCTTCGAGCCTCAACGTCAGTTGCAGTCCAGCAGGACGCCTTCGCCACTGGTGTTCCTCCTAATATCTACGCATTTCACCGCTANACTANGAATTCCGCCTGCCCCTCCTGCACTC'\n",
       "\\end{enumerate*}\n"
      ],
      "text/markdown": [
       "1. 'GGACTACTAGGGTTTCTAATCCTGTTTGATCCCCACGCTTTCGTGCATCAGTGTCAGTTATAGAAAAGTAAGCAGCCTTCGCAAACGGAGTTCAGCGAGATATCTAAGCATTTCACCGCTANACNANGNNTTCCGCCTACCTCAAATAAACTC'\n",
       "2. 'GGACTACCCGGGTTTCTAATCCTTTTTGCTCCCCACGCCTTCGAGCCTCAACGTCAGTTGCAGTCCAGCAGGACGCCTTCGCCACTGGTGTTCCTCCTAATATCTACGCATTTCACCGCTANACTANGAATTCCGCCTGCCCCTCCTGCACTC'\n",
       "\n",
       "\n"
      ],
      "text/plain": [
       "[1] \"GGACTACTAGGGTTTCTAATCCTGTTTGATCCCCACGCTTTCGTGCATCAGTGTCAGTTATAGAAAAGTAAGCAGCCTTCGCAAACGGAGTTCAGCGAGATATCTAAGCATTTCACCGCTANACNANGNNTTCCGCCTACCTCAAATAAACTC\"\n",
       "[2] \"GGACTACCCGGGTTTCTAATCCTTTTTGCTCCCCACGCCTTCGAGCCTCAACGTCAGTTGCAGTCCAGCAGGACGCCTTCGCCACTGGTGTTCCTCCTAATATCTACGCATTTCACCGCTANACTANGAATTCCGCCTGCCCCTCCTGCACTC\""
      ]
     },
     "metadata": {},
     "output_type": "display_data"
    }
   ],
   "source": [
    "stuff_rev[c(2,6)]"
   ]
  },
  {
   "cell_type": "markdown",
   "id": "4d962a98-6ab1-4694-b2a5-5d9c0e812f5f",
   "metadata": {},
   "source": [
    "They each start exactly with the reverse primer sequence:\n",
    "\n",
    "```\n",
    "reverse primer:          GGACTACNVGGGTWTCTAAT\n",
    "reverse read 1 start:    GGACTACTAGGGTTTCTAAT\n",
    "reverse read 2 start:    GGACTACCCGGGTTTCTAAT\n",
    "```"
   ]
  },
  {
   "cell_type": "markdown",
   "id": "462670d0-4d8d-45dc-b89a-80fd758423af",
   "metadata": {},
   "source": [
    "### Doing a test trimming where we specify to cut these off\n",
    "The forward primer is 19 bases, the reverse is 20. We can pass these values to the `trimLeft` argument of dada2's `filterAndTrim()` function:"
   ]
  },
  {
   "cell_type": "code",
   "execution_count": 16,
   "id": "8a987295-1b46-4081-8b45-412cdfafcfd9",
   "metadata": {
    "tags": []
   },
   "outputs": [],
   "source": [
    "filterAndTrim(fwd = \"F10_R1_raw.fastq.gz\", \n",
    "              rev = \"F10_R2_raw.fastq.gz\", \n",
    "              filt = \"F10_R1_filtered.fastq.gz\",\n",
    "              filt.rev = \"F10_R2_filtered.fastq.gz\", \n",
    "              trimLeft = c(19, 20))"
   ]
  },
  {
   "cell_type": "markdown",
   "id": "0af612a3-19cf-4fc6-8c22-cb32decb45a9",
   "metadata": {},
   "source": [
    "### Ensuring those settings successfully removed the primers\n",
    "Now we are going to peek at the output trimmed files to make sure we cut off the primers, doing the same things we did above to read in part of the file and then just look at the first 2 sequences of the forward and reverse reads:"
   ]
  },
  {
   "cell_type": "code",
   "execution_count": 18,
   "id": "cbba7b23-0893-4f6d-b8ca-c6a8bf2b58b7",
   "metadata": {
    "tags": []
   },
   "outputs": [],
   "source": [
    "filt_stuff <- readLines(gzcon(file(\"F10_R1_filtered.fastq.gz\", open = \"rb\")), 8)"
   ]
  },
  {
   "cell_type": "code",
   "execution_count": 19,
   "id": "3f2445cc-3879-479a-abb3-7576b0b62c46",
   "metadata": {
    "tags": []
   },
   "outputs": [
    {
     "data": {
      "text/html": [
       "<style>\n",
       ".list-inline {list-style: none; margin:0; padding: 0}\n",
       ".list-inline>li {display: inline-block}\n",
       ".list-inline>li:not(:last-child)::after {content: \"\\00b7\"; padding: 0 .5ex}\n",
       "</style>\n",
       "<ol class=list-inline><li>'TACGGAGGATGCGAGCGTTATCCGGATTTAATGGGTTTAAAGGGTGCGTAGGTGGTTAATTAAGTCAGCGGTGAAAGTATGTGGCTCAACCATAAAATTGCCGTTGAAACTGGTTGACTTGAGTATAGTAGAGG'</li><li>'TACGTAGGGGGCAAGCGTTATCCGGATTTACTGGGAGTAAAGGGAGCGTAGACGGCCAGACAAGTCTGAAGTGAAAATTCAGCGCTTAACTTTGGAAGTGCTTTGGAAACTGCCGGGATAGAGTGCAGGAGGGG'</li></ol>\n"
      ],
      "text/latex": [
       "\\begin{enumerate*}\n",
       "\\item 'TACGGAGGATGCGAGCGTTATCCGGATTTAATGGGTTTAAAGGGTGCGTAGGTGGTTAATTAAGTCAGCGGTGAAAGTATGTGGCTCAACCATAAAATTGCCGTTGAAACTGGTTGACTTGAGTATAGTAGAGG'\n",
       "\\item 'TACGTAGGGGGCAAGCGTTATCCGGATTTACTGGGAGTAAAGGGAGCGTAGACGGCCAGACAAGTCTGAAGTGAAAATTCAGCGCTTAACTTTGGAAGTGCTTTGGAAACTGCCGGGATAGAGTGCAGGAGGGG'\n",
       "\\end{enumerate*}\n"
      ],
      "text/markdown": [
       "1. 'TACGGAGGATGCGAGCGTTATCCGGATTTAATGGGTTTAAAGGGTGCGTAGGTGGTTAATTAAGTCAGCGGTGAAAGTATGTGGCTCAACCATAAAATTGCCGTTGAAACTGGTTGACTTGAGTATAGTAGAGG'\n",
       "2. 'TACGTAGGGGGCAAGCGTTATCCGGATTTACTGGGAGTAAAGGGAGCGTAGACGGCCAGACAAGTCTGAAGTGAAAATTCAGCGCTTAACTTTGGAAGTGCTTTGGAAACTGCCGGGATAGAGTGCAGGAGGGG'\n",
       "\n",
       "\n"
      ],
      "text/plain": [
       "[1] \"TACGGAGGATGCGAGCGTTATCCGGATTTAATGGGTTTAAAGGGTGCGTAGGTGGTTAATTAAGTCAGCGGTGAAAGTATGTGGCTCAACCATAAAATTGCCGTTGAAACTGGTTGACTTGAGTATAGTAGAGG\"\n",
       "[2] \"TACGTAGGGGGCAAGCGTTATCCGGATTTACTGGGAGTAAAGGGAGCGTAGACGGCCAGACAAGTCTGAAGTGAAAATTCAGCGCTTAACTTTGGAAGTGCTTTGGAAACTGCCGGGATAGAGTGCAGGAGGGG\""
      ]
     },
     "metadata": {},
     "output_type": "display_data"
    }
   ],
   "source": [
    "filt_stuff[c(2,6)]"
   ]
  },
  {
   "cell_type": "markdown",
   "id": "48235ec2-2575-4e88-a3ac-0ae6158511a0",
   "metadata": {
    "tags": []
   },
   "source": [
    "These previously started:\n",
    "\n",
    "```\n",
    "forward primer:          GTGYCAGCMGCCGCGGTAA\n",
    "original fwd read 1:     GTGCCAGCAGCCGCGGTAA   TACGGAGGAT\n",
    "original fwd read 2:     GTGCCAGCCGCCGCGGTAA   TACGTAGGGG\n",
    "```\n",
    "\n",
    "They each now begin right after the forward primer 👍"
   ]
  },
  {
   "cell_type": "code",
   "execution_count": 21,
   "id": "a8ef06ca-afe1-42ff-bf9e-90c61757886e",
   "metadata": {
    "tags": []
   },
   "outputs": [],
   "source": [
    "filt_stuff_rev <- readLines(gzcon(file(\"F10_R2_filtered.fastq.gz\", open = \"rb\")), 8)"
   ]
  },
  {
   "cell_type": "code",
   "execution_count": 22,
   "id": "e2473c24-61d3-4ad7-9023-fddd2047adcd",
   "metadata": {
    "tags": []
   },
   "outputs": [
    {
     "data": {
      "text/html": [
       "<style>\n",
       ".list-inline {list-style: none; margin:0; padding: 0}\n",
       ".list-inline>li {display: inline-block}\n",
       ".list-inline>li:not(:last-child)::after {content: \"\\00b7\"; padding: 0 .5ex}\n",
       "</style>\n",
       "<ol class=list-inline><li>'CCTGTTTGATCCCCACGCTTTCGTGCATCAGTGTCAGTTATAGAAAAGTAAGCAGCCTTCGCAAACGGAGTTCAGCGAGATATCTAAGCATTTCACCGCTA'</li><li>'CCTTTTTGCTCCCCACGCCTTCGAGCCTCAACGTCAGTTGCAGTCCAGCAGGACGCCTTCGCCACTGGTGTTCCTCCTAATATCTACGCATTTCACCGCTA'</li></ol>\n"
      ],
      "text/latex": [
       "\\begin{enumerate*}\n",
       "\\item 'CCTGTTTGATCCCCACGCTTTCGTGCATCAGTGTCAGTTATAGAAAAGTAAGCAGCCTTCGCAAACGGAGTTCAGCGAGATATCTAAGCATTTCACCGCTA'\n",
       "\\item 'CCTTTTTGCTCCCCACGCCTTCGAGCCTCAACGTCAGTTGCAGTCCAGCAGGACGCCTTCGCCACTGGTGTTCCTCCTAATATCTACGCATTTCACCGCTA'\n",
       "\\end{enumerate*}\n"
      ],
      "text/markdown": [
       "1. 'CCTGTTTGATCCCCACGCTTTCGTGCATCAGTGTCAGTTATAGAAAAGTAAGCAGCCTTCGCAAACGGAGTTCAGCGAGATATCTAAGCATTTCACCGCTA'\n",
       "2. 'CCTTTTTGCTCCCCACGCCTTCGAGCCTCAACGTCAGTTGCAGTCCAGCAGGACGCCTTCGCCACTGGTGTTCCTCCTAATATCTACGCATTTCACCGCTA'\n",
       "\n",
       "\n"
      ],
      "text/plain": [
       "[1] \"CCTGTTTGATCCCCACGCTTTCGTGCATCAGTGTCAGTTATAGAAAAGTAAGCAGCCTTCGCAAACGGAGTTCAGCGAGATATCTAAGCATTTCACCGCTA\"\n",
       "[2] \"CCTTTTTGCTCCCCACGCCTTCGAGCCTCAACGTCAGTTGCAGTCCAGCAGGACGCCTTCGCCACTGGTGTTCCTCCTAATATCTACGCATTTCACCGCTA\""
      ]
     },
     "metadata": {},
     "output_type": "display_data"
    }
   ],
   "source": [
    "filt_stuff_rev[c(2,6)]"
   ]
  },
  {
   "cell_type": "markdown",
   "id": "87000b13-d391-47be-81c7-ca5ccf18e77f",
   "metadata": {
    "tags": []
   },
   "source": [
    "These previously started:\n",
    "\n",
    "```\n",
    "reverse primer:          GGACTACNVGGGTWTCTAAT\n",
    "original rev read 1:     GGACTACTAGGGTTTCTAAT  CCTGTTTGAT\n",
    "original rev read 2:     GGACTACCCGGGTTTCTAAT  CCTTTTTGCT\n",
    "```\n",
    "\n",
    "They each now begin right after the reverse primer 👍"
   ]
  },
  {
   "cell_type": "markdown",
   "id": "5587d6ad-8ccc-4089-9d40-401406690325",
   "metadata": {},
   "source": [
    "So with that confirmation, I'm confident in using that `trimLeft` argument for all our samples to remove the primers (since these were all prepared and sequenced together the same way)."
   ]
  },
  {
   "cell_type": "markdown",
   "id": "fc2bcae6-9822-4223-a33d-2f7a395403e4",
   "metadata": {},
   "source": [
    "## Setting up some variables"
   ]
  },
  {
   "cell_type": "code",
   "execution_count": 34,
   "id": "2f3495f8-ec20-4a88-a796-b68160e3ade4",
   "metadata": {
    "tags": []
   },
   "outputs": [],
   "source": [
    "# making an object that holds all forward read starting files\n",
    "forward_raw_files <- list.files(pattern = \"*R1_raw.fastq.gz\")\n",
    "\n",
    "# making an object that holds all reverse read starting file\n",
    "reverse_raw_files <- list.files(pattern = \"*R2_raw.fastq.gz\")"
   ]
  },
  {
   "cell_type": "code",
   "execution_count": 35,
   "id": "d84bf77b-29d4-4aa3-97cc-d56b79b559e6",
   "metadata": {
    "tags": []
   },
   "outputs": [
    {
     "data": {
      "text/html": [
       "<style>\n",
       ".list-inline {list-style: none; margin:0; padding: 0}\n",
       ".list-inline>li {display: inline-block}\n",
       ".list-inline>li:not(:last-child)::after {content: \"\\00b7\"; padding: 0 .5ex}\n",
       "</style>\n",
       "<ol class=list-inline><li>'F10_R1_raw.fastq.gz'</li><li>'F3_R1_raw.fastq.gz'</li><li>'F5_R1_raw.fastq.gz'</li><li>'F8_R1_raw.fastq.gz'</li><li>'F9_R1_raw.fastq.gz'</li><li>'G10_R1_raw.fastq.gz'</li><li>'G3_R1_raw.fastq.gz'</li><li>'G5_R1_raw.fastq.gz'</li><li>'G8_R1_raw.fastq.gz'</li><li>'G9_R1_raw.fastq.gz'</li></ol>\n"
      ],
      "text/latex": [
       "\\begin{enumerate*}\n",
       "\\item 'F10\\_R1\\_raw.fastq.gz'\n",
       "\\item 'F3\\_R1\\_raw.fastq.gz'\n",
       "\\item 'F5\\_R1\\_raw.fastq.gz'\n",
       "\\item 'F8\\_R1\\_raw.fastq.gz'\n",
       "\\item 'F9\\_R1\\_raw.fastq.gz'\n",
       "\\item 'G10\\_R1\\_raw.fastq.gz'\n",
       "\\item 'G3\\_R1\\_raw.fastq.gz'\n",
       "\\item 'G5\\_R1\\_raw.fastq.gz'\n",
       "\\item 'G8\\_R1\\_raw.fastq.gz'\n",
       "\\item 'G9\\_R1\\_raw.fastq.gz'\n",
       "\\end{enumerate*}\n"
      ],
      "text/markdown": [
       "1. 'F10_R1_raw.fastq.gz'\n",
       "2. 'F3_R1_raw.fastq.gz'\n",
       "3. 'F5_R1_raw.fastq.gz'\n",
       "4. 'F8_R1_raw.fastq.gz'\n",
       "5. 'F9_R1_raw.fastq.gz'\n",
       "6. 'G10_R1_raw.fastq.gz'\n",
       "7. 'G3_R1_raw.fastq.gz'\n",
       "8. 'G5_R1_raw.fastq.gz'\n",
       "9. 'G8_R1_raw.fastq.gz'\n",
       "10. 'G9_R1_raw.fastq.gz'\n",
       "\n",
       "\n"
      ],
      "text/plain": [
       " [1] \"F10_R1_raw.fastq.gz\" \"F3_R1_raw.fastq.gz\"  \"F5_R1_raw.fastq.gz\" \n",
       " [4] \"F8_R1_raw.fastq.gz\"  \"F9_R1_raw.fastq.gz\"  \"G10_R1_raw.fastq.gz\"\n",
       " [7] \"G3_R1_raw.fastq.gz\"  \"G5_R1_raw.fastq.gz\"  \"G8_R1_raw.fastq.gz\" \n",
       "[10] \"G9_R1_raw.fastq.gz\" "
      ]
     },
     "metadata": {},
     "output_type": "display_data"
    }
   ],
   "source": [
    "forward_raw_files"
   ]
  },
  {
   "cell_type": "code",
   "execution_count": 36,
   "id": "62341822-6796-4f58-8382-36306388a269",
   "metadata": {
    "tags": []
   },
   "outputs": [
    {
     "data": {
      "text/html": [
       "<style>\n",
       ".list-inline {list-style: none; margin:0; padding: 0}\n",
       ".list-inline>li {display: inline-block}\n",
       ".list-inline>li:not(:last-child)::after {content: \"\\00b7\"; padding: 0 .5ex}\n",
       "</style>\n",
       "<ol class=list-inline><li>'F10_R2_raw.fastq.gz'</li><li>'F3_R2_raw.fastq.gz'</li><li>'F5_R2_raw.fastq.gz'</li><li>'F8_R2_raw.fastq.gz'</li><li>'F9_R2_raw.fastq.gz'</li><li>'G10_R2_raw.fastq.gz'</li><li>'G3_R2_raw.fastq.gz'</li><li>'G5_R2_raw.fastq.gz'</li><li>'G8_R2_raw.fastq.gz'</li><li>'G9_R2_raw.fastq.gz'</li></ol>\n"
      ],
      "text/latex": [
       "\\begin{enumerate*}\n",
       "\\item 'F10\\_R2\\_raw.fastq.gz'\n",
       "\\item 'F3\\_R2\\_raw.fastq.gz'\n",
       "\\item 'F5\\_R2\\_raw.fastq.gz'\n",
       "\\item 'F8\\_R2\\_raw.fastq.gz'\n",
       "\\item 'F9\\_R2\\_raw.fastq.gz'\n",
       "\\item 'G10\\_R2\\_raw.fastq.gz'\n",
       "\\item 'G3\\_R2\\_raw.fastq.gz'\n",
       "\\item 'G5\\_R2\\_raw.fastq.gz'\n",
       "\\item 'G8\\_R2\\_raw.fastq.gz'\n",
       "\\item 'G9\\_R2\\_raw.fastq.gz'\n",
       "\\end{enumerate*}\n"
      ],
      "text/markdown": [
       "1. 'F10_R2_raw.fastq.gz'\n",
       "2. 'F3_R2_raw.fastq.gz'\n",
       "3. 'F5_R2_raw.fastq.gz'\n",
       "4. 'F8_R2_raw.fastq.gz'\n",
       "5. 'F9_R2_raw.fastq.gz'\n",
       "6. 'G10_R2_raw.fastq.gz'\n",
       "7. 'G3_R2_raw.fastq.gz'\n",
       "8. 'G5_R2_raw.fastq.gz'\n",
       "9. 'G8_R2_raw.fastq.gz'\n",
       "10. 'G9_R2_raw.fastq.gz'\n",
       "\n",
       "\n"
      ],
      "text/plain": [
       " [1] \"F10_R2_raw.fastq.gz\" \"F3_R2_raw.fastq.gz\"  \"F5_R2_raw.fastq.gz\" \n",
       " [4] \"F8_R2_raw.fastq.gz\"  \"F9_R2_raw.fastq.gz\"  \"G10_R2_raw.fastq.gz\"\n",
       " [7] \"G3_R2_raw.fastq.gz\"  \"G5_R2_raw.fastq.gz\"  \"G8_R2_raw.fastq.gz\" \n",
       "[10] \"G9_R2_raw.fastq.gz\" "
      ]
     },
     "metadata": {},
     "output_type": "display_data"
    }
   ],
   "source": [
    "reverse_raw_files"
   ]
  },
  {
   "cell_type": "code",
   "execution_count": 37,
   "id": "73ca8bc2-b6af-4ee3-9b22-d6b0ab853ba9",
   "metadata": {
    "tags": []
   },
   "outputs": [],
   "source": [
    "# getting an object just holding unique sample names\n",
    "sample_names <- gsub(x = forward_files, pattern = \"_.*\", replacement = \"\")"
   ]
  },
  {
   "cell_type": "code",
   "execution_count": 38,
   "id": "028e64c0-2f10-4fc9-be67-41c49fc677ec",
   "metadata": {
    "tags": []
   },
   "outputs": [
    {
     "data": {
      "text/html": [
       "<style>\n",
       ".list-inline {list-style: none; margin:0; padding: 0}\n",
       ".list-inline>li {display: inline-block}\n",
       ".list-inline>li:not(:last-child)::after {content: \"\\00b7\"; padding: 0 .5ex}\n",
       "</style>\n",
       "<ol class=list-inline><li>'F10'</li><li>'F3'</li><li>'F5'</li><li>'F8'</li><li>'F9'</li><li>'G10'</li><li>'G3'</li><li>'G5'</li><li>'G8'</li><li>'G9'</li></ol>\n"
      ],
      "text/latex": [
       "\\begin{enumerate*}\n",
       "\\item 'F10'\n",
       "\\item 'F3'\n",
       "\\item 'F5'\n",
       "\\item 'F8'\n",
       "\\item 'F9'\n",
       "\\item 'G10'\n",
       "\\item 'G3'\n",
       "\\item 'G5'\n",
       "\\item 'G8'\n",
       "\\item 'G9'\n",
       "\\end{enumerate*}\n"
      ],
      "text/markdown": [
       "1. 'F10'\n",
       "2. 'F3'\n",
       "3. 'F5'\n",
       "4. 'F8'\n",
       "5. 'F9'\n",
       "6. 'G10'\n",
       "7. 'G3'\n",
       "8. 'G5'\n",
       "9. 'G8'\n",
       "10. 'G9'\n",
       "\n",
       "\n"
      ],
      "text/plain": [
       " [1] \"F10\" \"F3\"  \"F5\"  \"F8\"  \"F9\"  \"G10\" \"G3\"  \"G5\"  \"G8\"  \"G9\" "
      ]
     },
     "metadata": {},
     "output_type": "display_data"
    }
   ],
   "source": [
    "sample_names"
   ]
  },
  {
   "cell_type": "code",
   "execution_count": 41,
   "id": "6ec4e349-cca4-4315-83a2-dbd64785b924",
   "metadata": {
    "tags": []
   },
   "outputs": [],
   "source": [
    "# making an object holding what will be the output trimmed/filtered forward files\n",
    "forward_filtered_files <- paste0(sample_names, \"_R1_filtered.fastq.gz\")\n",
    "\n",
    "# making an object holding what will be the output trimmed/filtered reverse files\n",
    "reverse_filtered_files <- paste0(sample_names, \"_R2_filtered.fastq.gz\")"
   ]
  },
  {
   "cell_type": "code",
   "execution_count": 42,
   "id": "15268ff4-d66d-4814-83ed-85335d3709b8",
   "metadata": {
    "tags": []
   },
   "outputs": [
    {
     "data": {
      "text/html": [
       "<style>\n",
       ".list-inline {list-style: none; margin:0; padding: 0}\n",
       ".list-inline>li {display: inline-block}\n",
       ".list-inline>li:not(:last-child)::after {content: \"\\00b7\"; padding: 0 .5ex}\n",
       "</style>\n",
       "<ol class=list-inline><li>'F10_R1_filtered.fastq.gz'</li><li>'F3_R1_filtered.fastq.gz'</li><li>'F5_R1_filtered.fastq.gz'</li><li>'F8_R1_filtered.fastq.gz'</li><li>'F9_R1_filtered.fastq.gz'</li><li>'G10_R1_filtered.fastq.gz'</li><li>'G3_R1_filtered.fastq.gz'</li><li>'G5_R1_filtered.fastq.gz'</li><li>'G8_R1_filtered.fastq.gz'</li><li>'G9_R1_filtered.fastq.gz'</li></ol>\n"
      ],
      "text/latex": [
       "\\begin{enumerate*}\n",
       "\\item 'F10\\_R1\\_filtered.fastq.gz'\n",
       "\\item 'F3\\_R1\\_filtered.fastq.gz'\n",
       "\\item 'F5\\_R1\\_filtered.fastq.gz'\n",
       "\\item 'F8\\_R1\\_filtered.fastq.gz'\n",
       "\\item 'F9\\_R1\\_filtered.fastq.gz'\n",
       "\\item 'G10\\_R1\\_filtered.fastq.gz'\n",
       "\\item 'G3\\_R1\\_filtered.fastq.gz'\n",
       "\\item 'G5\\_R1\\_filtered.fastq.gz'\n",
       "\\item 'G8\\_R1\\_filtered.fastq.gz'\n",
       "\\item 'G9\\_R1\\_filtered.fastq.gz'\n",
       "\\end{enumerate*}\n"
      ],
      "text/markdown": [
       "1. 'F10_R1_filtered.fastq.gz'\n",
       "2. 'F3_R1_filtered.fastq.gz'\n",
       "3. 'F5_R1_filtered.fastq.gz'\n",
       "4. 'F8_R1_filtered.fastq.gz'\n",
       "5. 'F9_R1_filtered.fastq.gz'\n",
       "6. 'G10_R1_filtered.fastq.gz'\n",
       "7. 'G3_R1_filtered.fastq.gz'\n",
       "8. 'G5_R1_filtered.fastq.gz'\n",
       "9. 'G8_R1_filtered.fastq.gz'\n",
       "10. 'G9_R1_filtered.fastq.gz'\n",
       "\n",
       "\n"
      ],
      "text/plain": [
       " [1] \"F10_R1_filtered.fastq.gz\" \"F3_R1_filtered.fastq.gz\" \n",
       " [3] \"F5_R1_filtered.fastq.gz\"  \"F8_R1_filtered.fastq.gz\" \n",
       " [5] \"F9_R1_filtered.fastq.gz\"  \"G10_R1_filtered.fastq.gz\"\n",
       " [7] \"G3_R1_filtered.fastq.gz\"  \"G5_R1_filtered.fastq.gz\" \n",
       " [9] \"G8_R1_filtered.fastq.gz\"  \"G9_R1_filtered.fastq.gz\" "
      ]
     },
     "metadata": {},
     "output_type": "display_data"
    }
   ],
   "source": [
    "forward_filtered_files"
   ]
  },
  {
   "cell_type": "code",
   "execution_count": 44,
   "id": "2a1731b8-8a2b-4793-91af-a63a31c4b93d",
   "metadata": {
    "tags": []
   },
   "outputs": [
    {
     "data": {
      "text/html": [
       "<style>\n",
       ".list-inline {list-style: none; margin:0; padding: 0}\n",
       ".list-inline>li {display: inline-block}\n",
       ".list-inline>li:not(:last-child)::after {content: \"\\00b7\"; padding: 0 .5ex}\n",
       "</style>\n",
       "<ol class=list-inline><li>'F10_R2_filtered.fastq.gz'</li><li>'F3_R2_filtered.fastq.gz'</li><li>'F5_R2_filtered.fastq.gz'</li><li>'F8_R2_filtered.fastq.gz'</li><li>'F9_R2_filtered.fastq.gz'</li><li>'G10_R2_filtered.fastq.gz'</li><li>'G3_R2_filtered.fastq.gz'</li><li>'G5_R2_filtered.fastq.gz'</li><li>'G8_R2_filtered.fastq.gz'</li><li>'G9_R2_filtered.fastq.gz'</li></ol>\n"
      ],
      "text/latex": [
       "\\begin{enumerate*}\n",
       "\\item 'F10\\_R2\\_filtered.fastq.gz'\n",
       "\\item 'F3\\_R2\\_filtered.fastq.gz'\n",
       "\\item 'F5\\_R2\\_filtered.fastq.gz'\n",
       "\\item 'F8\\_R2\\_filtered.fastq.gz'\n",
       "\\item 'F9\\_R2\\_filtered.fastq.gz'\n",
       "\\item 'G10\\_R2\\_filtered.fastq.gz'\n",
       "\\item 'G3\\_R2\\_filtered.fastq.gz'\n",
       "\\item 'G5\\_R2\\_filtered.fastq.gz'\n",
       "\\item 'G8\\_R2\\_filtered.fastq.gz'\n",
       "\\item 'G9\\_R2\\_filtered.fastq.gz'\n",
       "\\end{enumerate*}\n"
      ],
      "text/markdown": [
       "1. 'F10_R2_filtered.fastq.gz'\n",
       "2. 'F3_R2_filtered.fastq.gz'\n",
       "3. 'F5_R2_filtered.fastq.gz'\n",
       "4. 'F8_R2_filtered.fastq.gz'\n",
       "5. 'F9_R2_filtered.fastq.gz'\n",
       "6. 'G10_R2_filtered.fastq.gz'\n",
       "7. 'G3_R2_filtered.fastq.gz'\n",
       "8. 'G5_R2_filtered.fastq.gz'\n",
       "9. 'G8_R2_filtered.fastq.gz'\n",
       "10. 'G9_R2_filtered.fastq.gz'\n",
       "\n",
       "\n"
      ],
      "text/plain": [
       " [1] \"F10_R2_filtered.fastq.gz\" \"F3_R2_filtered.fastq.gz\" \n",
       " [3] \"F5_R2_filtered.fastq.gz\"  \"F8_R2_filtered.fastq.gz\" \n",
       " [5] \"F9_R2_filtered.fastq.gz\"  \"G10_R2_filtered.fastq.gz\"\n",
       " [7] \"G3_R2_filtered.fastq.gz\"  \"G5_R2_filtered.fastq.gz\" \n",
       " [9] \"G8_R2_filtered.fastq.gz\"  \"G9_R2_filtered.fastq.gz\" "
      ]
     },
     "metadata": {},
     "output_type": "display_data"
    }
   ],
   "source": [
    "reverse_filtered_files"
   ]
  },
  {
   "cell_type": "markdown",
   "id": "09e4be0e-6b57-429a-9472-692b60bd746f",
   "metadata": {},
   "source": [
    "## Quality trimming/filtering (including removing primers)"
   ]
  },
  {
   "cell_type": "code",
   "execution_count": 45,
   "id": "45f5c2fa-ccb6-49fd-8c80-0b3b5241d19b",
   "metadata": {
    "tags": []
   },
   "outputs": [],
   "source": [
    "filtered_out <- filterAndTrim(fwd = forward_raw_files, \n",
    "                              rev = reverse_raw_files, \n",
    "                              filt = forward_filtered_files, \n",
    "                              filt.rev = reverse_filtered_files, \n",
    "                              trimLeft = c(19, 20), \n",
    "                              maxEE = c(2,2))"
   ]
  },
  {
   "cell_type": "markdown",
   "id": "4c125680-7529-410c-959f-f7fa55a2e1f9",
   "metadata": {},
   "source": [
    "**Switch back to amplicon-QC.ipynb in order to run fastqc/multiqc and look at these**"
   ]
  },
  {
   "cell_type": "markdown",
   "id": "661dcfc4-30d2-49fa-821d-621e1c31fe18",
   "metadata": {},
   "source": [
    "## Generate error model of data"
   ]
  },
  {
   "cell_type": "code",
   "execution_count": 46,
   "id": "7efd064e-504c-4b2a-96ff-d7ea1e1695d1",
   "metadata": {
    "tags": []
   },
   "outputs": [
    {
     "name": "stdout",
     "output_type": "stream",
     "text": [
      "96596166 total bases in 721228 reads from 10 samples will be used for learning the error rates.\n",
      "95882808 total bases in 721228 reads from 10 samples will be used for learning the error rates.\n"
     ]
    }
   ],
   "source": [
    "err_forward_reads <- learnErrors(forward_filtered_files, multithread = 4)\n",
    "err_reverse_reads <- learnErrors(reverse_filtered_files, multithread = 4)"
   ]
  },
  {
   "cell_type": "markdown",
   "id": "14759e61-444d-4661-b1ed-537f5d6bd121",
   "metadata": {},
   "source": [
    "### Inferring sequences"
   ]
  },
  {
   "cell_type": "code",
   "execution_count": 47,
   "id": "747df00c-4e3d-4cd8-bdad-5a95de695299",
   "metadata": {
    "tags": []
   },
   "outputs": [
    {
     "name": "stdout",
     "output_type": "stream",
     "text": [
      "Sample 1 - 72133 reads in 15758 unique sequences.\n",
      "Sample 2 - 76179 reads in 15353 unique sequences.\n",
      "Sample 3 - 76458 reads in 15540 unique sequences.\n",
      "Sample 4 - 72963 reads in 14768 unique sequences.\n",
      "Sample 5 - 67127 reads in 14067 unique sequences.\n",
      "Sample 6 - 64008 reads in 12385 unique sequences.\n",
      "Sample 7 - 75799 reads in 16263 unique sequences.\n",
      "Sample 8 - 78005 reads in 16752 unique sequences.\n",
      "Sample 9 - 76973 reads in 14572 unique sequences.\n",
      "Sample 10 - 61583 reads in 12296 unique sequences.\n",
      "\n",
      "   selfConsist step 2Sample 1 - 72133 reads in 16623 unique sequences.\n",
      "Sample 2 - 76179 reads in 15967 unique sequences.\n",
      "Sample 3 - 76458 reads in 16094 unique sequences.\n",
      "Sample 4 - 72963 reads in 15731 unique sequences.\n",
      "Sample 5 - 67127 reads in 14718 unique sequences.\n",
      "Sample 6 - 64008 reads in 12618 unique sequences.\n",
      "Sample 7 - 75799 reads in 16688 unique sequences.\n",
      "Sample 8 - 78005 reads in 17051 unique sequences.\n",
      "Sample 9 - 76973 reads in 15213 unique sequences.\n",
      "Sample 10 - 61583 reads in 12741 unique sequences.\n",
      "\n",
      "   selfConsist step 2"
     ]
    }
   ],
   "source": [
    "forward_seqs <- dada(forward_filtered_files, err = err_forward_reads, pool = \"pseudo\", multithread = 4)\n",
    "reverse_seqs <- dada(reverse_filtered_files, err = err_reverse_reads, pool = \"pseudo\", multithread = 4)"
   ]
  },
  {
   "cell_type": "markdown",
   "id": "334c0550-ecc6-454c-8781-962275268ef3",
   "metadata": {},
   "source": [
    "### Merging forward and reverse reads"
   ]
  },
  {
   "cell_type": "code",
   "execution_count": 50,
   "id": "c664a3c1-1c2b-4257-96f9-17b3aef11504",
   "metadata": {
    "tags": []
   },
   "outputs": [],
   "source": [
    "merged_amplicons <- mergePairs(dadaF = forward_seqs, derepF = forward_filtered_files, \n",
    "                               dadaR = reverse_seqs, derepR = reverse_filtered_files)"
   ]
  },
  {
   "cell_type": "markdown",
   "id": "57f93c4d-d48d-47a0-9645-119f4ccde3eb",
   "metadata": {},
   "source": [
    "### Generating sequence table with counts per sample"
   ]
  },
  {
   "cell_type": "code",
   "execution_count": 67,
   "id": "a3cdfee5-4c0c-485e-99fe-883a052eed70",
   "metadata": {
    "tags": []
   },
   "outputs": [],
   "source": [
    "seqtab <- makeSequenceTable(merged_amplicons)"
   ]
  },
  {
   "cell_type": "markdown",
   "id": "459dabe0-dad6-4153-b7fc-4b5d27e35f2a",
   "metadata": {
    "tags": []
   },
   "source": [
    "### Removing putative chimeras"
   ]
  },
  {
   "cell_type": "code",
   "execution_count": 70,
   "id": "c81d8c70-cccb-46e9-ae6c-2cf875bd7e60",
   "metadata": {
    "tags": []
   },
   "outputs": [],
   "source": [
    "seqtab.nochim <- removeBimeraDenovo(seqtab, multithread = 4)"
   ]
  },
  {
   "cell_type": "code",
   "execution_count": 78,
   "id": "5a16016c-9c99-4072-9630-a08d77fc60f1",
   "metadata": {
    "tags": []
   },
   "outputs": [
    {
     "data": {
      "text/html": [
       "<style>\n",
       ".list-inline {list-style: none; margin:0; padding: 0}\n",
       ".list-inline>li {display: inline-block}\n",
       ".list-inline>li:not(:last-child)::after {content: \"\\00b7\"; padding: 0 .5ex}\n",
       "</style>\n",
       "<ol class=list-inline><li>10</li><li>1215</li></ol>\n"
      ],
      "text/latex": [
       "\\begin{enumerate*}\n",
       "\\item 10\n",
       "\\item 1215\n",
       "\\end{enumerate*}\n"
      ],
      "text/markdown": [
       "1. 10\n",
       "2. 1215\n",
       "\n",
       "\n"
      ],
      "text/plain": [
       "[1]   10 1215"
      ]
     },
     "metadata": {},
     "output_type": "display_data"
    }
   ],
   "source": [
    "dim(seqtab)"
   ]
  },
  {
   "cell_type": "code",
   "execution_count": 79,
   "id": "21c4ead2-16a7-47a4-b308-fdc06dfd5ad8",
   "metadata": {
    "tags": []
   },
   "outputs": [
    {
     "data": {
      "text/html": [
       "<style>\n",
       ".list-inline {list-style: none; margin:0; padding: 0}\n",
       ".list-inline>li {display: inline-block}\n",
       ".list-inline>li:not(:last-child)::after {content: \"\\00b7\"; padding: 0 .5ex}\n",
       "</style>\n",
       "<ol class=list-inline><li>10</li><li>106</li></ol>\n"
      ],
      "text/latex": [
       "\\begin{enumerate*}\n",
       "\\item 10\n",
       "\\item 106\n",
       "\\end{enumerate*}\n"
      ],
      "text/markdown": [
       "1. 10\n",
       "2. 106\n",
       "\n",
       "\n"
      ],
      "text/plain": [
       "[1]  10 106"
      ]
     },
     "metadata": {},
     "output_type": "display_data"
    }
   ],
   "source": [
    "dim(seqtab.nochim)"
   ]
  },
  {
   "cell_type": "code",
   "execution_count": 71,
   "id": "e16e067c-d711-40a8-af8a-ee02e5ab51ec",
   "metadata": {
    "tags": []
   },
   "outputs": [
    {
     "data": {
      "text/html": [
       "94.3204380258096"
      ],
      "text/latex": [
       "94.3204380258096"
      ],
      "text/markdown": [
       "94.3204380258096"
      ],
      "text/plain": [
       "[1] 94.32044"
      ]
     },
     "metadata": {},
     "output_type": "display_data"
    }
   ],
   "source": [
    "sum(seqtab.nochim) / sum(seqtab) * 100"
   ]
  },
  {
   "cell_type": "markdown",
   "id": "69a7bc4e-7c69-4b9c-8e2d-508c0905f82b",
   "metadata": {},
   "source": [
    "We retained 94% of the initial sequences."
   ]
  },
  {
   "cell_type": "markdown",
   "id": "c43a107f-ccd1-47ba-8f17-829e85710a9f",
   "metadata": {
    "tags": []
   },
   "source": [
    "### Assigning taxonomy"
   ]
  },
  {
   "cell_type": "code",
   "execution_count": 62,
   "id": "f8c8ccdd-6cad-4ff5-939d-caecc935a513",
   "metadata": {
    "tags": []
   },
   "outputs": [
    {
     "name": "stderr",
     "output_type": "stream",
     "text": [
      "Loading required package: Biostrings\n",
      "\n",
      "Loading required package: BiocGenerics\n",
      "\n",
      "Loading required package: parallel\n",
      "\n",
      "\n",
      "Attaching package: ‘BiocGenerics’\n",
      "\n",
      "\n",
      "The following objects are masked from ‘package:parallel’:\n",
      "\n",
      "    clusterApply, clusterApplyLB, clusterCall, clusterEvalQ,\n",
      "    clusterExport, clusterMap, parApply, parCapply, parLapply,\n",
      "    parLapplyLB, parRapply, parSapply, parSapplyLB\n",
      "\n",
      "\n",
      "The following objects are masked from ‘package:dplyr’:\n",
      "\n",
      "    combine, intersect, setdiff, union\n",
      "\n",
      "\n",
      "The following objects are masked from ‘package:stats’:\n",
      "\n",
      "    IQR, mad, sd, var, xtabs\n",
      "\n",
      "\n",
      "The following objects are masked from ‘package:base’:\n",
      "\n",
      "    anyDuplicated, append, as.data.frame, basename, cbind, colnames,\n",
      "    dirname, do.call, duplicated, eval, evalq, Filter, Find, get, grep,\n",
      "    grepl, intersect, is.unsorted, lapply, Map, mapply, match, mget,\n",
      "    order, paste, pmax, pmax.int, pmin, pmin.int, Position, rank,\n",
      "    rbind, Reduce, rownames, sapply, setdiff, sort, table, tapply,\n",
      "    union, unique, unsplit, which.max, which.min\n",
      "\n",
      "\n",
      "Loading required package: S4Vectors\n",
      "\n",
      "Loading required package: stats4\n",
      "\n",
      "\n",
      "Attaching package: ‘S4Vectors’\n",
      "\n",
      "\n",
      "The following objects are masked from ‘package:dplyr’:\n",
      "\n",
      "    first, rename\n",
      "\n",
      "\n",
      "The following object is masked from ‘package:tidyr’:\n",
      "\n",
      "    expand\n",
      "\n",
      "\n",
      "The following objects are masked from ‘package:base’:\n",
      "\n",
      "    expand.grid, I, unname\n",
      "\n",
      "\n",
      "Loading required package: IRanges\n",
      "\n",
      "\n",
      "Attaching package: ‘IRanges’\n",
      "\n",
      "\n",
      "The following objects are masked from ‘package:dplyr’:\n",
      "\n",
      "    collapse, desc, slice\n",
      "\n",
      "\n",
      "The following object is masked from ‘package:purrr’:\n",
      "\n",
      "    reduce\n",
      "\n",
      "\n",
      "Loading required package: XVector\n",
      "\n",
      "\n",
      "Attaching package: ‘XVector’\n",
      "\n",
      "\n",
      "The following object is masked from ‘package:purrr’:\n",
      "\n",
      "    compact\n",
      "\n",
      "\n",
      "Loading required package: GenomeInfoDb\n",
      "\n",
      "\n",
      "Attaching package: ‘Biostrings’\n",
      "\n",
      "\n",
      "The following object is masked from ‘package:base’:\n",
      "\n",
      "    strsplit\n",
      "\n",
      "\n",
      "Loading required package: RSQLite\n",
      "\n",
      "Warning message:\n",
      "“package ‘RSQLite’ was built under R version 4.1.3”\n"
     ]
    }
   ],
   "source": [
    "# loading library used for taxonomy assignment\n",
    "library(DECIPHER)"
   ]
  },
  {
   "cell_type": "code",
   "execution_count": 72,
   "id": "50ca57c4-0495-4495-9d5a-1cabb2c0b69c",
   "metadata": {
    "tags": []
   },
   "outputs": [],
   "source": [
    "# creating the type of object needed\n",
    "dna <- DNAStringSet(getSequences(seqtab.nochim))"
   ]
  },
  {
   "cell_type": "code",
   "execution_count": null,
   "id": "291bdb9e-b516-4562-9a20-9c51cfcda63a",
   "metadata": {},
   "outputs": [],
   "source": [
    "# downloading reference\n",
    "download.file(url = \"http://www2.decipher.codes/Classification/TrainingSets/SILVA_SSU_r138_2019.RData\", destfile = \"SILVA_SSU_r138_2019.RData\")"
   ]
  },
  {
   "cell_type": "code",
   "execution_count": 64,
   "id": "5f1b6052-a6e1-4fed-9675-817e96543334",
   "metadata": {
    "tags": []
   },
   "outputs": [],
   "source": [
    "# loading reference\n",
    "load(\"SILVA_SSU_r138_2019.RData\")"
   ]
  },
  {
   "cell_type": "code",
   "execution_count": 65,
   "id": "c4189374-c862-4463-9619-217c00b8deda",
   "metadata": {
    "tags": []
   },
   "outputs": [
    {
     "name": "stdout",
     "output_type": "stream",
     "text": [
      "================================================================================\n",
      "\n",
      "Time difference of 60.31 secs\n",
      "\n"
     ]
    }
   ],
   "source": [
    "# classifying sequences\n",
    "tax_info <- IdTaxa(dna, trainingSet = trainingSet, strand = \"both\", processors = 4)"
   ]
  },
  {
   "cell_type": "code",
   "execution_count": 66,
   "id": "f1c8225f-335c-4556-a81f-725045815c66",
   "metadata": {
    "tags": []
   },
   "outputs": [
    {
     "data": {
      "text/plain": [
       "  A test set of class 'Taxa' with length 106\n",
       "      confidence taxon\n",
       "  [1]       100% Root; Bacteria; Bacteroidota; Bacteroidia; Bacteroidales; Ta...\n",
       "  [2]        94% Root; Bacteria; Firmicutes; Bacilli; Erysipelotrichales; Ery...\n",
       "  [3]        68% Root; Bacteria; Firmicutes; Clostridia; Oscillospirales; Rum...\n",
       "  [4]        99% Root; Bacteria; Firmicutes; Clostridia; Lachnospirales; Lach...\n",
       "  [5]        63% Root; Bacteria; Firmicutes; Clostridia; Lachnospirales; Lach...\n",
       "  ...        ... ...\n",
       "[102]        97% Root; Bacteria; Proteobacteria; Alphaproteobacteria; Rickett...\n",
       "[103]       100% Root; Bacteria; Fusobacteriota; Fusobacteriia; Fusobacterial...\n",
       "[104]       100% Root; Bacteria; Proteobacteria; Gammaproteobacteria; Pseudom...\n",
       "[105]        63% Root; Bacteria; Firmicutes; Bacilli; Paenibacillales; Paenib...\n",
       "[106]        77% Root; Bacteria; Proteobacteria; Alphaproteobacteria; Rhizobi..."
      ]
     },
     "metadata": {},
     "output_type": "display_data"
    }
   ],
   "source": [
    "tax_info"
   ]
  },
  {
   "cell_type": "markdown",
   "id": "f46a061f-fa00-41f4-947d-933a915402cb",
   "metadata": {},
   "source": [
    "### Generating and writing standard outputs"
   ]
  },
  {
   "cell_type": "code",
   "execution_count": 73,
   "id": "ebf219e0-cb12-4eb3-a86b-0e183f328474",
   "metadata": {
    "tags": []
   },
   "outputs": [],
   "source": [
    "# giving sequences more manageable names\n",
    "asv_seqs <- colnames(seqtab.nochim)\n",
    "asv_headers <- vector(dim(seqtab.nochim)[2], mode = \"character\")\n",
    "\n",
    "for (i in 1:dim(seqtab.nochim)[2]) {\n",
    "    asv_headers[i] <- paste(\">ASV\", i, sep = \"_\")\n",
    "}"
   ]
  },
  {
   "cell_type": "code",
   "execution_count": 74,
   "id": "7b68180c-5948-425a-a442-ebbe93b6f895",
   "metadata": {
    "tags": []
   },
   "outputs": [],
   "source": [
    "# making then writing out a fasta of final ASV sequences\n",
    "asv_fasta <- c(rbind(asv_headers, asv_seqs))\n",
    "write(asv_fasta, \"ASVs.fasta\")"
   ]
  },
  {
   "cell_type": "code",
   "execution_count": 75,
   "id": "6c26a741-1226-4a89-9878-b47bb13592f0",
   "metadata": {
    "tags": []
   },
   "outputs": [],
   "source": [
    "# making and writing out a count table\n",
    "asv_tab <- t(seqtab.nochim)\n",
    "row.names(asv_tab) <- sub(\">\", \"\", asv_headers)\n",
    "\n",
    "write.table(asv_tab, \"ASV_counts.tsv\", sep = \"\\t\", quote = F, col.names = NA)"
   ]
  },
  {
   "cell_type": "code",
   "execution_count": 76,
   "id": "8eed6081-dc3b-4dcc-b8a9-d7b95e7448b6",
   "metadata": {
    "tags": []
   },
   "outputs": [],
   "source": [
    "# making and writing out a table of taxonomy, with any unclassified as \"NA\"\n",
    "ranks <- c(\"domain\", \"phylum\", \"class\", \"order\", \"family\", \"genus\", \"species\")\n",
    "\n",
    "tax_tab <- t(sapply(tax_info, function(x) {\n",
    "    m <- match(ranks, x$rank)\n",
    "    taxa <- x$taxon[m]\n",
    "    taxa[startsWith(taxa, \"unclassified_\")] <- NA\n",
    "    taxa\n",
    "}))\n",
    "\n",
    "colnames(tax_tab) <- ranks\n",
    "rownames(tax_tab) <- gsub(pattern = \">\", replacement = \"\", x = asv_headers)\n",
    "\n",
    "write.table(tax_tab, \"ASV_taxonomy.tsv\", sep = \"\\t\", quote = F, col.names = NA)"
   ]
  },
  {
   "cell_type": "code",
   "execution_count": 77,
   "id": "7b205fdb-9ab6-4e82-9a10-6362ea3b292e",
   "metadata": {
    "tags": []
   },
   "outputs": [
    {
     "data": {
      "text/html": [
       "<table class=\"dataframe\">\n",
       "<caption>A matrix: 106 × 7 of type chr</caption>\n",
       "<thead>\n",
       "\t<tr><th></th><th scope=col>domain</th><th scope=col>phylum</th><th scope=col>class</th><th scope=col>order</th><th scope=col>family</th><th scope=col>genus</th><th scope=col>species</th></tr>\n",
       "</thead>\n",
       "<tbody>\n",
       "\t<tr><th scope=row>ASV_1</th><td>Bacteria</td><td>Bacteroidota    </td><td>Bacteroidia    </td><td>Bacteroidales                      </td><td>Tannerellaceae           </td><td>Parabacteroides             </td><td>NA</td></tr>\n",
       "\t<tr><th scope=row>ASV_2</th><td>Bacteria</td><td>Firmicutes      </td><td>Bacilli        </td><td>Erysipelotrichales                 </td><td>Erysipelatoclostridiaceae</td><td>Erysipelatoclostridium      </td><td>NA</td></tr>\n",
       "\t<tr><th scope=row>ASV_3</th><td>Bacteria</td><td>Firmicutes      </td><td>Clostridia     </td><td>Oscillospirales                    </td><td>Ruminococcaceae          </td><td>Ruminococcus                </td><td>NA</td></tr>\n",
       "\t<tr><th scope=row>ASV_4</th><td>Bacteria</td><td>Firmicutes      </td><td>Clostridia     </td><td>Lachnospirales                     </td><td>Lachnospiraceae          </td><td>NA                          </td><td>NA</td></tr>\n",
       "\t<tr><th scope=row>ASV_5</th><td>Bacteria</td><td>Firmicutes      </td><td>Clostridia     </td><td>Lachnospirales                     </td><td>Lachnospiraceae          </td><td>NA                          </td><td>NA</td></tr>\n",
       "\t<tr><th scope=row>ASV_6</th><td>Bacteria</td><td>Firmicutes      </td><td>Clostridia     </td><td>Lachnospirales                     </td><td>Lachnospiraceae          </td><td>NA                          </td><td>NA</td></tr>\n",
       "\t<tr><th scope=row>ASV_7</th><td>Bacteria</td><td>Firmicutes      </td><td>Clostridia     </td><td>Lachnospirales                     </td><td>Lachnospiraceae          </td><td>NA                          </td><td>NA</td></tr>\n",
       "\t<tr><th scope=row>ASV_8</th><td>Bacteria</td><td>Firmicutes      </td><td>Clostridia     </td><td>Lachnospirales                     </td><td>Lachnospiraceae          </td><td>NA                          </td><td>NA</td></tr>\n",
       "\t<tr><th scope=row>ASV_9</th><td>Bacteria</td><td>Firmicutes      </td><td>Clostridia     </td><td>Lachnospirales                     </td><td>Lachnospiraceae          </td><td>NA                          </td><td>NA</td></tr>\n",
       "\t<tr><th scope=row>ASV_10</th><td>Bacteria</td><td>Firmicutes      </td><td>Bacilli        </td><td>Lactobacillales                    </td><td>Lactobacillaceae         </td><td>Lactobacillus               </td><td>NA</td></tr>\n",
       "\t<tr><th scope=row>ASV_11</th><td>Bacteria</td><td>Firmicutes      </td><td>Clostridia     </td><td>Lachnospirales                     </td><td>Lachnospiraceae          </td><td>NA                          </td><td>NA</td></tr>\n",
       "\t<tr><th scope=row>ASV_12</th><td>Bacteria</td><td>Firmicutes      </td><td>Clostridia     </td><td>Lachnospirales                     </td><td>Lachnospiraceae          </td><td>NA                          </td><td>NA</td></tr>\n",
       "\t<tr><th scope=row>ASV_13</th><td>Bacteria</td><td>Firmicutes      </td><td>Clostridia     </td><td>Lachnospirales                     </td><td>Lachnospiraceae          </td><td>Blautia                     </td><td>NA</td></tr>\n",
       "\t<tr><th scope=row>ASV_14</th><td>Bacteria</td><td>Deferribacterota</td><td>Deferribacteres</td><td>Deferribacterales                  </td><td>Deferribacteraceae       </td><td>Mucispirillum               </td><td>NA</td></tr>\n",
       "\t<tr><th scope=row>ASV_15</th><td>Bacteria</td><td>Firmicutes      </td><td>Clostridia     </td><td>Lachnospirales                     </td><td>Lachnospiraceae          </td><td>Lachnoclostridium           </td><td>NA</td></tr>\n",
       "\t<tr><th scope=row>ASV_16</th><td>Bacteria</td><td>Firmicutes      </td><td>Clostridia     </td><td>Peptostreptococcales-Tissierellales</td><td>Anaerovoracaceae         </td><td>NA                          </td><td>NA</td></tr>\n",
       "\t<tr><th scope=row>ASV_17</th><td>Bacteria</td><td>Firmicutes      </td><td>Clostridia     </td><td>Lachnospirales                     </td><td>Lachnospiraceae          </td><td>NA                          </td><td>NA</td></tr>\n",
       "\t<tr><th scope=row>ASV_18</th><td>Bacteria</td><td>Firmicutes      </td><td>Clostridia     </td><td>Lachnospirales                     </td><td>Lachnospiraceae          </td><td>NA                          </td><td>NA</td></tr>\n",
       "\t<tr><th scope=row>ASV_19</th><td>Bacteria</td><td>Firmicutes      </td><td>NA             </td><td>NA                                 </td><td>NA                       </td><td>NA                          </td><td>NA</td></tr>\n",
       "\t<tr><th scope=row>ASV_20</th><td>Bacteria</td><td>Firmicutes      </td><td>Clostridia     </td><td>Lachnospirales                     </td><td>Lachnospiraceae          </td><td>Lachnoclostridium           </td><td>NA</td></tr>\n",
       "\t<tr><th scope=row>ASV_21</th><td>Bacteria</td><td>Firmicutes      </td><td>Clostridia     </td><td>Oscillospirales                    </td><td>Ruminococcaceae          </td><td>Anaerotruncus               </td><td>NA</td></tr>\n",
       "\t<tr><th scope=row>ASV_22</th><td>Bacteria</td><td>Firmicutes      </td><td>Bacilli        </td><td>Erysipelotrichales                 </td><td>Erysipelatoclostridiaceae</td><td>NA                          </td><td>NA</td></tr>\n",
       "\t<tr><th scope=row>ASV_23</th><td>Bacteria</td><td>Firmicutes      </td><td>Clostridia     </td><td>Oscillospirales                    </td><td>Oscillospiraceae         </td><td>Flavonifractor              </td><td>NA</td></tr>\n",
       "\t<tr><th scope=row>ASV_24</th><td>Bacteria</td><td>Firmicutes      </td><td>Clostridia     </td><td>Lachnospirales                     </td><td>Lachnospiraceae          </td><td>Lachnospiraceae FCS020 group</td><td>NA</td></tr>\n",
       "\t<tr><th scope=row>ASV_25</th><td>Bacteria</td><td>Firmicutes      </td><td>Clostridia     </td><td>Lachnospirales                     </td><td>Lachnospiraceae          </td><td>NA                          </td><td>NA</td></tr>\n",
       "\t<tr><th scope=row>ASV_26</th><td>Bacteria</td><td>Firmicutes      </td><td>Clostridia     </td><td>NA                                 </td><td>NA                       </td><td>NA                          </td><td>NA</td></tr>\n",
       "\t<tr><th scope=row>ASV_27</th><td>Bacteria</td><td>Firmicutes      </td><td>Clostridia     </td><td>Oscillospirales                    </td><td>Ruminococcaceae          </td><td>NA                          </td><td>NA</td></tr>\n",
       "\t<tr><th scope=row>ASV_28</th><td>Bacteria</td><td>Firmicutes      </td><td>Clostridia     </td><td>Peptostreptococcales-Tissierellales</td><td>Peptostreptococcaceae    </td><td>Clostridioides              </td><td>NA</td></tr>\n",
       "\t<tr><th scope=row>ASV_29</th><td>Bacteria</td><td>Firmicutes      </td><td>Bacilli        </td><td>Lactobacillales                    </td><td>Lactobacillaceae         </td><td>Lactobacillus               </td><td>NA</td></tr>\n",
       "\t<tr><th scope=row>ASV_30</th><td>Bacteria</td><td>Firmicutes      </td><td>Clostridia     </td><td>Lachnospirales                     </td><td>Lachnospiraceae          </td><td>NA                          </td><td>NA</td></tr>\n",
       "\t<tr><th scope=row>⋮</th><td>⋮</td><td>⋮</td><td>⋮</td><td>⋮</td><td>⋮</td><td>⋮</td><td>⋮</td></tr>\n",
       "\t<tr><th scope=row>ASV_77</th><td>Bacteria</td><td>Bacteroidota  </td><td>Bacteroidia        </td><td>Bacteroidales                      </td><td>Tannerellaceae       </td><td>Parabacteroides        </td><td>NA</td></tr>\n",
       "\t<tr><th scope=row>ASV_78</th><td>Bacteria</td><td>Firmicutes    </td><td>Clostridia         </td><td>Lachnospirales                     </td><td>Lachnospiraceae      </td><td>NA                     </td><td>NA</td></tr>\n",
       "\t<tr><th scope=row>ASV_79</th><td>Bacteria</td><td>Proteobacteria</td><td>Gammaproteobacteria</td><td>Burkholderiales                    </td><td>Comamonadaceae       </td><td>NA                     </td><td>NA</td></tr>\n",
       "\t<tr><th scope=row>ASV_80</th><td>Bacteria</td><td>Firmicutes    </td><td>Clostridia         </td><td>Lachnospirales                     </td><td>Lachnospiraceae      </td><td>NA                     </td><td>NA</td></tr>\n",
       "\t<tr><th scope=row>ASV_81</th><td>Bacteria</td><td>Firmicutes    </td><td>NA                 </td><td>NA                                 </td><td>NA                   </td><td>NA                     </td><td>NA</td></tr>\n",
       "\t<tr><th scope=row>ASV_82</th><td>Bacteria</td><td>Firmicutes    </td><td>Clostridia         </td><td>Lachnospirales                     </td><td>Lachnospiraceae      </td><td>NA                     </td><td>NA</td></tr>\n",
       "\t<tr><th scope=row>ASV_83</th><td>Bacteria</td><td>Firmicutes    </td><td>Clostridia         </td><td>Lachnospirales                     </td><td>Lachnospiraceae      </td><td>Lachnoclostridium      </td><td>NA</td></tr>\n",
       "\t<tr><th scope=row>ASV_84</th><td>Bacteria</td><td>Firmicutes    </td><td>Clostridia         </td><td>Lachnospirales                     </td><td>Lachnospiraceae      </td><td>NA                     </td><td>NA</td></tr>\n",
       "\t<tr><th scope=row>ASV_85</th><td>Bacteria</td><td>Proteobacteria</td><td>Gammaproteobacteria</td><td>Enterobacterales                   </td><td>Morganellaceae       </td><td>Providencia            </td><td>NA</td></tr>\n",
       "\t<tr><th scope=row>ASV_86</th><td>Bacteria</td><td>Firmicutes    </td><td>Bacilli            </td><td>Lactobacillales                    </td><td>NA                   </td><td>NA                     </td><td>NA</td></tr>\n",
       "\t<tr><th scope=row>ASV_87</th><td>Bacteria</td><td>Firmicutes    </td><td>Clostridia         </td><td>Lachnospirales                     </td><td>Lachnospiraceae      </td><td>NA                     </td><td>NA</td></tr>\n",
       "\t<tr><th scope=row>ASV_88</th><td>Bacteria</td><td>Firmicutes    </td><td>Clostridia         </td><td>Lachnospirales                     </td><td>Lachnospiraceae      </td><td>Lachnospiraceae UCG-006</td><td>NA</td></tr>\n",
       "\t<tr><th scope=row>ASV_89</th><td>Bacteria</td><td>Firmicutes    </td><td>Clostridia         </td><td>Lachnospirales                     </td><td>Lachnospiraceae      </td><td>NA                     </td><td>NA</td></tr>\n",
       "\t<tr><th scope=row>ASV_90</th><td>Bacteria</td><td>Firmicutes    </td><td>Clostridia         </td><td>Lachnospirales                     </td><td>Lachnospiraceae      </td><td>NA                     </td><td>NA</td></tr>\n",
       "\t<tr><th scope=row>ASV_91</th><td>Bacteria</td><td>Proteobacteria</td><td>Gammaproteobacteria</td><td>NA                                 </td><td>NA                   </td><td>NA                     </td><td>NA</td></tr>\n",
       "\t<tr><th scope=row>ASV_92</th><td>Bacteria</td><td>Firmicutes    </td><td>Clostridia         </td><td>Peptostreptococcales-Tissierellales</td><td>Peptostreptococcaceae</td><td>NA                     </td><td>NA</td></tr>\n",
       "\t<tr><th scope=row>ASV_93</th><td>Bacteria</td><td>Firmicutes    </td><td>Clostridia         </td><td>Lachnospirales                     </td><td>Lachnospiraceae      </td><td>Lachnospiraceae UCG-006</td><td>NA</td></tr>\n",
       "\t<tr><th scope=row>ASV_94</th><td>Bacteria</td><td>Firmicutes    </td><td>Bacilli            </td><td>Staphylococcales                   </td><td>Staphylococcaceae    </td><td>Staphylococcus         </td><td>NA</td></tr>\n",
       "\t<tr><th scope=row>ASV_95</th><td>Bacteria</td><td>Firmicutes    </td><td>Clostridia         </td><td>Peptostreptococcales-Tissierellales</td><td>Peptostreptococcaceae</td><td>NA                     </td><td>NA</td></tr>\n",
       "\t<tr><th scope=row>ASV_96</th><td>Bacteria</td><td>Proteobacteria</td><td>Alphaproteobacteria</td><td>Rhizobiales                        </td><td>Xanthobacteraceae    </td><td>NA                     </td><td>NA</td></tr>\n",
       "\t<tr><th scope=row>ASV_97</th><td>Bacteria</td><td>Bacteroidota  </td><td>Bacteroidia        </td><td>Flavobacteriales                   </td><td>Weeksellaceae        </td><td>Cloacibacterium        </td><td>NA</td></tr>\n",
       "\t<tr><th scope=row>ASV_98</th><td>Bacteria</td><td>Proteobacteria</td><td>Alphaproteobacteria</td><td>Sphingomonadales                   </td><td>Sphingomonadaceae    </td><td>NA                     </td><td>NA</td></tr>\n",
       "\t<tr><th scope=row>ASV_99</th><td>Bacteria</td><td>Firmicutes    </td><td>Clostridia         </td><td>Lachnospirales                     </td><td>Lachnospiraceae      </td><td>Lachnospiraceae UCG-006</td><td>NA</td></tr>\n",
       "\t<tr><th scope=row>ASV_100</th><td>Bacteria</td><td>NA            </td><td>NA                 </td><td>NA                                 </td><td>NA                   </td><td>NA                     </td><td>NA</td></tr>\n",
       "\t<tr><th scope=row>ASV_101</th><td>Bacteria</td><td>Proteobacteria</td><td>Gammaproteobacteria</td><td>Oceanospirillales                  </td><td>Kangiellaceae        </td><td>Aliikangiella          </td><td>NA</td></tr>\n",
       "\t<tr><th scope=row>ASV_102</th><td>Bacteria</td><td>Proteobacteria</td><td>Alphaproteobacteria</td><td>Rickettsiales                      </td><td>Mitochondria         </td><td>NA                     </td><td>NA</td></tr>\n",
       "\t<tr><th scope=row>ASV_103</th><td>Bacteria</td><td>Fusobacteriota</td><td>Fusobacteriia      </td><td>Fusobacteriales                    </td><td>Fusobacteriaceae     </td><td>Fusobacterium          </td><td>NA</td></tr>\n",
       "\t<tr><th scope=row>ASV_104</th><td>Bacteria</td><td>Proteobacteria</td><td>Gammaproteobacteria</td><td>Pseudomonadales                    </td><td>Moraxellaceae        </td><td>NA                     </td><td>NA</td></tr>\n",
       "\t<tr><th scope=row>ASV_105</th><td>Bacteria</td><td>Firmicutes    </td><td>Bacilli            </td><td>Paenibacillales                    </td><td>Paenibacillaceae     </td><td>NA                     </td><td>NA</td></tr>\n",
       "\t<tr><th scope=row>ASV_106</th><td>Bacteria</td><td>Proteobacteria</td><td>Alphaproteobacteria</td><td>Rhizobiales                        </td><td>Xanthobacteraceae    </td><td>NA                     </td><td>NA</td></tr>\n",
       "</tbody>\n",
       "</table>\n"
      ],
      "text/latex": [
       "A matrix: 106 × 7 of type chr\n",
       "\\begin{tabular}{r|lllllll}\n",
       "  & domain & phylum & class & order & family & genus & species\\\\\n",
       "\\hline\n",
       "\tASV\\_1 & Bacteria & Bacteroidota     & Bacteroidia     & Bacteroidales                       & Tannerellaceae            & Parabacteroides              & NA\\\\\n",
       "\tASV\\_2 & Bacteria & Firmicutes       & Bacilli         & Erysipelotrichales                  & Erysipelatoclostridiaceae & Erysipelatoclostridium       & NA\\\\\n",
       "\tASV\\_3 & Bacteria & Firmicutes       & Clostridia      & Oscillospirales                     & Ruminococcaceae           & Ruminococcus                 & NA\\\\\n",
       "\tASV\\_4 & Bacteria & Firmicutes       & Clostridia      & Lachnospirales                      & Lachnospiraceae           & NA                           & NA\\\\\n",
       "\tASV\\_5 & Bacteria & Firmicutes       & Clostridia      & Lachnospirales                      & Lachnospiraceae           & NA                           & NA\\\\\n",
       "\tASV\\_6 & Bacteria & Firmicutes       & Clostridia      & Lachnospirales                      & Lachnospiraceae           & NA                           & NA\\\\\n",
       "\tASV\\_7 & Bacteria & Firmicutes       & Clostridia      & Lachnospirales                      & Lachnospiraceae           & NA                           & NA\\\\\n",
       "\tASV\\_8 & Bacteria & Firmicutes       & Clostridia      & Lachnospirales                      & Lachnospiraceae           & NA                           & NA\\\\\n",
       "\tASV\\_9 & Bacteria & Firmicutes       & Clostridia      & Lachnospirales                      & Lachnospiraceae           & NA                           & NA\\\\\n",
       "\tASV\\_10 & Bacteria & Firmicutes       & Bacilli         & Lactobacillales                     & Lactobacillaceae          & Lactobacillus                & NA\\\\\n",
       "\tASV\\_11 & Bacteria & Firmicutes       & Clostridia      & Lachnospirales                      & Lachnospiraceae           & NA                           & NA\\\\\n",
       "\tASV\\_12 & Bacteria & Firmicutes       & Clostridia      & Lachnospirales                      & Lachnospiraceae           & NA                           & NA\\\\\n",
       "\tASV\\_13 & Bacteria & Firmicutes       & Clostridia      & Lachnospirales                      & Lachnospiraceae           & Blautia                      & NA\\\\\n",
       "\tASV\\_14 & Bacteria & Deferribacterota & Deferribacteres & Deferribacterales                   & Deferribacteraceae        & Mucispirillum                & NA\\\\\n",
       "\tASV\\_15 & Bacteria & Firmicutes       & Clostridia      & Lachnospirales                      & Lachnospiraceae           & Lachnoclostridium            & NA\\\\\n",
       "\tASV\\_16 & Bacteria & Firmicutes       & Clostridia      & Peptostreptococcales-Tissierellales & Anaerovoracaceae          & NA                           & NA\\\\\n",
       "\tASV\\_17 & Bacteria & Firmicutes       & Clostridia      & Lachnospirales                      & Lachnospiraceae           & NA                           & NA\\\\\n",
       "\tASV\\_18 & Bacteria & Firmicutes       & Clostridia      & Lachnospirales                      & Lachnospiraceae           & NA                           & NA\\\\\n",
       "\tASV\\_19 & Bacteria & Firmicutes       & NA              & NA                                  & NA                        & NA                           & NA\\\\\n",
       "\tASV\\_20 & Bacteria & Firmicutes       & Clostridia      & Lachnospirales                      & Lachnospiraceae           & Lachnoclostridium            & NA\\\\\n",
       "\tASV\\_21 & Bacteria & Firmicutes       & Clostridia      & Oscillospirales                     & Ruminococcaceae           & Anaerotruncus                & NA\\\\\n",
       "\tASV\\_22 & Bacteria & Firmicutes       & Bacilli         & Erysipelotrichales                  & Erysipelatoclostridiaceae & NA                           & NA\\\\\n",
       "\tASV\\_23 & Bacteria & Firmicutes       & Clostridia      & Oscillospirales                     & Oscillospiraceae          & Flavonifractor               & NA\\\\\n",
       "\tASV\\_24 & Bacteria & Firmicutes       & Clostridia      & Lachnospirales                      & Lachnospiraceae           & Lachnospiraceae FCS020 group & NA\\\\\n",
       "\tASV\\_25 & Bacteria & Firmicutes       & Clostridia      & Lachnospirales                      & Lachnospiraceae           & NA                           & NA\\\\\n",
       "\tASV\\_26 & Bacteria & Firmicutes       & Clostridia      & NA                                  & NA                        & NA                           & NA\\\\\n",
       "\tASV\\_27 & Bacteria & Firmicutes       & Clostridia      & Oscillospirales                     & Ruminococcaceae           & NA                           & NA\\\\\n",
       "\tASV\\_28 & Bacteria & Firmicutes       & Clostridia      & Peptostreptococcales-Tissierellales & Peptostreptococcaceae     & Clostridioides               & NA\\\\\n",
       "\tASV\\_29 & Bacteria & Firmicutes       & Bacilli         & Lactobacillales                     & Lactobacillaceae          & Lactobacillus                & NA\\\\\n",
       "\tASV\\_30 & Bacteria & Firmicutes       & Clostridia      & Lachnospirales                      & Lachnospiraceae           & NA                           & NA\\\\\n",
       "\t⋮ & ⋮ & ⋮ & ⋮ & ⋮ & ⋮ & ⋮ & ⋮\\\\\n",
       "\tASV\\_77 & Bacteria & Bacteroidota   & Bacteroidia         & Bacteroidales                       & Tannerellaceae        & Parabacteroides         & NA\\\\\n",
       "\tASV\\_78 & Bacteria & Firmicutes     & Clostridia          & Lachnospirales                      & Lachnospiraceae       & NA                      & NA\\\\\n",
       "\tASV\\_79 & Bacteria & Proteobacteria & Gammaproteobacteria & Burkholderiales                     & Comamonadaceae        & NA                      & NA\\\\\n",
       "\tASV\\_80 & Bacteria & Firmicutes     & Clostridia          & Lachnospirales                      & Lachnospiraceae       & NA                      & NA\\\\\n",
       "\tASV\\_81 & Bacteria & Firmicutes     & NA                  & NA                                  & NA                    & NA                      & NA\\\\\n",
       "\tASV\\_82 & Bacteria & Firmicutes     & Clostridia          & Lachnospirales                      & Lachnospiraceae       & NA                      & NA\\\\\n",
       "\tASV\\_83 & Bacteria & Firmicutes     & Clostridia          & Lachnospirales                      & Lachnospiraceae       & Lachnoclostridium       & NA\\\\\n",
       "\tASV\\_84 & Bacteria & Firmicutes     & Clostridia          & Lachnospirales                      & Lachnospiraceae       & NA                      & NA\\\\\n",
       "\tASV\\_85 & Bacteria & Proteobacteria & Gammaproteobacteria & Enterobacterales                    & Morganellaceae        & Providencia             & NA\\\\\n",
       "\tASV\\_86 & Bacteria & Firmicutes     & Bacilli             & Lactobacillales                     & NA                    & NA                      & NA\\\\\n",
       "\tASV\\_87 & Bacteria & Firmicutes     & Clostridia          & Lachnospirales                      & Lachnospiraceae       & NA                      & NA\\\\\n",
       "\tASV\\_88 & Bacteria & Firmicutes     & Clostridia          & Lachnospirales                      & Lachnospiraceae       & Lachnospiraceae UCG-006 & NA\\\\\n",
       "\tASV\\_89 & Bacteria & Firmicutes     & Clostridia          & Lachnospirales                      & Lachnospiraceae       & NA                      & NA\\\\\n",
       "\tASV\\_90 & Bacteria & Firmicutes     & Clostridia          & Lachnospirales                      & Lachnospiraceae       & NA                      & NA\\\\\n",
       "\tASV\\_91 & Bacteria & Proteobacteria & Gammaproteobacteria & NA                                  & NA                    & NA                      & NA\\\\\n",
       "\tASV\\_92 & Bacteria & Firmicutes     & Clostridia          & Peptostreptococcales-Tissierellales & Peptostreptococcaceae & NA                      & NA\\\\\n",
       "\tASV\\_93 & Bacteria & Firmicutes     & Clostridia          & Lachnospirales                      & Lachnospiraceae       & Lachnospiraceae UCG-006 & NA\\\\\n",
       "\tASV\\_94 & Bacteria & Firmicutes     & Bacilli             & Staphylococcales                    & Staphylococcaceae     & Staphylococcus          & NA\\\\\n",
       "\tASV\\_95 & Bacteria & Firmicutes     & Clostridia          & Peptostreptococcales-Tissierellales & Peptostreptococcaceae & NA                      & NA\\\\\n",
       "\tASV\\_96 & Bacteria & Proteobacteria & Alphaproteobacteria & Rhizobiales                         & Xanthobacteraceae     & NA                      & NA\\\\\n",
       "\tASV\\_97 & Bacteria & Bacteroidota   & Bacteroidia         & Flavobacteriales                    & Weeksellaceae         & Cloacibacterium         & NA\\\\\n",
       "\tASV\\_98 & Bacteria & Proteobacteria & Alphaproteobacteria & Sphingomonadales                    & Sphingomonadaceae     & NA                      & NA\\\\\n",
       "\tASV\\_99 & Bacteria & Firmicutes     & Clostridia          & Lachnospirales                      & Lachnospiraceae       & Lachnospiraceae UCG-006 & NA\\\\\n",
       "\tASV\\_100 & Bacteria & NA             & NA                  & NA                                  & NA                    & NA                      & NA\\\\\n",
       "\tASV\\_101 & Bacteria & Proteobacteria & Gammaproteobacteria & Oceanospirillales                   & Kangiellaceae         & Aliikangiella           & NA\\\\\n",
       "\tASV\\_102 & Bacteria & Proteobacteria & Alphaproteobacteria & Rickettsiales                       & Mitochondria          & NA                      & NA\\\\\n",
       "\tASV\\_103 & Bacteria & Fusobacteriota & Fusobacteriia       & Fusobacteriales                     & Fusobacteriaceae      & Fusobacterium           & NA\\\\\n",
       "\tASV\\_104 & Bacteria & Proteobacteria & Gammaproteobacteria & Pseudomonadales                     & Moraxellaceae         & NA                      & NA\\\\\n",
       "\tASV\\_105 & Bacteria & Firmicutes     & Bacilli             & Paenibacillales                     & Paenibacillaceae      & NA                      & NA\\\\\n",
       "\tASV\\_106 & Bacteria & Proteobacteria & Alphaproteobacteria & Rhizobiales                         & Xanthobacteraceae     & NA                      & NA\\\\\n",
       "\\end{tabular}\n"
      ],
      "text/markdown": [
       "\n",
       "A matrix: 106 × 7 of type chr\n",
       "\n",
       "| <!--/--> | domain | phylum | class | order | family | genus | species |\n",
       "|---|---|---|---|---|---|---|---|\n",
       "| ASV_1 | Bacteria | Bacteroidota     | Bacteroidia     | Bacteroidales                       | Tannerellaceae            | Parabacteroides              | NA |\n",
       "| ASV_2 | Bacteria | Firmicutes       | Bacilli         | Erysipelotrichales                  | Erysipelatoclostridiaceae | Erysipelatoclostridium       | NA |\n",
       "| ASV_3 | Bacteria | Firmicutes       | Clostridia      | Oscillospirales                     | Ruminococcaceae           | Ruminococcus                 | NA |\n",
       "| ASV_4 | Bacteria | Firmicutes       | Clostridia      | Lachnospirales                      | Lachnospiraceae           | NA                           | NA |\n",
       "| ASV_5 | Bacteria | Firmicutes       | Clostridia      | Lachnospirales                      | Lachnospiraceae           | NA                           | NA |\n",
       "| ASV_6 | Bacteria | Firmicutes       | Clostridia      | Lachnospirales                      | Lachnospiraceae           | NA                           | NA |\n",
       "| ASV_7 | Bacteria | Firmicutes       | Clostridia      | Lachnospirales                      | Lachnospiraceae           | NA                           | NA |\n",
       "| ASV_8 | Bacteria | Firmicutes       | Clostridia      | Lachnospirales                      | Lachnospiraceae           | NA                           | NA |\n",
       "| ASV_9 | Bacteria | Firmicutes       | Clostridia      | Lachnospirales                      | Lachnospiraceae           | NA                           | NA |\n",
       "| ASV_10 | Bacteria | Firmicutes       | Bacilli         | Lactobacillales                     | Lactobacillaceae          | Lactobacillus                | NA |\n",
       "| ASV_11 | Bacteria | Firmicutes       | Clostridia      | Lachnospirales                      | Lachnospiraceae           | NA                           | NA |\n",
       "| ASV_12 | Bacteria | Firmicutes       | Clostridia      | Lachnospirales                      | Lachnospiraceae           | NA                           | NA |\n",
       "| ASV_13 | Bacteria | Firmicutes       | Clostridia      | Lachnospirales                      | Lachnospiraceae           | Blautia                      | NA |\n",
       "| ASV_14 | Bacteria | Deferribacterota | Deferribacteres | Deferribacterales                   | Deferribacteraceae        | Mucispirillum                | NA |\n",
       "| ASV_15 | Bacteria | Firmicutes       | Clostridia      | Lachnospirales                      | Lachnospiraceae           | Lachnoclostridium            | NA |\n",
       "| ASV_16 | Bacteria | Firmicutes       | Clostridia      | Peptostreptococcales-Tissierellales | Anaerovoracaceae          | NA                           | NA |\n",
       "| ASV_17 | Bacteria | Firmicutes       | Clostridia      | Lachnospirales                      | Lachnospiraceae           | NA                           | NA |\n",
       "| ASV_18 | Bacteria | Firmicutes       | Clostridia      | Lachnospirales                      | Lachnospiraceae           | NA                           | NA |\n",
       "| ASV_19 | Bacteria | Firmicutes       | NA              | NA                                  | NA                        | NA                           | NA |\n",
       "| ASV_20 | Bacteria | Firmicutes       | Clostridia      | Lachnospirales                      | Lachnospiraceae           | Lachnoclostridium            | NA |\n",
       "| ASV_21 | Bacteria | Firmicutes       | Clostridia      | Oscillospirales                     | Ruminococcaceae           | Anaerotruncus                | NA |\n",
       "| ASV_22 | Bacteria | Firmicutes       | Bacilli         | Erysipelotrichales                  | Erysipelatoclostridiaceae | NA                           | NA |\n",
       "| ASV_23 | Bacteria | Firmicutes       | Clostridia      | Oscillospirales                     | Oscillospiraceae          | Flavonifractor               | NA |\n",
       "| ASV_24 | Bacteria | Firmicutes       | Clostridia      | Lachnospirales                      | Lachnospiraceae           | Lachnospiraceae FCS020 group | NA |\n",
       "| ASV_25 | Bacteria | Firmicutes       | Clostridia      | Lachnospirales                      | Lachnospiraceae           | NA                           | NA |\n",
       "| ASV_26 | Bacteria | Firmicutes       | Clostridia      | NA                                  | NA                        | NA                           | NA |\n",
       "| ASV_27 | Bacteria | Firmicutes       | Clostridia      | Oscillospirales                     | Ruminococcaceae           | NA                           | NA |\n",
       "| ASV_28 | Bacteria | Firmicutes       | Clostridia      | Peptostreptococcales-Tissierellales | Peptostreptococcaceae     | Clostridioides               | NA |\n",
       "| ASV_29 | Bacteria | Firmicutes       | Bacilli         | Lactobacillales                     | Lactobacillaceae          | Lactobacillus                | NA |\n",
       "| ASV_30 | Bacteria | Firmicutes       | Clostridia      | Lachnospirales                      | Lachnospiraceae           | NA                           | NA |\n",
       "| ⋮ | ⋮ | ⋮ | ⋮ | ⋮ | ⋮ | ⋮ | ⋮ |\n",
       "| ASV_77 | Bacteria | Bacteroidota   | Bacteroidia         | Bacteroidales                       | Tannerellaceae        | Parabacteroides         | NA |\n",
       "| ASV_78 | Bacteria | Firmicutes     | Clostridia          | Lachnospirales                      | Lachnospiraceae       | NA                      | NA |\n",
       "| ASV_79 | Bacteria | Proteobacteria | Gammaproteobacteria | Burkholderiales                     | Comamonadaceae        | NA                      | NA |\n",
       "| ASV_80 | Bacteria | Firmicutes     | Clostridia          | Lachnospirales                      | Lachnospiraceae       | NA                      | NA |\n",
       "| ASV_81 | Bacteria | Firmicutes     | NA                  | NA                                  | NA                    | NA                      | NA |\n",
       "| ASV_82 | Bacteria | Firmicutes     | Clostridia          | Lachnospirales                      | Lachnospiraceae       | NA                      | NA |\n",
       "| ASV_83 | Bacteria | Firmicutes     | Clostridia          | Lachnospirales                      | Lachnospiraceae       | Lachnoclostridium       | NA |\n",
       "| ASV_84 | Bacteria | Firmicutes     | Clostridia          | Lachnospirales                      | Lachnospiraceae       | NA                      | NA |\n",
       "| ASV_85 | Bacteria | Proteobacteria | Gammaproteobacteria | Enterobacterales                    | Morganellaceae        | Providencia             | NA |\n",
       "| ASV_86 | Bacteria | Firmicutes     | Bacilli             | Lactobacillales                     | NA                    | NA                      | NA |\n",
       "| ASV_87 | Bacteria | Firmicutes     | Clostridia          | Lachnospirales                      | Lachnospiraceae       | NA                      | NA |\n",
       "| ASV_88 | Bacteria | Firmicutes     | Clostridia          | Lachnospirales                      | Lachnospiraceae       | Lachnospiraceae UCG-006 | NA |\n",
       "| ASV_89 | Bacteria | Firmicutes     | Clostridia          | Lachnospirales                      | Lachnospiraceae       | NA                      | NA |\n",
       "| ASV_90 | Bacteria | Firmicutes     | Clostridia          | Lachnospirales                      | Lachnospiraceae       | NA                      | NA |\n",
       "| ASV_91 | Bacteria | Proteobacteria | Gammaproteobacteria | NA                                  | NA                    | NA                      | NA |\n",
       "| ASV_92 | Bacteria | Firmicutes     | Clostridia          | Peptostreptococcales-Tissierellales | Peptostreptococcaceae | NA                      | NA |\n",
       "| ASV_93 | Bacteria | Firmicutes     | Clostridia          | Lachnospirales                      | Lachnospiraceae       | Lachnospiraceae UCG-006 | NA |\n",
       "| ASV_94 | Bacteria | Firmicutes     | Bacilli             | Staphylococcales                    | Staphylococcaceae     | Staphylococcus          | NA |\n",
       "| ASV_95 | Bacteria | Firmicutes     | Clostridia          | Peptostreptococcales-Tissierellales | Peptostreptococcaceae | NA                      | NA |\n",
       "| ASV_96 | Bacteria | Proteobacteria | Alphaproteobacteria | Rhizobiales                         | Xanthobacteraceae     | NA                      | NA |\n",
       "| ASV_97 | Bacteria | Bacteroidota   | Bacteroidia         | Flavobacteriales                    | Weeksellaceae         | Cloacibacterium         | NA |\n",
       "| ASV_98 | Bacteria | Proteobacteria | Alphaproteobacteria | Sphingomonadales                    | Sphingomonadaceae     | NA                      | NA |\n",
       "| ASV_99 | Bacteria | Firmicutes     | Clostridia          | Lachnospirales                      | Lachnospiraceae       | Lachnospiraceae UCG-006 | NA |\n",
       "| ASV_100 | Bacteria | NA             | NA                  | NA                                  | NA                    | NA                      | NA |\n",
       "| ASV_101 | Bacteria | Proteobacteria | Gammaproteobacteria | Oceanospirillales                   | Kangiellaceae         | Aliikangiella           | NA |\n",
       "| ASV_102 | Bacteria | Proteobacteria | Alphaproteobacteria | Rickettsiales                       | Mitochondria          | NA                      | NA |\n",
       "| ASV_103 | Bacteria | Fusobacteriota | Fusobacteriia       | Fusobacteriales                     | Fusobacteriaceae      | Fusobacterium           | NA |\n",
       "| ASV_104 | Bacteria | Proteobacteria | Gammaproteobacteria | Pseudomonadales                     | Moraxellaceae         | NA                      | NA |\n",
       "| ASV_105 | Bacteria | Firmicutes     | Bacilli             | Paenibacillales                     | Paenibacillaceae      | NA                      | NA |\n",
       "| ASV_106 | Bacteria | Proteobacteria | Alphaproteobacteria | Rhizobiales                         | Xanthobacteraceae     | NA                      | NA |\n",
       "\n"
      ],
      "text/plain": [
       "        domain   phylum           class              \n",
       "ASV_1   Bacteria Bacteroidota     Bacteroidia        \n",
       "ASV_2   Bacteria Firmicutes       Bacilli            \n",
       "ASV_3   Bacteria Firmicutes       Clostridia         \n",
       "ASV_4   Bacteria Firmicutes       Clostridia         \n",
       "ASV_5   Bacteria Firmicutes       Clostridia         \n",
       "ASV_6   Bacteria Firmicutes       Clostridia         \n",
       "ASV_7   Bacteria Firmicutes       Clostridia         \n",
       "ASV_8   Bacteria Firmicutes       Clostridia         \n",
       "ASV_9   Bacteria Firmicutes       Clostridia         \n",
       "ASV_10  Bacteria Firmicutes       Bacilli            \n",
       "ASV_11  Bacteria Firmicutes       Clostridia         \n",
       "ASV_12  Bacteria Firmicutes       Clostridia         \n",
       "ASV_13  Bacteria Firmicutes       Clostridia         \n",
       "ASV_14  Bacteria Deferribacterota Deferribacteres    \n",
       "ASV_15  Bacteria Firmicutes       Clostridia         \n",
       "ASV_16  Bacteria Firmicutes       Clostridia         \n",
       "ASV_17  Bacteria Firmicutes       Clostridia         \n",
       "ASV_18  Bacteria Firmicutes       Clostridia         \n",
       "ASV_19  Bacteria Firmicutes       NA                 \n",
       "ASV_20  Bacteria Firmicutes       Clostridia         \n",
       "ASV_21  Bacteria Firmicutes       Clostridia         \n",
       "ASV_22  Bacteria Firmicutes       Bacilli            \n",
       "ASV_23  Bacteria Firmicutes       Clostridia         \n",
       "ASV_24  Bacteria Firmicutes       Clostridia         \n",
       "ASV_25  Bacteria Firmicutes       Clostridia         \n",
       "ASV_26  Bacteria Firmicutes       Clostridia         \n",
       "ASV_27  Bacteria Firmicutes       Clostridia         \n",
       "ASV_28  Bacteria Firmicutes       Clostridia         \n",
       "ASV_29  Bacteria Firmicutes       Bacilli            \n",
       "ASV_30  Bacteria Firmicutes       Clostridia         \n",
       "⋮       ⋮        ⋮                ⋮                  \n",
       "ASV_77  Bacteria Bacteroidota     Bacteroidia        \n",
       "ASV_78  Bacteria Firmicutes       Clostridia         \n",
       "ASV_79  Bacteria Proteobacteria   Gammaproteobacteria\n",
       "ASV_80  Bacteria Firmicutes       Clostridia         \n",
       "ASV_81  Bacteria Firmicutes       NA                 \n",
       "ASV_82  Bacteria Firmicutes       Clostridia         \n",
       "ASV_83  Bacteria Firmicutes       Clostridia         \n",
       "ASV_84  Bacteria Firmicutes       Clostridia         \n",
       "ASV_85  Bacteria Proteobacteria   Gammaproteobacteria\n",
       "ASV_86  Bacteria Firmicutes       Bacilli            \n",
       "ASV_87  Bacteria Firmicutes       Clostridia         \n",
       "ASV_88  Bacteria Firmicutes       Clostridia         \n",
       "ASV_89  Bacteria Firmicutes       Clostridia         \n",
       "ASV_90  Bacteria Firmicutes       Clostridia         \n",
       "ASV_91  Bacteria Proteobacteria   Gammaproteobacteria\n",
       "ASV_92  Bacteria Firmicutes       Clostridia         \n",
       "ASV_93  Bacteria Firmicutes       Clostridia         \n",
       "ASV_94  Bacteria Firmicutes       Bacilli            \n",
       "ASV_95  Bacteria Firmicutes       Clostridia         \n",
       "ASV_96  Bacteria Proteobacteria   Alphaproteobacteria\n",
       "ASV_97  Bacteria Bacteroidota     Bacteroidia        \n",
       "ASV_98  Bacteria Proteobacteria   Alphaproteobacteria\n",
       "ASV_99  Bacteria Firmicutes       Clostridia         \n",
       "ASV_100 Bacteria NA               NA                 \n",
       "ASV_101 Bacteria Proteobacteria   Gammaproteobacteria\n",
       "ASV_102 Bacteria Proteobacteria   Alphaproteobacteria\n",
       "ASV_103 Bacteria Fusobacteriota   Fusobacteriia      \n",
       "ASV_104 Bacteria Proteobacteria   Gammaproteobacteria\n",
       "ASV_105 Bacteria Firmicutes       Bacilli            \n",
       "ASV_106 Bacteria Proteobacteria   Alphaproteobacteria\n",
       "        order                               family                   \n",
       "ASV_1   Bacteroidales                       Tannerellaceae           \n",
       "ASV_2   Erysipelotrichales                  Erysipelatoclostridiaceae\n",
       "ASV_3   Oscillospirales                     Ruminococcaceae          \n",
       "ASV_4   Lachnospirales                      Lachnospiraceae          \n",
       "ASV_5   Lachnospirales                      Lachnospiraceae          \n",
       "ASV_6   Lachnospirales                      Lachnospiraceae          \n",
       "ASV_7   Lachnospirales                      Lachnospiraceae          \n",
       "ASV_8   Lachnospirales                      Lachnospiraceae          \n",
       "ASV_9   Lachnospirales                      Lachnospiraceae          \n",
       "ASV_10  Lactobacillales                     Lactobacillaceae         \n",
       "ASV_11  Lachnospirales                      Lachnospiraceae          \n",
       "ASV_12  Lachnospirales                      Lachnospiraceae          \n",
       "ASV_13  Lachnospirales                      Lachnospiraceae          \n",
       "ASV_14  Deferribacterales                   Deferribacteraceae       \n",
       "ASV_15  Lachnospirales                      Lachnospiraceae          \n",
       "ASV_16  Peptostreptococcales-Tissierellales Anaerovoracaceae         \n",
       "ASV_17  Lachnospirales                      Lachnospiraceae          \n",
       "ASV_18  Lachnospirales                      Lachnospiraceae          \n",
       "ASV_19  NA                                  NA                       \n",
       "ASV_20  Lachnospirales                      Lachnospiraceae          \n",
       "ASV_21  Oscillospirales                     Ruminococcaceae          \n",
       "ASV_22  Erysipelotrichales                  Erysipelatoclostridiaceae\n",
       "ASV_23  Oscillospirales                     Oscillospiraceae         \n",
       "ASV_24  Lachnospirales                      Lachnospiraceae          \n",
       "ASV_25  Lachnospirales                      Lachnospiraceae          \n",
       "ASV_26  NA                                  NA                       \n",
       "ASV_27  Oscillospirales                     Ruminococcaceae          \n",
       "ASV_28  Peptostreptococcales-Tissierellales Peptostreptococcaceae    \n",
       "ASV_29  Lactobacillales                     Lactobacillaceae         \n",
       "ASV_30  Lachnospirales                      Lachnospiraceae          \n",
       "⋮       ⋮                                   ⋮                        \n",
       "ASV_77  Bacteroidales                       Tannerellaceae           \n",
       "ASV_78  Lachnospirales                      Lachnospiraceae          \n",
       "ASV_79  Burkholderiales                     Comamonadaceae           \n",
       "ASV_80  Lachnospirales                      Lachnospiraceae          \n",
       "ASV_81  NA                                  NA                       \n",
       "ASV_82  Lachnospirales                      Lachnospiraceae          \n",
       "ASV_83  Lachnospirales                      Lachnospiraceae          \n",
       "ASV_84  Lachnospirales                      Lachnospiraceae          \n",
       "ASV_85  Enterobacterales                    Morganellaceae           \n",
       "ASV_86  Lactobacillales                     NA                       \n",
       "ASV_87  Lachnospirales                      Lachnospiraceae          \n",
       "ASV_88  Lachnospirales                      Lachnospiraceae          \n",
       "ASV_89  Lachnospirales                      Lachnospiraceae          \n",
       "ASV_90  Lachnospirales                      Lachnospiraceae          \n",
       "ASV_91  NA                                  NA                       \n",
       "ASV_92  Peptostreptococcales-Tissierellales Peptostreptococcaceae    \n",
       "ASV_93  Lachnospirales                      Lachnospiraceae          \n",
       "ASV_94  Staphylococcales                    Staphylococcaceae        \n",
       "ASV_95  Peptostreptococcales-Tissierellales Peptostreptococcaceae    \n",
       "ASV_96  Rhizobiales                         Xanthobacteraceae        \n",
       "ASV_97  Flavobacteriales                    Weeksellaceae            \n",
       "ASV_98  Sphingomonadales                    Sphingomonadaceae        \n",
       "ASV_99  Lachnospirales                      Lachnospiraceae          \n",
       "ASV_100 NA                                  NA                       \n",
       "ASV_101 Oceanospirillales                   Kangiellaceae            \n",
       "ASV_102 Rickettsiales                       Mitochondria             \n",
       "ASV_103 Fusobacteriales                     Fusobacteriaceae         \n",
       "ASV_104 Pseudomonadales                     Moraxellaceae            \n",
       "ASV_105 Paenibacillales                     Paenibacillaceae         \n",
       "ASV_106 Rhizobiales                         Xanthobacteraceae        \n",
       "        genus                        species\n",
       "ASV_1   Parabacteroides              NA     \n",
       "ASV_2   Erysipelatoclostridium       NA     \n",
       "ASV_3   Ruminococcus                 NA     \n",
       "ASV_4   NA                           NA     \n",
       "ASV_5   NA                           NA     \n",
       "ASV_6   NA                           NA     \n",
       "ASV_7   NA                           NA     \n",
       "ASV_8   NA                           NA     \n",
       "ASV_9   NA                           NA     \n",
       "ASV_10  Lactobacillus                NA     \n",
       "ASV_11  NA                           NA     \n",
       "ASV_12  NA                           NA     \n",
       "ASV_13  Blautia                      NA     \n",
       "ASV_14  Mucispirillum                NA     \n",
       "ASV_15  Lachnoclostridium            NA     \n",
       "ASV_16  NA                           NA     \n",
       "ASV_17  NA                           NA     \n",
       "ASV_18  NA                           NA     \n",
       "ASV_19  NA                           NA     \n",
       "ASV_20  Lachnoclostridium            NA     \n",
       "ASV_21  Anaerotruncus                NA     \n",
       "ASV_22  NA                           NA     \n",
       "ASV_23  Flavonifractor               NA     \n",
       "ASV_24  Lachnospiraceae FCS020 group NA     \n",
       "ASV_25  NA                           NA     \n",
       "ASV_26  NA                           NA     \n",
       "ASV_27  NA                           NA     \n",
       "ASV_28  Clostridioides               NA     \n",
       "ASV_29  Lactobacillus                NA     \n",
       "ASV_30  NA                           NA     \n",
       "⋮       ⋮                            ⋮      \n",
       "ASV_77  Parabacteroides              NA     \n",
       "ASV_78  NA                           NA     \n",
       "ASV_79  NA                           NA     \n",
       "ASV_80  NA                           NA     \n",
       "ASV_81  NA                           NA     \n",
       "ASV_82  NA                           NA     \n",
       "ASV_83  Lachnoclostridium            NA     \n",
       "ASV_84  NA                           NA     \n",
       "ASV_85  Providencia                  NA     \n",
       "ASV_86  NA                           NA     \n",
       "ASV_87  NA                           NA     \n",
       "ASV_88  Lachnospiraceae UCG-006      NA     \n",
       "ASV_89  NA                           NA     \n",
       "ASV_90  NA                           NA     \n",
       "ASV_91  NA                           NA     \n",
       "ASV_92  NA                           NA     \n",
       "ASV_93  Lachnospiraceae UCG-006      NA     \n",
       "ASV_94  Staphylococcus               NA     \n",
       "ASV_95  NA                           NA     \n",
       "ASV_96  NA                           NA     \n",
       "ASV_97  Cloacibacterium              NA     \n",
       "ASV_98  NA                           NA     \n",
       "ASV_99  Lachnospiraceae UCG-006      NA     \n",
       "ASV_100 NA                           NA     \n",
       "ASV_101 Aliikangiella                NA     \n",
       "ASV_102 NA                           NA     \n",
       "ASV_103 Fusobacterium                NA     \n",
       "ASV_104 NA                           NA     \n",
       "ASV_105 NA                           NA     \n",
       "ASV_106 NA                           NA     "
      ]
     },
     "metadata": {},
     "output_type": "display_data"
    }
   ],
   "source": [
    "tax_tab"
   ]
  },
  {
   "cell_type": "code",
   "execution_count": null,
   "id": "50e34db4-341b-44e3-85de-e460ced0a869",
   "metadata": {},
   "outputs": [],
   "source": []
  }
 ],
 "metadata": {
  "kernelspec": {
   "display_name": "R",
   "language": "R",
   "name": "ir"
  },
  "language_info": {
   "codemirror_mode": "r",
   "file_extension": ".r",
   "mimetype": "text/x-r-source",
   "name": "R",
   "pygments_lexer": "r",
   "version": "4.1.3"
  }
 },
 "nbformat": 4,
 "nbformat_minor": 5
}
