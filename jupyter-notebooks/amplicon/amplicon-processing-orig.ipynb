{
 "cells": [
  {
   "cell_type": "markdown",
   "id": "f3c0b710-cf7a-4f0f-a604-5cf2d2e58b4a",
   "metadata": {},
   "source": [
    "# Amplicon processing tutorial"
   ]
  },
  {
   "cell_type": "markdown",
   "id": "50004340-9df6-4ea1-9065-1f803896d7dd",
   "metadata": {},
   "source": [
    "## Initial setup"
   ]
  },
  {
   "cell_type": "markdown",
   "id": "839a6a1f-d0bc-4ca2-85c4-fe4cba6331e7",
   "metadata": {
    "tags": []
   },
   "source": [
    "### Setting our location, some variables, and getting data"
   ]
  },
  {
   "cell_type": "code",
   "execution_count": 28,
   "id": "8589154f-ec38-4365-818e-e26211abc36a",
   "metadata": {
    "tags": []
   },
   "outputs": [
    {
     "data": {
      "text/html": [
       "<style>\n",
       ".list-inline {list-style: none; margin:0; padding: 0}\n",
       ".list-inline>li {display: inline-block}\n",
       ".list-inline>li:not(:last-child)::after {content: \"\\00b7\"; padding: 0 .5ex}\n",
       "</style>\n",
       "<ol class=list-inline><li>TRUE</li><li>TRUE</li><li>TRUE</li><li>TRUE</li><li>TRUE</li><li>TRUE</li><li>TRUE</li><li>TRUE</li><li>TRUE</li><li>TRUE</li><li>TRUE</li><li>TRUE</li><li>TRUE</li><li>TRUE</li><li>TRUE</li><li>TRUE</li><li>TRUE</li><li>TRUE</li><li>TRUE</li><li>TRUE</li></ol>\n"
      ],
      "text/latex": [
       "\\begin{enumerate*}\n",
       "\\item TRUE\n",
       "\\item TRUE\n",
       "\\item TRUE\n",
       "\\item TRUE\n",
       "\\item TRUE\n",
       "\\item TRUE\n",
       "\\item TRUE\n",
       "\\item TRUE\n",
       "\\item TRUE\n",
       "\\item TRUE\n",
       "\\item TRUE\n",
       "\\item TRUE\n",
       "\\item TRUE\n",
       "\\item TRUE\n",
       "\\item TRUE\n",
       "\\item TRUE\n",
       "\\item TRUE\n",
       "\\item TRUE\n",
       "\\item TRUE\n",
       "\\item TRUE\n",
       "\\end{enumerate*}\n"
      ],
      "text/markdown": [
       "1. TRUE\n",
       "2. TRUE\n",
       "3. TRUE\n",
       "4. TRUE\n",
       "5. TRUE\n",
       "6. TRUE\n",
       "7. TRUE\n",
       "8. TRUE\n",
       "9. TRUE\n",
       "10. TRUE\n",
       "11. TRUE\n",
       "12. TRUE\n",
       "13. TRUE\n",
       "14. TRUE\n",
       "15. TRUE\n",
       "16. TRUE\n",
       "17. TRUE\n",
       "18. TRUE\n",
       "19. TRUE\n",
       "20. TRUE\n",
       "\n",
       "\n"
      ],
      "text/plain": [
       " [1] TRUE TRUE TRUE TRUE TRUE TRUE TRUE TRUE TRUE TRUE TRUE TRUE TRUE TRUE TRUE\n",
       "[16] TRUE TRUE TRUE TRUE TRUE"
      ]
     },
     "metadata": {},
     "output_type": "display_data"
    }
   ],
   "source": [
    "# dir.create(\"~/amplicon-tutorial\", showWarnings = FALSE)\n",
    "# setwd(\"~/amplicon-tutorial/\")\n",
    "# # download and unpack\n",
    "# # change into dir\n",
    "# # setwd(\"~/\n",
    "\n",
    "# ## for now while testing/building\n",
    "# # full location\n",
    "# # source_dir <- \"/Users/mdlee4/Documents/NASA/GeneLab/GL4U/amplicon/GLDS-249-full-reads\"\n",
    "\n",
    "# # subset location\n",
    "# source_dir <- \"/Users/mdlee4/Documents/NASA/GeneLab/GL4U/amplicon/GLDS-249-subset\"\n",
    "# files_to_copy <- list.files(source_dir, full.names = TRUE)\n",
    "\n",
    "# raw_reads_dir <- \"Raw_Sequence_Data/\"\n",
    "# trimmed_and_filtered_reads_dir <- \"Trimmed_and_Filtered_Sequence_Data/\"\n",
    "# fastqc_outputs_dir <- \"FastQC_Outputs\"\n",
    "# final_outputs_dir <- \"Final_Outputs\"\n",
    "\n",
    "# file.copy(files_to_copy, \"./\", overwrite = TRUE)"
   ]
  },
  {
   "cell_type": "code",
   "execution_count": 43,
   "id": "9cce1d25-d4cd-4cfc-9bd6-74ca417b364f",
   "metadata": {
    "tags": []
   },
   "outputs": [],
   "source": [
    "dir.create(\"~/amplicon-tutorial2/\", showWarnings = FALSE)\n",
    "setwd(\"~/amplicon-tutorial2/\")"
   ]
  },
  {
   "cell_type": "code",
   "execution_count": 52,
   "id": "4cb8094c-cf10-41f2-96f9-766262506ba6",
   "metadata": {
    "tags": []
   },
   "outputs": [],
   "source": [
    "raw_reads_dir <- \"Raw_Sequence_Data/\"\n",
    "# trimmed_reads_dir <- \"Trimmed_Sequence_Data\"\n",
    "trimmed_and_filtered_reads_dir <- \"Trimmed_and_Filtered_Sequence_Data/\"\n",
    "fastqc_outputs_dir <- \"FastQC_Outputs/\"\n",
    "final_outputs_dir <- \"Final_Outputs/\""
   ]
  },
  {
   "cell_type": "code",
   "execution_count": 53,
   "id": "d83640ff-cbc6-4202-a464-46f103c27a02",
   "metadata": {
    "tags": []
   },
   "outputs": [
    {
     "name": "stderr",
     "output_type": "stream",
     "text": [
      "Warning message in dir.create(raw_reads_dir):\n",
      "“'Raw_Sequence_Data' already exists”\n",
      "Warning message in dir.create(trimmed_and_filtered_reads_dir):\n",
      "“'Trimmed_and_Filtered_Sequence_Data' already exists”\n",
      "Warning message in dir.create(fastqc_outputs_dir):\n",
      "“'FastQC_Outputs' already exists”\n"
     ]
    }
   ],
   "source": [
    "# sapply(c(raw_reads_dir, trimmed_reads_dir, filtered_reads_dir, fastqc_outputs_dir), dir.create)\n",
    "dir.create(raw_reads_dir)\n",
    "# dir.create(trimmed_reads_dir)\n",
    "dir.create(trimmed_and_filtered_reads_dir)\n",
    "dir.create(fastqc_outputs_dir)"
   ]
  },
  {
   "cell_type": "code",
   "execution_count": 54,
   "id": "b9757936-21be-413c-8ad9-8d586dfdfe80",
   "metadata": {
    "tags": []
   },
   "outputs": [
    {
     "data": {
      "text/html": [
       "<style>\n",
       ".list-inline {list-style: none; margin:0; padding: 0}\n",
       ".list-inline>li {display: inline-block}\n",
       ".list-inline>li:not(:last-child)::after {content: \"\\00b7\"; padding: 0 .5ex}\n",
       "</style>\n",
       "<ol class=list-inline><li>'FastQC_Outputs'</li><li>'Raw_Sequence_Data'</li><li>'Trimmed_and_Filtered_Sequence_Data'</li></ol>\n"
      ],
      "text/latex": [
       "\\begin{enumerate*}\n",
       "\\item 'FastQC\\_Outputs'\n",
       "\\item 'Raw\\_Sequence\\_Data'\n",
       "\\item 'Trimmed\\_and\\_Filtered\\_Sequence\\_Data'\n",
       "\\end{enumerate*}\n"
      ],
      "text/markdown": [
       "1. 'FastQC_Outputs'\n",
       "2. 'Raw_Sequence_Data'\n",
       "3. 'Trimmed_and_Filtered_Sequence_Data'\n",
       "\n",
       "\n"
      ],
      "text/plain": [
       "[1] \"FastQC_Outputs\"                     \"Raw_Sequence_Data\"                 \n",
       "[3] \"Trimmed_and_Filtered_Sequence_Data\""
      ]
     },
     "metadata": {},
     "output_type": "display_data"
    }
   ],
   "source": [
    "list.files()"
   ]
  },
  {
   "cell_type": "code",
   "execution_count": 55,
   "id": "f484b5a0-aaf4-424a-b856-11a1bb8793b5",
   "metadata": {
    "tags": []
   },
   "outputs": [
    {
     "data": {
      "text/html": [
       "<style>\n",
       ".list-inline {list-style: none; margin:0; padding: 0}\n",
       ".list-inline>li {display: inline-block}\n",
       ".list-inline>li:not(:last-child)::after {content: \"\\00b7\"; padding: 0 .5ex}\n",
       "</style>\n",
       "<ol class=list-inline><li>TRUE</li><li>TRUE</li><li>TRUE</li><li>TRUE</li><li>TRUE</li><li>TRUE</li><li>TRUE</li><li>TRUE</li><li>TRUE</li><li>TRUE</li><li>TRUE</li><li>TRUE</li><li>TRUE</li><li>TRUE</li><li>TRUE</li><li>TRUE</li><li>TRUE</li><li>TRUE</li><li>TRUE</li><li>TRUE</li></ol>\n"
      ],
      "text/latex": [
       "\\begin{enumerate*}\n",
       "\\item TRUE\n",
       "\\item TRUE\n",
       "\\item TRUE\n",
       "\\item TRUE\n",
       "\\item TRUE\n",
       "\\item TRUE\n",
       "\\item TRUE\n",
       "\\item TRUE\n",
       "\\item TRUE\n",
       "\\item TRUE\n",
       "\\item TRUE\n",
       "\\item TRUE\n",
       "\\item TRUE\n",
       "\\item TRUE\n",
       "\\item TRUE\n",
       "\\item TRUE\n",
       "\\item TRUE\n",
       "\\item TRUE\n",
       "\\item TRUE\n",
       "\\item TRUE\n",
       "\\end{enumerate*}\n"
      ],
      "text/markdown": [
       "1. TRUE\n",
       "2. TRUE\n",
       "3. TRUE\n",
       "4. TRUE\n",
       "5. TRUE\n",
       "6. TRUE\n",
       "7. TRUE\n",
       "8. TRUE\n",
       "9. TRUE\n",
       "10. TRUE\n",
       "11. TRUE\n",
       "12. TRUE\n",
       "13. TRUE\n",
       "14. TRUE\n",
       "15. TRUE\n",
       "16. TRUE\n",
       "17. TRUE\n",
       "18. TRUE\n",
       "19. TRUE\n",
       "20. TRUE\n",
       "\n",
       "\n"
      ],
      "text/plain": [
       " [1] TRUE TRUE TRUE TRUE TRUE TRUE TRUE TRUE TRUE TRUE TRUE TRUE TRUE TRUE TRUE\n",
       "[16] TRUE TRUE TRUE TRUE TRUE"
      ]
     },
     "metadata": {},
     "output_type": "display_data"
    }
   ],
   "source": [
    "## for now while testing/building\n",
    "# full location\n",
    "# source_dir <- \"/Users/mdlee4/Documents/NASA/GeneLab/GL4U/amplicon/GLDS-249-full-reads\"\n",
    "\n",
    "# subset location\n",
    "source_dir <- \"/Users/mdlee4/Documents/NASA/GeneLab/GL4U/amplicon/GLDS-249-subset\"\n",
    "files_to_copy <- list.files(source_dir, full.names = TRUE)\n",
    "\n",
    "file.copy(files_to_copy, raw_reads_dir, overwrite = TRUE)"
   ]
  },
  {
   "cell_type": "code",
   "execution_count": 56,
   "id": "28a6b5cf-6387-466a-93c6-4b593cf96078",
   "metadata": {
    "tags": []
   },
   "outputs": [
    {
     "data": {
      "text/html": [
       "<style>\n",
       ".list-inline {list-style: none; margin:0; padding: 0}\n",
       ".list-inline>li {display: inline-block}\n",
       ".list-inline>li:not(:last-child)::after {content: \"\\00b7\"; padding: 0 .5ex}\n",
       "</style>\n",
       "<ol class=list-inline><li>'F10_R1_raw.fastq.gz'</li><li>'F10_R2_raw.fastq.gz'</li><li>'F3_R1_raw.fastq.gz'</li><li>'F3_R2_raw.fastq.gz'</li><li>'F5_R1_raw.fastq.gz'</li><li>'F5_R2_raw.fastq.gz'</li><li>'F8_R1_raw.fastq.gz'</li><li>'F8_R2_raw.fastq.gz'</li><li>'F9_R1_raw.fastq.gz'</li><li>'F9_R2_raw.fastq.gz'</li><li>'G10_R1_raw.fastq.gz'</li><li>'G10_R2_raw.fastq.gz'</li><li>'G3_R1_raw.fastq.gz'</li><li>'G3_R2_raw.fastq.gz'</li><li>'G5_R1_raw.fastq.gz'</li><li>'G5_R2_raw.fastq.gz'</li><li>'G8_R1_raw.fastq.gz'</li><li>'G8_R2_raw.fastq.gz'</li><li>'G9_R1_raw.fastq.gz'</li><li>'G9_R2_raw.fastq.gz'</li></ol>\n"
      ],
      "text/latex": [
       "\\begin{enumerate*}\n",
       "\\item 'F10\\_R1\\_raw.fastq.gz'\n",
       "\\item 'F10\\_R2\\_raw.fastq.gz'\n",
       "\\item 'F3\\_R1\\_raw.fastq.gz'\n",
       "\\item 'F3\\_R2\\_raw.fastq.gz'\n",
       "\\item 'F5\\_R1\\_raw.fastq.gz'\n",
       "\\item 'F5\\_R2\\_raw.fastq.gz'\n",
       "\\item 'F8\\_R1\\_raw.fastq.gz'\n",
       "\\item 'F8\\_R2\\_raw.fastq.gz'\n",
       "\\item 'F9\\_R1\\_raw.fastq.gz'\n",
       "\\item 'F9\\_R2\\_raw.fastq.gz'\n",
       "\\item 'G10\\_R1\\_raw.fastq.gz'\n",
       "\\item 'G10\\_R2\\_raw.fastq.gz'\n",
       "\\item 'G3\\_R1\\_raw.fastq.gz'\n",
       "\\item 'G3\\_R2\\_raw.fastq.gz'\n",
       "\\item 'G5\\_R1\\_raw.fastq.gz'\n",
       "\\item 'G5\\_R2\\_raw.fastq.gz'\n",
       "\\item 'G8\\_R1\\_raw.fastq.gz'\n",
       "\\item 'G8\\_R2\\_raw.fastq.gz'\n",
       "\\item 'G9\\_R1\\_raw.fastq.gz'\n",
       "\\item 'G9\\_R2\\_raw.fastq.gz'\n",
       "\\end{enumerate*}\n"
      ],
      "text/markdown": [
       "1. 'F10_R1_raw.fastq.gz'\n",
       "2. 'F10_R2_raw.fastq.gz'\n",
       "3. 'F3_R1_raw.fastq.gz'\n",
       "4. 'F3_R2_raw.fastq.gz'\n",
       "5. 'F5_R1_raw.fastq.gz'\n",
       "6. 'F5_R2_raw.fastq.gz'\n",
       "7. 'F8_R1_raw.fastq.gz'\n",
       "8. 'F8_R2_raw.fastq.gz'\n",
       "9. 'F9_R1_raw.fastq.gz'\n",
       "10. 'F9_R2_raw.fastq.gz'\n",
       "11. 'G10_R1_raw.fastq.gz'\n",
       "12. 'G10_R2_raw.fastq.gz'\n",
       "13. 'G3_R1_raw.fastq.gz'\n",
       "14. 'G3_R2_raw.fastq.gz'\n",
       "15. 'G5_R1_raw.fastq.gz'\n",
       "16. 'G5_R2_raw.fastq.gz'\n",
       "17. 'G8_R1_raw.fastq.gz'\n",
       "18. 'G8_R2_raw.fastq.gz'\n",
       "19. 'G9_R1_raw.fastq.gz'\n",
       "20. 'G9_R2_raw.fastq.gz'\n",
       "\n",
       "\n"
      ],
      "text/plain": [
       " [1] \"F10_R1_raw.fastq.gz\" \"F10_R2_raw.fastq.gz\" \"F3_R1_raw.fastq.gz\" \n",
       " [4] \"F3_R2_raw.fastq.gz\"  \"F5_R1_raw.fastq.gz\"  \"F5_R2_raw.fastq.gz\" \n",
       " [7] \"F8_R1_raw.fastq.gz\"  \"F8_R2_raw.fastq.gz\"  \"F9_R1_raw.fastq.gz\" \n",
       "[10] \"F9_R2_raw.fastq.gz\"  \"G10_R1_raw.fastq.gz\" \"G10_R2_raw.fastq.gz\"\n",
       "[13] \"G3_R1_raw.fastq.gz\"  \"G3_R2_raw.fastq.gz\"  \"G5_R1_raw.fastq.gz\" \n",
       "[16] \"G5_R2_raw.fastq.gz\"  \"G8_R1_raw.fastq.gz\"  \"G8_R2_raw.fastq.gz\" \n",
       "[19] \"G9_R1_raw.fastq.gz\"  \"G9_R2_raw.fastq.gz\" "
      ]
     },
     "metadata": {},
     "output_type": "display_data"
    }
   ],
   "source": [
    "list.files(raw_reads_dir)"
   ]
  },
  {
   "cell_type": "code",
   "execution_count": 63,
   "id": "6cb4a17b-7e75-49d9-90c6-41b0b46a21e6",
   "metadata": {
    "tags": []
   },
   "outputs": [],
   "source": [
    "# making a variable holding the unique sample names for use with various things\n",
    "sample_names <- list.files(raw_reads_dir, pattern = \"_R1_\") %>% gsub(pattern = \"_R1_raw.fastq.gz\", replacement = \"\")"
   ]
  },
  {
   "cell_type": "code",
   "execution_count": 64,
   "id": "07d56fbc-bd82-4657-a900-dfd5b8cae5b7",
   "metadata": {
    "tags": []
   },
   "outputs": [
    {
     "data": {
      "text/html": [
       "<style>\n",
       ".list-inline {list-style: none; margin:0; padding: 0}\n",
       ".list-inline>li {display: inline-block}\n",
       ".list-inline>li:not(:last-child)::after {content: \"\\00b7\"; padding: 0 .5ex}\n",
       "</style>\n",
       "<ol class=list-inline><li>'F10'</li><li>'F3'</li><li>'F5'</li><li>'F8'</li><li>'F9'</li><li>'G10'</li><li>'G3'</li><li>'G5'</li><li>'G8'</li><li>'G9'</li></ol>\n"
      ],
      "text/latex": [
       "\\begin{enumerate*}\n",
       "\\item 'F10'\n",
       "\\item 'F3'\n",
       "\\item 'F5'\n",
       "\\item 'F8'\n",
       "\\item 'F9'\n",
       "\\item 'G10'\n",
       "\\item 'G3'\n",
       "\\item 'G5'\n",
       "\\item 'G8'\n",
       "\\item 'G9'\n",
       "\\end{enumerate*}\n"
      ],
      "text/markdown": [
       "1. 'F10'\n",
       "2. 'F3'\n",
       "3. 'F5'\n",
       "4. 'F8'\n",
       "5. 'F9'\n",
       "6. 'G10'\n",
       "7. 'G3'\n",
       "8. 'G5'\n",
       "9. 'G8'\n",
       "10. 'G9'\n",
       "\n",
       "\n"
      ],
      "text/plain": [
       " [1] \"F10\" \"F3\"  \"F5\"  \"F8\"  \"F9\"  \"G10\" \"G3\"  \"G5\"  \"G8\"  \"G9\" "
      ]
     },
     "metadata": {},
     "output_type": "display_data"
    }
   ],
   "source": [
    "sample_names"
   ]
  },
  {
   "cell_type": "markdown",
   "id": "05785141-3b7b-43d7-8845-1f3a0a014bcd",
   "metadata": {},
   "source": [
    "### Loading libraries"
   ]
  },
  {
   "cell_type": "code",
   "execution_count": 33,
   "id": "72b44f19-afb8-4832-8308-447b1e976298",
   "metadata": {
    "tags": []
   },
   "outputs": [
    {
     "name": "stderr",
     "output_type": "stream",
     "text": [
      "Loading required package: Rcpp\n",
      "\n",
      "── \u001b[1mAttaching packages\u001b[22m ───────────────────────────────────────────────────────────────────────────────────────── tidyverse 1.3.2 ──\n",
      "\u001b[32m✔\u001b[39m \u001b[34mggplot2\u001b[39m 3.4.1     \u001b[32m✔\u001b[39m \u001b[34mpurrr  \u001b[39m 1.0.1\n",
      "\u001b[32m✔\u001b[39m \u001b[34mtibble \u001b[39m 3.1.8     \u001b[32m✔\u001b[39m \u001b[34mdplyr  \u001b[39m 1.1.0\n",
      "\u001b[32m✔\u001b[39m \u001b[34mtidyr  \u001b[39m 1.3.0     \u001b[32m✔\u001b[39m \u001b[34mstringr\u001b[39m 1.5.0\n",
      "\u001b[32m✔\u001b[39m \u001b[34mreadr  \u001b[39m 2.1.4     \u001b[32m✔\u001b[39m \u001b[34mforcats\u001b[39m 1.0.0\n",
      "── \u001b[1mConflicts\u001b[22m ──────────────────────────────────────────────────────────────────────────────────────────── tidyverse_conflicts() ──\n",
      "\u001b[31m✖\u001b[39m \u001b[34mdplyr\u001b[39m::\u001b[32mfilter()\u001b[39m masks \u001b[34mstats\u001b[39m::filter()\n",
      "\u001b[31m✖\u001b[39m \u001b[34mdplyr\u001b[39m::\u001b[32mlag()\u001b[39m    masks \u001b[34mstats\u001b[39m::lag()\n"
     ]
    }
   ],
   "source": [
    "library(dada2)\n",
    "library(tidyverse)"
   ]
  },
  {
   "cell_type": "markdown",
   "id": "fc2bcae6-9822-4223-a33d-2f7a395403e4",
   "metadata": {},
   "source": [
    "### Creating some variables to help with processing"
   ]
  },
  {
   "cell_type": "code",
   "execution_count": 65,
   "id": "2f3495f8-ec20-4a88-a796-b68160e3ade4",
   "metadata": {
    "tags": []
   },
   "outputs": [],
   "source": [
    "# making an object that holds all forward read starting files\n",
    "forward_raw_files <- list.files(raw_reads_dir, pattern = \"*R1_raw.fastq.gz\", full.names = TRUE)\n",
    "\n",
    "# making an object that holds all reverse read starting file\n",
    "reverse_raw_files <- list.files(raw_reads_dir, pattern = \"*R2_raw.fastq.gz\", full.names = TRUE)"
   ]
  },
  {
   "cell_type": "code",
   "execution_count": 66,
   "id": "d84bf77b-29d4-4aa3-97cc-d56b79b559e6",
   "metadata": {
    "tags": []
   },
   "outputs": [
    {
     "data": {
      "text/html": [
       "<style>\n",
       ".list-inline {list-style: none; margin:0; padding: 0}\n",
       ".list-inline>li {display: inline-block}\n",
       ".list-inline>li:not(:last-child)::after {content: \"\\00b7\"; padding: 0 .5ex}\n",
       "</style>\n",
       "<ol class=list-inline><li>'Raw_Sequence_Data//F10_R1_raw.fastq.gz'</li><li>'Raw_Sequence_Data//F3_R1_raw.fastq.gz'</li><li>'Raw_Sequence_Data//F5_R1_raw.fastq.gz'</li><li>'Raw_Sequence_Data//F8_R1_raw.fastq.gz'</li><li>'Raw_Sequence_Data//F9_R1_raw.fastq.gz'</li><li>'Raw_Sequence_Data//G10_R1_raw.fastq.gz'</li><li>'Raw_Sequence_Data//G3_R1_raw.fastq.gz'</li><li>'Raw_Sequence_Data//G5_R1_raw.fastq.gz'</li><li>'Raw_Sequence_Data//G8_R1_raw.fastq.gz'</li><li>'Raw_Sequence_Data//G9_R1_raw.fastq.gz'</li></ol>\n"
      ],
      "text/latex": [
       "\\begin{enumerate*}\n",
       "\\item 'Raw\\_Sequence\\_Data//F10\\_R1\\_raw.fastq.gz'\n",
       "\\item 'Raw\\_Sequence\\_Data//F3\\_R1\\_raw.fastq.gz'\n",
       "\\item 'Raw\\_Sequence\\_Data//F5\\_R1\\_raw.fastq.gz'\n",
       "\\item 'Raw\\_Sequence\\_Data//F8\\_R1\\_raw.fastq.gz'\n",
       "\\item 'Raw\\_Sequence\\_Data//F9\\_R1\\_raw.fastq.gz'\n",
       "\\item 'Raw\\_Sequence\\_Data//G10\\_R1\\_raw.fastq.gz'\n",
       "\\item 'Raw\\_Sequence\\_Data//G3\\_R1\\_raw.fastq.gz'\n",
       "\\item 'Raw\\_Sequence\\_Data//G5\\_R1\\_raw.fastq.gz'\n",
       "\\item 'Raw\\_Sequence\\_Data//G8\\_R1\\_raw.fastq.gz'\n",
       "\\item 'Raw\\_Sequence\\_Data//G9\\_R1\\_raw.fastq.gz'\n",
       "\\end{enumerate*}\n"
      ],
      "text/markdown": [
       "1. 'Raw_Sequence_Data//F10_R1_raw.fastq.gz'\n",
       "2. 'Raw_Sequence_Data//F3_R1_raw.fastq.gz'\n",
       "3. 'Raw_Sequence_Data//F5_R1_raw.fastq.gz'\n",
       "4. 'Raw_Sequence_Data//F8_R1_raw.fastq.gz'\n",
       "5. 'Raw_Sequence_Data//F9_R1_raw.fastq.gz'\n",
       "6. 'Raw_Sequence_Data//G10_R1_raw.fastq.gz'\n",
       "7. 'Raw_Sequence_Data//G3_R1_raw.fastq.gz'\n",
       "8. 'Raw_Sequence_Data//G5_R1_raw.fastq.gz'\n",
       "9. 'Raw_Sequence_Data//G8_R1_raw.fastq.gz'\n",
       "10. 'Raw_Sequence_Data//G9_R1_raw.fastq.gz'\n",
       "\n",
       "\n"
      ],
      "text/plain": [
       " [1] \"Raw_Sequence_Data//F10_R1_raw.fastq.gz\"\n",
       " [2] \"Raw_Sequence_Data//F3_R1_raw.fastq.gz\" \n",
       " [3] \"Raw_Sequence_Data//F5_R1_raw.fastq.gz\" \n",
       " [4] \"Raw_Sequence_Data//F8_R1_raw.fastq.gz\" \n",
       " [5] \"Raw_Sequence_Data//F9_R1_raw.fastq.gz\" \n",
       " [6] \"Raw_Sequence_Data//G10_R1_raw.fastq.gz\"\n",
       " [7] \"Raw_Sequence_Data//G3_R1_raw.fastq.gz\" \n",
       " [8] \"Raw_Sequence_Data//G5_R1_raw.fastq.gz\" \n",
       " [9] \"Raw_Sequence_Data//G8_R1_raw.fastq.gz\" \n",
       "[10] \"Raw_Sequence_Data//G9_R1_raw.fastq.gz\" "
      ]
     },
     "metadata": {},
     "output_type": "display_data"
    }
   ],
   "source": [
    "forward_raw_files"
   ]
  },
  {
   "cell_type": "code",
   "execution_count": 67,
   "id": "62341822-6796-4f58-8382-36306388a269",
   "metadata": {
    "tags": []
   },
   "outputs": [
    {
     "data": {
      "text/html": [
       "<style>\n",
       ".list-inline {list-style: none; margin:0; padding: 0}\n",
       ".list-inline>li {display: inline-block}\n",
       ".list-inline>li:not(:last-child)::after {content: \"\\00b7\"; padding: 0 .5ex}\n",
       "</style>\n",
       "<ol class=list-inline><li>'Raw_Sequence_Data//F10_R2_raw.fastq.gz'</li><li>'Raw_Sequence_Data//F3_R2_raw.fastq.gz'</li><li>'Raw_Sequence_Data//F5_R2_raw.fastq.gz'</li><li>'Raw_Sequence_Data//F8_R2_raw.fastq.gz'</li><li>'Raw_Sequence_Data//F9_R2_raw.fastq.gz'</li><li>'Raw_Sequence_Data//G10_R2_raw.fastq.gz'</li><li>'Raw_Sequence_Data//G3_R2_raw.fastq.gz'</li><li>'Raw_Sequence_Data//G5_R2_raw.fastq.gz'</li><li>'Raw_Sequence_Data//G8_R2_raw.fastq.gz'</li><li>'Raw_Sequence_Data//G9_R2_raw.fastq.gz'</li></ol>\n"
      ],
      "text/latex": [
       "\\begin{enumerate*}\n",
       "\\item 'Raw\\_Sequence\\_Data//F10\\_R2\\_raw.fastq.gz'\n",
       "\\item 'Raw\\_Sequence\\_Data//F3\\_R2\\_raw.fastq.gz'\n",
       "\\item 'Raw\\_Sequence\\_Data//F5\\_R2\\_raw.fastq.gz'\n",
       "\\item 'Raw\\_Sequence\\_Data//F8\\_R2\\_raw.fastq.gz'\n",
       "\\item 'Raw\\_Sequence\\_Data//F9\\_R2\\_raw.fastq.gz'\n",
       "\\item 'Raw\\_Sequence\\_Data//G10\\_R2\\_raw.fastq.gz'\n",
       "\\item 'Raw\\_Sequence\\_Data//G3\\_R2\\_raw.fastq.gz'\n",
       "\\item 'Raw\\_Sequence\\_Data//G5\\_R2\\_raw.fastq.gz'\n",
       "\\item 'Raw\\_Sequence\\_Data//G8\\_R2\\_raw.fastq.gz'\n",
       "\\item 'Raw\\_Sequence\\_Data//G9\\_R2\\_raw.fastq.gz'\n",
       "\\end{enumerate*}\n"
      ],
      "text/markdown": [
       "1. 'Raw_Sequence_Data//F10_R2_raw.fastq.gz'\n",
       "2. 'Raw_Sequence_Data//F3_R2_raw.fastq.gz'\n",
       "3. 'Raw_Sequence_Data//F5_R2_raw.fastq.gz'\n",
       "4. 'Raw_Sequence_Data//F8_R2_raw.fastq.gz'\n",
       "5. 'Raw_Sequence_Data//F9_R2_raw.fastq.gz'\n",
       "6. 'Raw_Sequence_Data//G10_R2_raw.fastq.gz'\n",
       "7. 'Raw_Sequence_Data//G3_R2_raw.fastq.gz'\n",
       "8. 'Raw_Sequence_Data//G5_R2_raw.fastq.gz'\n",
       "9. 'Raw_Sequence_Data//G8_R2_raw.fastq.gz'\n",
       "10. 'Raw_Sequence_Data//G9_R2_raw.fastq.gz'\n",
       "\n",
       "\n"
      ],
      "text/plain": [
       " [1] \"Raw_Sequence_Data//F10_R2_raw.fastq.gz\"\n",
       " [2] \"Raw_Sequence_Data//F3_R2_raw.fastq.gz\" \n",
       " [3] \"Raw_Sequence_Data//F5_R2_raw.fastq.gz\" \n",
       " [4] \"Raw_Sequence_Data//F8_R2_raw.fastq.gz\" \n",
       " [5] \"Raw_Sequence_Data//F9_R2_raw.fastq.gz\" \n",
       " [6] \"Raw_Sequence_Data//G10_R2_raw.fastq.gz\"\n",
       " [7] \"Raw_Sequence_Data//G3_R2_raw.fastq.gz\" \n",
       " [8] \"Raw_Sequence_Data//G5_R2_raw.fastq.gz\" \n",
       " [9] \"Raw_Sequence_Data//G8_R2_raw.fastq.gz\" \n",
       "[10] \"Raw_Sequence_Data//G9_R2_raw.fastq.gz\" "
      ]
     },
     "metadata": {},
     "output_type": "display_data"
    }
   ],
   "source": [
    "reverse_raw_files"
   ]
  },
  {
   "cell_type": "code",
   "execution_count": 68,
   "id": "6ec4e349-cca4-4315-83a2-dbd64785b924",
   "metadata": {
    "tags": []
   },
   "outputs": [],
   "source": [
    "# making an object holding what will be the output trimmed/filtered forward files\n",
    "forward_filtered_files <- paste0(trimmed_and_filtered_reads_dir, sample_names, \"_R1_filtered.fastq.gz\")\n",
    "\n",
    "# making an object holding what will be the output trimmed/filtered reverse files\n",
    "reverse_filtered_files <- paste0(trimmed_and_filtered_reads_dir, sample_names, \"_R2_filtered.fastq.gz\")"
   ]
  },
  {
   "cell_type": "code",
   "execution_count": 69,
   "id": "15268ff4-d66d-4814-83ed-85335d3709b8",
   "metadata": {
    "tags": []
   },
   "outputs": [
    {
     "data": {
      "text/html": [
       "<style>\n",
       ".list-inline {list-style: none; margin:0; padding: 0}\n",
       ".list-inline>li {display: inline-block}\n",
       ".list-inline>li:not(:last-child)::after {content: \"\\00b7\"; padding: 0 .5ex}\n",
       "</style>\n",
       "<ol class=list-inline><li>'Trimmed_and_Filtered_Sequence_Data/F10_R1_filtered.fastq.gz'</li><li>'Trimmed_and_Filtered_Sequence_Data/F3_R1_filtered.fastq.gz'</li><li>'Trimmed_and_Filtered_Sequence_Data/F5_R1_filtered.fastq.gz'</li><li>'Trimmed_and_Filtered_Sequence_Data/F8_R1_filtered.fastq.gz'</li><li>'Trimmed_and_Filtered_Sequence_Data/F9_R1_filtered.fastq.gz'</li><li>'Trimmed_and_Filtered_Sequence_Data/G10_R1_filtered.fastq.gz'</li><li>'Trimmed_and_Filtered_Sequence_Data/G3_R1_filtered.fastq.gz'</li><li>'Trimmed_and_Filtered_Sequence_Data/G5_R1_filtered.fastq.gz'</li><li>'Trimmed_and_Filtered_Sequence_Data/G8_R1_filtered.fastq.gz'</li><li>'Trimmed_and_Filtered_Sequence_Data/G9_R1_filtered.fastq.gz'</li></ol>\n"
      ],
      "text/latex": [
       "\\begin{enumerate*}\n",
       "\\item 'Trimmed\\_and\\_Filtered\\_Sequence\\_Data/F10\\_R1\\_filtered.fastq.gz'\n",
       "\\item 'Trimmed\\_and\\_Filtered\\_Sequence\\_Data/F3\\_R1\\_filtered.fastq.gz'\n",
       "\\item 'Trimmed\\_and\\_Filtered\\_Sequence\\_Data/F5\\_R1\\_filtered.fastq.gz'\n",
       "\\item 'Trimmed\\_and\\_Filtered\\_Sequence\\_Data/F8\\_R1\\_filtered.fastq.gz'\n",
       "\\item 'Trimmed\\_and\\_Filtered\\_Sequence\\_Data/F9\\_R1\\_filtered.fastq.gz'\n",
       "\\item 'Trimmed\\_and\\_Filtered\\_Sequence\\_Data/G10\\_R1\\_filtered.fastq.gz'\n",
       "\\item 'Trimmed\\_and\\_Filtered\\_Sequence\\_Data/G3\\_R1\\_filtered.fastq.gz'\n",
       "\\item 'Trimmed\\_and\\_Filtered\\_Sequence\\_Data/G5\\_R1\\_filtered.fastq.gz'\n",
       "\\item 'Trimmed\\_and\\_Filtered\\_Sequence\\_Data/G8\\_R1\\_filtered.fastq.gz'\n",
       "\\item 'Trimmed\\_and\\_Filtered\\_Sequence\\_Data/G9\\_R1\\_filtered.fastq.gz'\n",
       "\\end{enumerate*}\n"
      ],
      "text/markdown": [
       "1. 'Trimmed_and_Filtered_Sequence_Data/F10_R1_filtered.fastq.gz'\n",
       "2. 'Trimmed_and_Filtered_Sequence_Data/F3_R1_filtered.fastq.gz'\n",
       "3. 'Trimmed_and_Filtered_Sequence_Data/F5_R1_filtered.fastq.gz'\n",
       "4. 'Trimmed_and_Filtered_Sequence_Data/F8_R1_filtered.fastq.gz'\n",
       "5. 'Trimmed_and_Filtered_Sequence_Data/F9_R1_filtered.fastq.gz'\n",
       "6. 'Trimmed_and_Filtered_Sequence_Data/G10_R1_filtered.fastq.gz'\n",
       "7. 'Trimmed_and_Filtered_Sequence_Data/G3_R1_filtered.fastq.gz'\n",
       "8. 'Trimmed_and_Filtered_Sequence_Data/G5_R1_filtered.fastq.gz'\n",
       "9. 'Trimmed_and_Filtered_Sequence_Data/G8_R1_filtered.fastq.gz'\n",
       "10. 'Trimmed_and_Filtered_Sequence_Data/G9_R1_filtered.fastq.gz'\n",
       "\n",
       "\n"
      ],
      "text/plain": [
       " [1] \"Trimmed_and_Filtered_Sequence_Data/F10_R1_filtered.fastq.gz\"\n",
       " [2] \"Trimmed_and_Filtered_Sequence_Data/F3_R1_filtered.fastq.gz\" \n",
       " [3] \"Trimmed_and_Filtered_Sequence_Data/F5_R1_filtered.fastq.gz\" \n",
       " [4] \"Trimmed_and_Filtered_Sequence_Data/F8_R1_filtered.fastq.gz\" \n",
       " [5] \"Trimmed_and_Filtered_Sequence_Data/F9_R1_filtered.fastq.gz\" \n",
       " [6] \"Trimmed_and_Filtered_Sequence_Data/G10_R1_filtered.fastq.gz\"\n",
       " [7] \"Trimmed_and_Filtered_Sequence_Data/G3_R1_filtered.fastq.gz\" \n",
       " [8] \"Trimmed_and_Filtered_Sequence_Data/G5_R1_filtered.fastq.gz\" \n",
       " [9] \"Trimmed_and_Filtered_Sequence_Data/G8_R1_filtered.fastq.gz\" \n",
       "[10] \"Trimmed_and_Filtered_Sequence_Data/G9_R1_filtered.fastq.gz\" "
      ]
     },
     "metadata": {},
     "output_type": "display_data"
    }
   ],
   "source": [
    "forward_filtered_files"
   ]
  },
  {
   "cell_type": "code",
   "execution_count": 70,
   "id": "2a1731b8-8a2b-4793-91af-a63a31c4b93d",
   "metadata": {
    "tags": []
   },
   "outputs": [
    {
     "data": {
      "text/html": [
       "<style>\n",
       ".list-inline {list-style: none; margin:0; padding: 0}\n",
       ".list-inline>li {display: inline-block}\n",
       ".list-inline>li:not(:last-child)::after {content: \"\\00b7\"; padding: 0 .5ex}\n",
       "</style>\n",
       "<ol class=list-inline><li>'Trimmed_and_Filtered_Sequence_Data/F10_R2_filtered.fastq.gz'</li><li>'Trimmed_and_Filtered_Sequence_Data/F3_R2_filtered.fastq.gz'</li><li>'Trimmed_and_Filtered_Sequence_Data/F5_R2_filtered.fastq.gz'</li><li>'Trimmed_and_Filtered_Sequence_Data/F8_R2_filtered.fastq.gz'</li><li>'Trimmed_and_Filtered_Sequence_Data/F9_R2_filtered.fastq.gz'</li><li>'Trimmed_and_Filtered_Sequence_Data/G10_R2_filtered.fastq.gz'</li><li>'Trimmed_and_Filtered_Sequence_Data/G3_R2_filtered.fastq.gz'</li><li>'Trimmed_and_Filtered_Sequence_Data/G5_R2_filtered.fastq.gz'</li><li>'Trimmed_and_Filtered_Sequence_Data/G8_R2_filtered.fastq.gz'</li><li>'Trimmed_and_Filtered_Sequence_Data/G9_R2_filtered.fastq.gz'</li></ol>\n"
      ],
      "text/latex": [
       "\\begin{enumerate*}\n",
       "\\item 'Trimmed\\_and\\_Filtered\\_Sequence\\_Data/F10\\_R2\\_filtered.fastq.gz'\n",
       "\\item 'Trimmed\\_and\\_Filtered\\_Sequence\\_Data/F3\\_R2\\_filtered.fastq.gz'\n",
       "\\item 'Trimmed\\_and\\_Filtered\\_Sequence\\_Data/F5\\_R2\\_filtered.fastq.gz'\n",
       "\\item 'Trimmed\\_and\\_Filtered\\_Sequence\\_Data/F8\\_R2\\_filtered.fastq.gz'\n",
       "\\item 'Trimmed\\_and\\_Filtered\\_Sequence\\_Data/F9\\_R2\\_filtered.fastq.gz'\n",
       "\\item 'Trimmed\\_and\\_Filtered\\_Sequence\\_Data/G10\\_R2\\_filtered.fastq.gz'\n",
       "\\item 'Trimmed\\_and\\_Filtered\\_Sequence\\_Data/G3\\_R2\\_filtered.fastq.gz'\n",
       "\\item 'Trimmed\\_and\\_Filtered\\_Sequence\\_Data/G5\\_R2\\_filtered.fastq.gz'\n",
       "\\item 'Trimmed\\_and\\_Filtered\\_Sequence\\_Data/G8\\_R2\\_filtered.fastq.gz'\n",
       "\\item 'Trimmed\\_and\\_Filtered\\_Sequence\\_Data/G9\\_R2\\_filtered.fastq.gz'\n",
       "\\end{enumerate*}\n"
      ],
      "text/markdown": [
       "1. 'Trimmed_and_Filtered_Sequence_Data/F10_R2_filtered.fastq.gz'\n",
       "2. 'Trimmed_and_Filtered_Sequence_Data/F3_R2_filtered.fastq.gz'\n",
       "3. 'Trimmed_and_Filtered_Sequence_Data/F5_R2_filtered.fastq.gz'\n",
       "4. 'Trimmed_and_Filtered_Sequence_Data/F8_R2_filtered.fastq.gz'\n",
       "5. 'Trimmed_and_Filtered_Sequence_Data/F9_R2_filtered.fastq.gz'\n",
       "6. 'Trimmed_and_Filtered_Sequence_Data/G10_R2_filtered.fastq.gz'\n",
       "7. 'Trimmed_and_Filtered_Sequence_Data/G3_R2_filtered.fastq.gz'\n",
       "8. 'Trimmed_and_Filtered_Sequence_Data/G5_R2_filtered.fastq.gz'\n",
       "9. 'Trimmed_and_Filtered_Sequence_Data/G8_R2_filtered.fastq.gz'\n",
       "10. 'Trimmed_and_Filtered_Sequence_Data/G9_R2_filtered.fastq.gz'\n",
       "\n",
       "\n"
      ],
      "text/plain": [
       " [1] \"Trimmed_and_Filtered_Sequence_Data/F10_R2_filtered.fastq.gz\"\n",
       " [2] \"Trimmed_and_Filtered_Sequence_Data/F3_R2_filtered.fastq.gz\" \n",
       " [3] \"Trimmed_and_Filtered_Sequence_Data/F5_R2_filtered.fastq.gz\" \n",
       " [4] \"Trimmed_and_Filtered_Sequence_Data/F8_R2_filtered.fastq.gz\" \n",
       " [5] \"Trimmed_and_Filtered_Sequence_Data/F9_R2_filtered.fastq.gz\" \n",
       " [6] \"Trimmed_and_Filtered_Sequence_Data/G10_R2_filtered.fastq.gz\"\n",
       " [7] \"Trimmed_and_Filtered_Sequence_Data/G3_R2_filtered.fastq.gz\" \n",
       " [8] \"Trimmed_and_Filtered_Sequence_Data/G5_R2_filtered.fastq.gz\" \n",
       " [9] \"Trimmed_and_Filtered_Sequence_Data/G8_R2_filtered.fastq.gz\" \n",
       "[10] \"Trimmed_and_Filtered_Sequence_Data/G9_R2_filtered.fastq.gz\" "
      ]
     },
     "metadata": {},
     "output_type": "display_data"
    }
   ],
   "source": [
    "reverse_filtered_files"
   ]
  },
  {
   "cell_type": "markdown",
   "id": "c2699e3a-f461-4e72-9978-aadc71dff4f8",
   "metadata": {},
   "source": [
    "## Quality screening of starting data"
   ]
  },
  {
   "cell_type": "markdown",
   "id": "d00569d4-acf8-47b2-b743-04f82f0a6929",
   "metadata": {},
   "source": [
    "### FastQC on all"
   ]
  },
  {
   "cell_type": "code",
   "execution_count": 52,
   "id": "b49d6e78-9aff-46d6-858f-e2dfd9d5fd36",
   "metadata": {
    "tags": []
   },
   "outputs": [],
   "source": [
    "system2(\"fastqc\", \"-t 4\", paste0(*.gz\")"
   ]
  },
  {
   "cell_type": "code",
   "execution_count": 53,
   "id": "d9d0c020-d286-4a0a-a950-155f6964620a",
   "metadata": {
    "tags": []
   },
   "outputs": [
    {
     "data": {
      "text/html": [
       "<style>\n",
       ".list-inline {list-style: none; margin:0; padding: 0}\n",
       ".list-inline>li {display: inline-block}\n",
       ".list-inline>li:not(:last-child)::after {content: \"\\00b7\"; padding: 0 .5ex}\n",
       "</style>\n",
       "<ol class=list-inline><li>'F10_R1_raw_fastqc.html'</li><li>'F10_R1_raw_fastqc.zip'</li><li>'F10_R1_raw.fastq.gz'</li><li>'F10_R2_raw_fastqc.html'</li><li>'F10_R2_raw_fastqc.zip'</li><li>'F10_R2_raw.fastq.gz'</li><li>'F3_R1_raw_fastqc.html'</li><li>'F3_R1_raw_fastqc.zip'</li><li>'F3_R1_raw.fastq.gz'</li><li>'F3_R2_raw_fastqc.html'</li><li>'F3_R2_raw_fastqc.zip'</li><li>'F3_R2_raw.fastq.gz'</li><li>'F5_R1_raw_fastqc.html'</li><li>'F5_R1_raw_fastqc.zip'</li><li>'F5_R1_raw.fastq.gz'</li><li>'F5_R2_raw_fastqc.html'</li><li>'F5_R2_raw_fastqc.zip'</li><li>'F5_R2_raw.fastq.gz'</li><li>'F8_R1_raw_fastqc.html'</li><li>'F8_R1_raw_fastqc.zip'</li><li>'F8_R1_raw.fastq.gz'</li><li>'F8_R2_raw_fastqc.html'</li><li>'F8_R2_raw_fastqc.zip'</li><li>'F8_R2_raw.fastq.gz'</li><li>'F9_R1_raw_fastqc.html'</li><li>'F9_R1_raw_fastqc.zip'</li><li>'F9_R1_raw.fastq.gz'</li><li>'F9_R2_raw_fastqc.html'</li><li>'F9_R2_raw_fastqc.zip'</li><li>'F9_R2_raw.fastq.gz'</li><li>'G10_R1_raw_fastqc.html'</li><li>'G10_R1_raw_fastqc.zip'</li><li>'G10_R1_raw.fastq.gz'</li><li>'G10_R2_raw_fastqc.html'</li><li>'G10_R2_raw_fastqc.zip'</li><li>'G10_R2_raw.fastq.gz'</li><li>'G3_R1_raw_fastqc.html'</li><li>'G3_R1_raw_fastqc.zip'</li><li>'G3_R1_raw.fastq.gz'</li><li>'G3_R2_raw_fastqc.html'</li><li>'G3_R2_raw_fastqc.zip'</li><li>'G3_R2_raw.fastq.gz'</li><li>'G5_R1_raw_fastqc.html'</li><li>'G5_R1_raw_fastqc.zip'</li><li>'G5_R1_raw.fastq.gz'</li><li>'G5_R2_raw_fastqc.html'</li><li>'G5_R2_raw_fastqc.zip'</li><li>'G5_R2_raw.fastq.gz'</li><li>'G8_R1_raw_fastqc.html'</li><li>'G8_R1_raw_fastqc.zip'</li><li>'G8_R1_raw.fastq.gz'</li><li>'G8_R2_raw_fastqc.html'</li><li>'G8_R2_raw_fastqc.zip'</li><li>'G8_R2_raw.fastq.gz'</li><li>'G9_R1_raw_fastqc.html'</li><li>'G9_R1_raw_fastqc.zip'</li><li>'G9_R1_raw.fastq.gz'</li><li>'G9_R2_raw_fastqc.html'</li><li>'G9_R2_raw_fastqc.zip'</li><li>'G9_R2_raw.fastq.gz'</li></ol>\n"
      ],
      "text/latex": [
       "\\begin{enumerate*}\n",
       "\\item 'F10\\_R1\\_raw\\_fastqc.html'\n",
       "\\item 'F10\\_R1\\_raw\\_fastqc.zip'\n",
       "\\item 'F10\\_R1\\_raw.fastq.gz'\n",
       "\\item 'F10\\_R2\\_raw\\_fastqc.html'\n",
       "\\item 'F10\\_R2\\_raw\\_fastqc.zip'\n",
       "\\item 'F10\\_R2\\_raw.fastq.gz'\n",
       "\\item 'F3\\_R1\\_raw\\_fastqc.html'\n",
       "\\item 'F3\\_R1\\_raw\\_fastqc.zip'\n",
       "\\item 'F3\\_R1\\_raw.fastq.gz'\n",
       "\\item 'F3\\_R2\\_raw\\_fastqc.html'\n",
       "\\item 'F3\\_R2\\_raw\\_fastqc.zip'\n",
       "\\item 'F3\\_R2\\_raw.fastq.gz'\n",
       "\\item 'F5\\_R1\\_raw\\_fastqc.html'\n",
       "\\item 'F5\\_R1\\_raw\\_fastqc.zip'\n",
       "\\item 'F5\\_R1\\_raw.fastq.gz'\n",
       "\\item 'F5\\_R2\\_raw\\_fastqc.html'\n",
       "\\item 'F5\\_R2\\_raw\\_fastqc.zip'\n",
       "\\item 'F5\\_R2\\_raw.fastq.gz'\n",
       "\\item 'F8\\_R1\\_raw\\_fastqc.html'\n",
       "\\item 'F8\\_R1\\_raw\\_fastqc.zip'\n",
       "\\item 'F8\\_R1\\_raw.fastq.gz'\n",
       "\\item 'F8\\_R2\\_raw\\_fastqc.html'\n",
       "\\item 'F8\\_R2\\_raw\\_fastqc.zip'\n",
       "\\item 'F8\\_R2\\_raw.fastq.gz'\n",
       "\\item 'F9\\_R1\\_raw\\_fastqc.html'\n",
       "\\item 'F9\\_R1\\_raw\\_fastqc.zip'\n",
       "\\item 'F9\\_R1\\_raw.fastq.gz'\n",
       "\\item 'F9\\_R2\\_raw\\_fastqc.html'\n",
       "\\item 'F9\\_R2\\_raw\\_fastqc.zip'\n",
       "\\item 'F9\\_R2\\_raw.fastq.gz'\n",
       "\\item 'G10\\_R1\\_raw\\_fastqc.html'\n",
       "\\item 'G10\\_R1\\_raw\\_fastqc.zip'\n",
       "\\item 'G10\\_R1\\_raw.fastq.gz'\n",
       "\\item 'G10\\_R2\\_raw\\_fastqc.html'\n",
       "\\item 'G10\\_R2\\_raw\\_fastqc.zip'\n",
       "\\item 'G10\\_R2\\_raw.fastq.gz'\n",
       "\\item 'G3\\_R1\\_raw\\_fastqc.html'\n",
       "\\item 'G3\\_R1\\_raw\\_fastqc.zip'\n",
       "\\item 'G3\\_R1\\_raw.fastq.gz'\n",
       "\\item 'G3\\_R2\\_raw\\_fastqc.html'\n",
       "\\item 'G3\\_R2\\_raw\\_fastqc.zip'\n",
       "\\item 'G3\\_R2\\_raw.fastq.gz'\n",
       "\\item 'G5\\_R1\\_raw\\_fastqc.html'\n",
       "\\item 'G5\\_R1\\_raw\\_fastqc.zip'\n",
       "\\item 'G5\\_R1\\_raw.fastq.gz'\n",
       "\\item 'G5\\_R2\\_raw\\_fastqc.html'\n",
       "\\item 'G5\\_R2\\_raw\\_fastqc.zip'\n",
       "\\item 'G5\\_R2\\_raw.fastq.gz'\n",
       "\\item 'G8\\_R1\\_raw\\_fastqc.html'\n",
       "\\item 'G8\\_R1\\_raw\\_fastqc.zip'\n",
       "\\item 'G8\\_R1\\_raw.fastq.gz'\n",
       "\\item 'G8\\_R2\\_raw\\_fastqc.html'\n",
       "\\item 'G8\\_R2\\_raw\\_fastqc.zip'\n",
       "\\item 'G8\\_R2\\_raw.fastq.gz'\n",
       "\\item 'G9\\_R1\\_raw\\_fastqc.html'\n",
       "\\item 'G9\\_R1\\_raw\\_fastqc.zip'\n",
       "\\item 'G9\\_R1\\_raw.fastq.gz'\n",
       "\\item 'G9\\_R2\\_raw\\_fastqc.html'\n",
       "\\item 'G9\\_R2\\_raw\\_fastqc.zip'\n",
       "\\item 'G9\\_R2\\_raw.fastq.gz'\n",
       "\\end{enumerate*}\n"
      ],
      "text/markdown": [
       "1. 'F10_R1_raw_fastqc.html'\n",
       "2. 'F10_R1_raw_fastqc.zip'\n",
       "3. 'F10_R1_raw.fastq.gz'\n",
       "4. 'F10_R2_raw_fastqc.html'\n",
       "5. 'F10_R2_raw_fastqc.zip'\n",
       "6. 'F10_R2_raw.fastq.gz'\n",
       "7. 'F3_R1_raw_fastqc.html'\n",
       "8. 'F3_R1_raw_fastqc.zip'\n",
       "9. 'F3_R1_raw.fastq.gz'\n",
       "10. 'F3_R2_raw_fastqc.html'\n",
       "11. 'F3_R2_raw_fastqc.zip'\n",
       "12. 'F3_R2_raw.fastq.gz'\n",
       "13. 'F5_R1_raw_fastqc.html'\n",
       "14. 'F5_R1_raw_fastqc.zip'\n",
       "15. 'F5_R1_raw.fastq.gz'\n",
       "16. 'F5_R2_raw_fastqc.html'\n",
       "17. 'F5_R2_raw_fastqc.zip'\n",
       "18. 'F5_R2_raw.fastq.gz'\n",
       "19. 'F8_R1_raw_fastqc.html'\n",
       "20. 'F8_R1_raw_fastqc.zip'\n",
       "21. 'F8_R1_raw.fastq.gz'\n",
       "22. 'F8_R2_raw_fastqc.html'\n",
       "23. 'F8_R2_raw_fastqc.zip'\n",
       "24. 'F8_R2_raw.fastq.gz'\n",
       "25. 'F9_R1_raw_fastqc.html'\n",
       "26. 'F9_R1_raw_fastqc.zip'\n",
       "27. 'F9_R1_raw.fastq.gz'\n",
       "28. 'F9_R2_raw_fastqc.html'\n",
       "29. 'F9_R2_raw_fastqc.zip'\n",
       "30. 'F9_R2_raw.fastq.gz'\n",
       "31. 'G10_R1_raw_fastqc.html'\n",
       "32. 'G10_R1_raw_fastqc.zip'\n",
       "33. 'G10_R1_raw.fastq.gz'\n",
       "34. 'G10_R2_raw_fastqc.html'\n",
       "35. 'G10_R2_raw_fastqc.zip'\n",
       "36. 'G10_R2_raw.fastq.gz'\n",
       "37. 'G3_R1_raw_fastqc.html'\n",
       "38. 'G3_R1_raw_fastqc.zip'\n",
       "39. 'G3_R1_raw.fastq.gz'\n",
       "40. 'G3_R2_raw_fastqc.html'\n",
       "41. 'G3_R2_raw_fastqc.zip'\n",
       "42. 'G3_R2_raw.fastq.gz'\n",
       "43. 'G5_R1_raw_fastqc.html'\n",
       "44. 'G5_R1_raw_fastqc.zip'\n",
       "45. 'G5_R1_raw.fastq.gz'\n",
       "46. 'G5_R2_raw_fastqc.html'\n",
       "47. 'G5_R2_raw_fastqc.zip'\n",
       "48. 'G5_R2_raw.fastq.gz'\n",
       "49. 'G8_R1_raw_fastqc.html'\n",
       "50. 'G8_R1_raw_fastqc.zip'\n",
       "51. 'G8_R1_raw.fastq.gz'\n",
       "52. 'G8_R2_raw_fastqc.html'\n",
       "53. 'G8_R2_raw_fastqc.zip'\n",
       "54. 'G8_R2_raw.fastq.gz'\n",
       "55. 'G9_R1_raw_fastqc.html'\n",
       "56. 'G9_R1_raw_fastqc.zip'\n",
       "57. 'G9_R1_raw.fastq.gz'\n",
       "58. 'G9_R2_raw_fastqc.html'\n",
       "59. 'G9_R2_raw_fastqc.zip'\n",
       "60. 'G9_R2_raw.fastq.gz'\n",
       "\n",
       "\n"
      ],
      "text/plain": [
       " [1] \"F10_R1_raw_fastqc.html\" \"F10_R1_raw_fastqc.zip\"  \"F10_R1_raw.fastq.gz\"   \n",
       " [4] \"F10_R2_raw_fastqc.html\" \"F10_R2_raw_fastqc.zip\"  \"F10_R2_raw.fastq.gz\"   \n",
       " [7] \"F3_R1_raw_fastqc.html\"  \"F3_R1_raw_fastqc.zip\"   \"F3_R1_raw.fastq.gz\"    \n",
       "[10] \"F3_R2_raw_fastqc.html\"  \"F3_R2_raw_fastqc.zip\"   \"F3_R2_raw.fastq.gz\"    \n",
       "[13] \"F5_R1_raw_fastqc.html\"  \"F5_R1_raw_fastqc.zip\"   \"F5_R1_raw.fastq.gz\"    \n",
       "[16] \"F5_R2_raw_fastqc.html\"  \"F5_R2_raw_fastqc.zip\"   \"F5_R2_raw.fastq.gz\"    \n",
       "[19] \"F8_R1_raw_fastqc.html\"  \"F8_R1_raw_fastqc.zip\"   \"F8_R1_raw.fastq.gz\"    \n",
       "[22] \"F8_R2_raw_fastqc.html\"  \"F8_R2_raw_fastqc.zip\"   \"F8_R2_raw.fastq.gz\"    \n",
       "[25] \"F9_R1_raw_fastqc.html\"  \"F9_R1_raw_fastqc.zip\"   \"F9_R1_raw.fastq.gz\"    \n",
       "[28] \"F9_R2_raw_fastqc.html\"  \"F9_R2_raw_fastqc.zip\"   \"F9_R2_raw.fastq.gz\"    \n",
       "[31] \"G10_R1_raw_fastqc.html\" \"G10_R1_raw_fastqc.zip\"  \"G10_R1_raw.fastq.gz\"   \n",
       "[34] \"G10_R2_raw_fastqc.html\" \"G10_R2_raw_fastqc.zip\"  \"G10_R2_raw.fastq.gz\"   \n",
       "[37] \"G3_R1_raw_fastqc.html\"  \"G3_R1_raw_fastqc.zip\"   \"G3_R1_raw.fastq.gz\"    \n",
       "[40] \"G3_R2_raw_fastqc.html\"  \"G3_R2_raw_fastqc.zip\"   \"G3_R2_raw.fastq.gz\"    \n",
       "[43] \"G5_R1_raw_fastqc.html\"  \"G5_R1_raw_fastqc.zip\"   \"G5_R1_raw.fastq.gz\"    \n",
       "[46] \"G5_R2_raw_fastqc.html\"  \"G5_R2_raw_fastqc.zip\"   \"G5_R2_raw.fastq.gz\"    \n",
       "[49] \"G8_R1_raw_fastqc.html\"  \"G8_R1_raw_fastqc.zip\"   \"G8_R1_raw.fastq.gz\"    \n",
       "[52] \"G8_R2_raw_fastqc.html\"  \"G8_R2_raw_fastqc.zip\"   \"G8_R2_raw.fastq.gz\"    \n",
       "[55] \"G9_R1_raw_fastqc.html\"  \"G9_R1_raw_fastqc.zip\"   \"G9_R1_raw.fastq.gz\"    \n",
       "[58] \"G9_R2_raw_fastqc.html\"  \"G9_R2_raw_fastqc.zip\"   \"G9_R2_raw.fastq.gz\"    "
      ]
     },
     "metadata": {},
     "output_type": "display_data"
    }
   ],
   "source": [
    "list.files()"
   ]
  },
  {
   "cell_type": "markdown",
   "id": "a8491ea1-0b4e-4cfa-a4c6-df99834402a3",
   "metadata": {
    "tags": []
   },
   "source": [
    "We can look at one of these by navigating to it on the left and double-clicking on the html file"
   ]
  },
  {
   "cell_type": "code",
   "execution_count": 55,
   "id": "dfd8faaa-1017-4dfe-9004-c1c7e7749692",
   "metadata": {
    "tags": []
   },
   "outputs": [
    {
     "data": {
      "text/html": [
       "TRUE"
      ],
      "text/latex": [
       "TRUE"
      ],
      "text/markdown": [
       "TRUE"
      ],
      "text/plain": [
       "[1] TRUE"
      ]
     },
     "metadata": {},
     "output_type": "display_data"
    }
   ],
   "source": [
    "# temp code to copy one over while i'm building\n",
    "file.copy(\"G5_R1_raw_fastqc.html\", \"/Users/mdlee4/github/AstrobioMike.github.io/jupyter-notebooks/amplicon/\")"
   ]
  },
  {
   "cell_type": "markdown",
   "id": "b6a41768-c115-4a8d-8ece-58610bed106c",
   "metadata": {},
   "source": [
    "Most of these not important for amplicon data, but let's think about the per base sequence content for a second...\n",
    "\n",
    "- put in image here when finalizing things Mike"
   ]
  },
  {
   "cell_type": "markdown",
   "id": "97d4e0e6-3657-4b69-ace1-ad152826b99e",
   "metadata": {},
   "source": [
    "### MultiQC to combine them into one report"
   ]
  },
  {
   "cell_type": "code",
   "execution_count": 57,
   "id": "e146ee3d-c7b4-4e88-8a91-a633468baa3a",
   "metadata": {
    "tags": []
   },
   "outputs": [],
   "source": [
    "system(\"multiqc -n raw_multiqc . -o \")"
   ]
  },
  {
   "cell_type": "markdown",
   "id": "a33f2f36-bf72-4074-a848-1bca201d9d8a",
   "metadata": {},
   "source": [
    "We can look at this too by nagivating to it and double-clicking this html file:"
   ]
  },
  {
   "cell_type": "code",
   "execution_count": 58,
   "id": "cbbce4e7-953b-40b1-94bd-5f9c9a391255",
   "metadata": {
    "tags": []
   },
   "outputs": [
    {
     "data": {
      "text/html": [
       "TRUE"
      ],
      "text/latex": [
       "TRUE"
      ],
      "text/markdown": [
       "TRUE"
      ],
      "text/plain": [
       "[1] TRUE"
      ]
     },
     "metadata": {},
     "output_type": "display_data"
    }
   ],
   "source": [
    "# temp code to copy one over while i'm building\n",
    "file.copy(\"raw_multiqc.html\", \"/Users/mdlee4/github/AstrobioMike.github.io/jupyter-notebooks/amplicon/\")"
   ]
  },
  {
   "cell_type": "code",
   "execution_count": 114,
   "id": "5924daf1-e64c-41e3-9c8c-e2d132b8e5a0",
   "metadata": {
    "tags": []
   },
   "outputs": [
    {
     "data": {
      "text/html": [
       "<style>\n",
       ".list-inline {list-style: none; margin:0; padding: 0}\n",
       ".list-inline>li {display: inline-block}\n",
       ".list-inline>li:not(:last-child)::after {content: \"\\00b7\"; padding: 0 .5ex}\n",
       "</style>\n",
       "<ol class=list-inline><li>'F10_R1_raw_fastqc.html'</li><li>'F10_R1_raw_fastqc.zip'</li><li>'F10_R2_raw_fastqc.html'</li><li>'F10_R2_raw_fastqc.zip'</li><li>'F3_R1_raw_fastqc.html'</li><li>'F3_R1_raw_fastqc.zip'</li><li>'F3_R2_raw_fastqc.html'</li><li>'F3_R2_raw_fastqc.zip'</li><li>'F5_R1_raw_fastqc.html'</li><li>'F5_R1_raw_fastqc.zip'</li><li>'F5_R2_raw_fastqc.html'</li><li>'F5_R2_raw_fastqc.zip'</li><li>'F8_R1_raw_fastqc.html'</li><li>'F8_R1_raw_fastqc.zip'</li><li>'F8_R2_raw_fastqc.html'</li><li>'F8_R2_raw_fastqc.zip'</li><li>'F9_R1_raw_fastqc.html'</li><li>'F9_R1_raw_fastqc.zip'</li><li>'F9_R2_raw_fastqc.html'</li><li>'F9_R2_raw_fastqc.zip'</li><li>'G10_R1_raw_fastqc.html'</li><li>'G10_R1_raw_fastqc.zip'</li><li>'G10_R2_raw_fastqc.html'</li><li>'G10_R2_raw_fastqc.zip'</li><li>'G3_R1_raw_fastqc.html'</li><li>'G3_R1_raw_fastqc.zip'</li><li>'G3_R2_raw_fastqc.html'</li><li>'G3_R2_raw_fastqc.zip'</li><li>'G5_R1_raw_fastqc.html'</li><li>'G5_R1_raw_fastqc.zip'</li><li>'G5_R2_raw_fastqc.html'</li><li>'G5_R2_raw_fastqc.zip'</li><li>'G8_R1_raw_fastqc.html'</li><li>'G8_R1_raw_fastqc.zip'</li><li>'G8_R2_raw_fastqc.html'</li><li>'G8_R2_raw_fastqc.zip'</li><li>'G9_R1_raw_fastqc.html'</li><li>'G9_R1_raw_fastqc.zip'</li><li>'G9_R2_raw_fastqc.html'</li><li>'G9_R2_raw_fastqc.zip'</li></ol>\n"
      ],
      "text/latex": [
       "\\begin{enumerate*}\n",
       "\\item 'F10\\_R1\\_raw\\_fastqc.html'\n",
       "\\item 'F10\\_R1\\_raw\\_fastqc.zip'\n",
       "\\item 'F10\\_R2\\_raw\\_fastqc.html'\n",
       "\\item 'F10\\_R2\\_raw\\_fastqc.zip'\n",
       "\\item 'F3\\_R1\\_raw\\_fastqc.html'\n",
       "\\item 'F3\\_R1\\_raw\\_fastqc.zip'\n",
       "\\item 'F3\\_R2\\_raw\\_fastqc.html'\n",
       "\\item 'F3\\_R2\\_raw\\_fastqc.zip'\n",
       "\\item 'F5\\_R1\\_raw\\_fastqc.html'\n",
       "\\item 'F5\\_R1\\_raw\\_fastqc.zip'\n",
       "\\item 'F5\\_R2\\_raw\\_fastqc.html'\n",
       "\\item 'F5\\_R2\\_raw\\_fastqc.zip'\n",
       "\\item 'F8\\_R1\\_raw\\_fastqc.html'\n",
       "\\item 'F8\\_R1\\_raw\\_fastqc.zip'\n",
       "\\item 'F8\\_R2\\_raw\\_fastqc.html'\n",
       "\\item 'F8\\_R2\\_raw\\_fastqc.zip'\n",
       "\\item 'F9\\_R1\\_raw\\_fastqc.html'\n",
       "\\item 'F9\\_R1\\_raw\\_fastqc.zip'\n",
       "\\item 'F9\\_R2\\_raw\\_fastqc.html'\n",
       "\\item 'F9\\_R2\\_raw\\_fastqc.zip'\n",
       "\\item 'G10\\_R1\\_raw\\_fastqc.html'\n",
       "\\item 'G10\\_R1\\_raw\\_fastqc.zip'\n",
       "\\item 'G10\\_R2\\_raw\\_fastqc.html'\n",
       "\\item 'G10\\_R2\\_raw\\_fastqc.zip'\n",
       "\\item 'G3\\_R1\\_raw\\_fastqc.html'\n",
       "\\item 'G3\\_R1\\_raw\\_fastqc.zip'\n",
       "\\item 'G3\\_R2\\_raw\\_fastqc.html'\n",
       "\\item 'G3\\_R2\\_raw\\_fastqc.zip'\n",
       "\\item 'G5\\_R1\\_raw\\_fastqc.html'\n",
       "\\item 'G5\\_R1\\_raw\\_fastqc.zip'\n",
       "\\item 'G5\\_R2\\_raw\\_fastqc.html'\n",
       "\\item 'G5\\_R2\\_raw\\_fastqc.zip'\n",
       "\\item 'G8\\_R1\\_raw\\_fastqc.html'\n",
       "\\item 'G8\\_R1\\_raw\\_fastqc.zip'\n",
       "\\item 'G8\\_R2\\_raw\\_fastqc.html'\n",
       "\\item 'G8\\_R2\\_raw\\_fastqc.zip'\n",
       "\\item 'G9\\_R1\\_raw\\_fastqc.html'\n",
       "\\item 'G9\\_R1\\_raw\\_fastqc.zip'\n",
       "\\item 'G9\\_R2\\_raw\\_fastqc.html'\n",
       "\\item 'G9\\_R2\\_raw\\_fastqc.zip'\n",
       "\\end{enumerate*}\n"
      ],
      "text/markdown": [
       "1. 'F10_R1_raw_fastqc.html'\n",
       "2. 'F10_R1_raw_fastqc.zip'\n",
       "3. 'F10_R2_raw_fastqc.html'\n",
       "4. 'F10_R2_raw_fastqc.zip'\n",
       "5. 'F3_R1_raw_fastqc.html'\n",
       "6. 'F3_R1_raw_fastqc.zip'\n",
       "7. 'F3_R2_raw_fastqc.html'\n",
       "8. 'F3_R2_raw_fastqc.zip'\n",
       "9. 'F5_R1_raw_fastqc.html'\n",
       "10. 'F5_R1_raw_fastqc.zip'\n",
       "11. 'F5_R2_raw_fastqc.html'\n",
       "12. 'F5_R2_raw_fastqc.zip'\n",
       "13. 'F8_R1_raw_fastqc.html'\n",
       "14. 'F8_R1_raw_fastqc.zip'\n",
       "15. 'F8_R2_raw_fastqc.html'\n",
       "16. 'F8_R2_raw_fastqc.zip'\n",
       "17. 'F9_R1_raw_fastqc.html'\n",
       "18. 'F9_R1_raw_fastqc.zip'\n",
       "19. 'F9_R2_raw_fastqc.html'\n",
       "20. 'F9_R2_raw_fastqc.zip'\n",
       "21. 'G10_R1_raw_fastqc.html'\n",
       "22. 'G10_R1_raw_fastqc.zip'\n",
       "23. 'G10_R2_raw_fastqc.html'\n",
       "24. 'G10_R2_raw_fastqc.zip'\n",
       "25. 'G3_R1_raw_fastqc.html'\n",
       "26. 'G3_R1_raw_fastqc.zip'\n",
       "27. 'G3_R2_raw_fastqc.html'\n",
       "28. 'G3_R2_raw_fastqc.zip'\n",
       "29. 'G5_R1_raw_fastqc.html'\n",
       "30. 'G5_R1_raw_fastqc.zip'\n",
       "31. 'G5_R2_raw_fastqc.html'\n",
       "32. 'G5_R2_raw_fastqc.zip'\n",
       "33. 'G8_R1_raw_fastqc.html'\n",
       "34. 'G8_R1_raw_fastqc.zip'\n",
       "35. 'G8_R2_raw_fastqc.html'\n",
       "36. 'G8_R2_raw_fastqc.zip'\n",
       "37. 'G9_R1_raw_fastqc.html'\n",
       "38. 'G9_R1_raw_fastqc.zip'\n",
       "39. 'G9_R2_raw_fastqc.html'\n",
       "40. 'G9_R2_raw_fastqc.zip'\n",
       "\n",
       "\n"
      ],
      "text/plain": [
       " [1] \"F10_R1_raw_fastqc.html\" \"F10_R1_raw_fastqc.zip\"  \"F10_R2_raw_fastqc.html\"\n",
       " [4] \"F10_R2_raw_fastqc.zip\"  \"F3_R1_raw_fastqc.html\"  \"F3_R1_raw_fastqc.zip\"  \n",
       " [7] \"F3_R2_raw_fastqc.html\"  \"F3_R2_raw_fastqc.zip\"   \"F5_R1_raw_fastqc.html\" \n",
       "[10] \"F5_R1_raw_fastqc.zip\"   \"F5_R2_raw_fastqc.html\"  \"F5_R2_raw_fastqc.zip\"  \n",
       "[13] \"F8_R1_raw_fastqc.html\"  \"F8_R1_raw_fastqc.zip\"   \"F8_R2_raw_fastqc.html\" \n",
       "[16] \"F8_R2_raw_fastqc.zip\"   \"F9_R1_raw_fastqc.html\"  \"F9_R1_raw_fastqc.zip\"  \n",
       "[19] \"F9_R2_raw_fastqc.html\"  \"F9_R2_raw_fastqc.zip\"   \"G10_R1_raw_fastqc.html\"\n",
       "[22] \"G10_R1_raw_fastqc.zip\"  \"G10_R2_raw_fastqc.html\" \"G10_R2_raw_fastqc.zip\" \n",
       "[25] \"G3_R1_raw_fastqc.html\"  \"G3_R1_raw_fastqc.zip\"   \"G3_R2_raw_fastqc.html\" \n",
       "[28] \"G3_R2_raw_fastqc.zip\"   \"G5_R1_raw_fastqc.html\"  \"G5_R1_raw_fastqc.zip\"  \n",
       "[31] \"G5_R2_raw_fastqc.html\"  \"G5_R2_raw_fastqc.zip\"   \"G8_R1_raw_fastqc.html\" \n",
       "[34] \"G8_R1_raw_fastqc.zip\"   \"G8_R2_raw_fastqc.html\"  \"G8_R2_raw_fastqc.zip\"  \n",
       "[37] \"G9_R1_raw_fastqc.html\"  \"G9_R1_raw_fastqc.zip\"   \"G9_R2_raw_fastqc.html\" \n",
       "[40] \"G9_R2_raw_fastqc.zip\"  "
      ]
     },
     "metadata": {},
     "output_type": "display_data"
    }
   ],
   "source": [
    "list.files(pattern = \"fastqc\")"
   ]
  },
  {
   "cell_type": "code",
   "execution_count": 115,
   "id": "b830c346-cf8d-4c11-99c6-9c39b264484b",
   "metadata": {
    "tags": []
   },
   "outputs": [
    {
     "data": {
      "text/html": [
       "<style>\n",
       ".list-inline {list-style: none; margin:0; padding: 0}\n",
       ".list-inline>li {display: inline-block}\n",
       ".list-inline>li:not(:last-child)::after {content: \"\\00b7\"; padding: 0 .5ex}\n",
       "</style>\n",
       "<ol class=list-inline><li>TRUE</li><li>TRUE</li><li>TRUE</li><li>TRUE</li><li>TRUE</li><li>TRUE</li><li>TRUE</li><li>TRUE</li><li>TRUE</li><li>TRUE</li><li>TRUE</li><li>TRUE</li><li>TRUE</li><li>TRUE</li><li>TRUE</li><li>TRUE</li><li>TRUE</li><li>TRUE</li><li>TRUE</li><li>TRUE</li><li>TRUE</li><li>TRUE</li><li>TRUE</li><li>TRUE</li><li>TRUE</li><li>TRUE</li><li>TRUE</li><li>TRUE</li><li>TRUE</li><li>TRUE</li><li>TRUE</li><li>TRUE</li><li>TRUE</li><li>TRUE</li><li>TRUE</li><li>TRUE</li><li>TRUE</li><li>TRUE</li><li>TRUE</li><li>TRUE</li></ol>\n"
      ],
      "text/latex": [
       "\\begin{enumerate*}\n",
       "\\item TRUE\n",
       "\\item TRUE\n",
       "\\item TRUE\n",
       "\\item TRUE\n",
       "\\item TRUE\n",
       "\\item TRUE\n",
       "\\item TRUE\n",
       "\\item TRUE\n",
       "\\item TRUE\n",
       "\\item TRUE\n",
       "\\item TRUE\n",
       "\\item TRUE\n",
       "\\item TRUE\n",
       "\\item TRUE\n",
       "\\item TRUE\n",
       "\\item TRUE\n",
       "\\item TRUE\n",
       "\\item TRUE\n",
       "\\item TRUE\n",
       "\\item TRUE\n",
       "\\item TRUE\n",
       "\\item TRUE\n",
       "\\item TRUE\n",
       "\\item TRUE\n",
       "\\item TRUE\n",
       "\\item TRUE\n",
       "\\item TRUE\n",
       "\\item TRUE\n",
       "\\item TRUE\n",
       "\\item TRUE\n",
       "\\item TRUE\n",
       "\\item TRUE\n",
       "\\item TRUE\n",
       "\\item TRUE\n",
       "\\item TRUE\n",
       "\\item TRUE\n",
       "\\item TRUE\n",
       "\\item TRUE\n",
       "\\item TRUE\n",
       "\\item TRUE\n",
       "\\end{enumerate*}\n"
      ],
      "text/markdown": [
       "1. TRUE\n",
       "2. TRUE\n",
       "3. TRUE\n",
       "4. TRUE\n",
       "5. TRUE\n",
       "6. TRUE\n",
       "7. TRUE\n",
       "8. TRUE\n",
       "9. TRUE\n",
       "10. TRUE\n",
       "11. TRUE\n",
       "12. TRUE\n",
       "13. TRUE\n",
       "14. TRUE\n",
       "15. TRUE\n",
       "16. TRUE\n",
       "17. TRUE\n",
       "18. TRUE\n",
       "19. TRUE\n",
       "20. TRUE\n",
       "21. TRUE\n",
       "22. TRUE\n",
       "23. TRUE\n",
       "24. TRUE\n",
       "25. TRUE\n",
       "26. TRUE\n",
       "27. TRUE\n",
       "28. TRUE\n",
       "29. TRUE\n",
       "30. TRUE\n",
       "31. TRUE\n",
       "32. TRUE\n",
       "33. TRUE\n",
       "34. TRUE\n",
       "35. TRUE\n",
       "36. TRUE\n",
       "37. TRUE\n",
       "38. TRUE\n",
       "39. TRUE\n",
       "40. TRUE\n",
       "\n",
       "\n"
      ],
      "text/plain": [
       " [1] TRUE TRUE TRUE TRUE TRUE TRUE TRUE TRUE TRUE TRUE TRUE TRUE TRUE TRUE TRUE\n",
       "[16] TRUE TRUE TRUE TRUE TRUE TRUE TRUE TRUE TRUE TRUE TRUE TRUE TRUE TRUE TRUE\n",
       "[31] TRUE TRUE TRUE TRUE TRUE TRUE TRUE TRUE TRUE TRUE"
      ]
     },
     "metadata": {},
     "output_type": "display_data"
    }
   ],
   "source": [
    "# and removing regular fastqc outputs now that they are grouped by multiqc\n",
    "list.files(pattern = \"fastqc\") %>% file.remove()"
   ]
  },
  {
   "cell_type": "code",
   "execution_count": 116,
   "id": "6d6c5f9f-855f-487f-8a17-953ce476cf3b",
   "metadata": {
    "tags": []
   },
   "outputs": [
    {
     "data": {
      "text/html": [
       "<style>\n",
       ".list-inline {list-style: none; margin:0; padding: 0}\n",
       ".list-inline>li {display: inline-block}\n",
       ".list-inline>li:not(:last-child)::after {content: \"\\00b7\"; padding: 0 .5ex}\n",
       "</style>\n",
       "<ol class=list-inline><li>'F10_R1_filtered.fastq.gz'</li><li>'F10_R1_raw.fastq.gz'</li><li>'F10_R2_filtered.fastq.gz'</li><li>'F10_R2_raw.fastq.gz'</li><li>'F3_R1_filtered.fastq.gz'</li><li>'F3_R1_raw.fastq.gz'</li><li>'F3_R2_filtered.fastq.gz'</li><li>'F3_R2_raw.fastq.gz'</li><li>'F5_R1_filtered.fastq.gz'</li><li>'F5_R1_raw.fastq.gz'</li><li>'F5_R2_filtered.fastq.gz'</li><li>'F5_R2_raw.fastq.gz'</li><li>'F8_R1_filtered.fastq.gz'</li><li>'F8_R1_raw.fastq.gz'</li><li>'F8_R2_filtered.fastq.gz'</li><li>'F8_R2_raw.fastq.gz'</li><li>'F9_R1_filtered.fastq.gz'</li><li>'F9_R1_raw.fastq.gz'</li><li>'F9_R2_filtered.fastq.gz'</li><li>'F9_R2_raw.fastq.gz'</li><li>'G10_R1_filtered.fastq.gz'</li><li>'G10_R1_raw.fastq.gz'</li><li>'G10_R2_filtered.fastq.gz'</li><li>'G10_R2_raw.fastq.gz'</li><li>'G3_R1_filtered.fastq.gz'</li><li>'G3_R1_raw.fastq.gz'</li><li>'G3_R2_filtered.fastq.gz'</li><li>'G3_R2_raw.fastq.gz'</li><li>'G5_R1_filtered.fastq.gz'</li><li>'G5_R1_raw.fastq.gz'</li><li>'G5_R2_filtered.fastq.gz'</li><li>'G5_R2_raw.fastq.gz'</li><li>'G8_R1_filtered.fastq.gz'</li><li>'G8_R1_raw.fastq.gz'</li><li>'G8_R2_filtered.fastq.gz'</li><li>'G8_R2_raw.fastq.gz'</li><li>'G9_R1_filtered.fastq.gz'</li><li>'G9_R1_raw.fastq.gz'</li><li>'G9_R2_filtered.fastq.gz'</li><li>'G9_R2_raw.fastq.gz'</li><li>'raw_multiqc_data'</li><li>'raw_multiqc.html'</li></ol>\n"
      ],
      "text/latex": [
       "\\begin{enumerate*}\n",
       "\\item 'F10\\_R1\\_filtered.fastq.gz'\n",
       "\\item 'F10\\_R1\\_raw.fastq.gz'\n",
       "\\item 'F10\\_R2\\_filtered.fastq.gz'\n",
       "\\item 'F10\\_R2\\_raw.fastq.gz'\n",
       "\\item 'F3\\_R1\\_filtered.fastq.gz'\n",
       "\\item 'F3\\_R1\\_raw.fastq.gz'\n",
       "\\item 'F3\\_R2\\_filtered.fastq.gz'\n",
       "\\item 'F3\\_R2\\_raw.fastq.gz'\n",
       "\\item 'F5\\_R1\\_filtered.fastq.gz'\n",
       "\\item 'F5\\_R1\\_raw.fastq.gz'\n",
       "\\item 'F5\\_R2\\_filtered.fastq.gz'\n",
       "\\item 'F5\\_R2\\_raw.fastq.gz'\n",
       "\\item 'F8\\_R1\\_filtered.fastq.gz'\n",
       "\\item 'F8\\_R1\\_raw.fastq.gz'\n",
       "\\item 'F8\\_R2\\_filtered.fastq.gz'\n",
       "\\item 'F8\\_R2\\_raw.fastq.gz'\n",
       "\\item 'F9\\_R1\\_filtered.fastq.gz'\n",
       "\\item 'F9\\_R1\\_raw.fastq.gz'\n",
       "\\item 'F9\\_R2\\_filtered.fastq.gz'\n",
       "\\item 'F9\\_R2\\_raw.fastq.gz'\n",
       "\\item 'G10\\_R1\\_filtered.fastq.gz'\n",
       "\\item 'G10\\_R1\\_raw.fastq.gz'\n",
       "\\item 'G10\\_R2\\_filtered.fastq.gz'\n",
       "\\item 'G10\\_R2\\_raw.fastq.gz'\n",
       "\\item 'G3\\_R1\\_filtered.fastq.gz'\n",
       "\\item 'G3\\_R1\\_raw.fastq.gz'\n",
       "\\item 'G3\\_R2\\_filtered.fastq.gz'\n",
       "\\item 'G3\\_R2\\_raw.fastq.gz'\n",
       "\\item 'G5\\_R1\\_filtered.fastq.gz'\n",
       "\\item 'G5\\_R1\\_raw.fastq.gz'\n",
       "\\item 'G5\\_R2\\_filtered.fastq.gz'\n",
       "\\item 'G5\\_R2\\_raw.fastq.gz'\n",
       "\\item 'G8\\_R1\\_filtered.fastq.gz'\n",
       "\\item 'G8\\_R1\\_raw.fastq.gz'\n",
       "\\item 'G8\\_R2\\_filtered.fastq.gz'\n",
       "\\item 'G8\\_R2\\_raw.fastq.gz'\n",
       "\\item 'G9\\_R1\\_filtered.fastq.gz'\n",
       "\\item 'G9\\_R1\\_raw.fastq.gz'\n",
       "\\item 'G9\\_R2\\_filtered.fastq.gz'\n",
       "\\item 'G9\\_R2\\_raw.fastq.gz'\n",
       "\\item 'raw\\_multiqc\\_data'\n",
       "\\item 'raw\\_multiqc.html'\n",
       "\\end{enumerate*}\n"
      ],
      "text/markdown": [
       "1. 'F10_R1_filtered.fastq.gz'\n",
       "2. 'F10_R1_raw.fastq.gz'\n",
       "3. 'F10_R2_filtered.fastq.gz'\n",
       "4. 'F10_R2_raw.fastq.gz'\n",
       "5. 'F3_R1_filtered.fastq.gz'\n",
       "6. 'F3_R1_raw.fastq.gz'\n",
       "7. 'F3_R2_filtered.fastq.gz'\n",
       "8. 'F3_R2_raw.fastq.gz'\n",
       "9. 'F5_R1_filtered.fastq.gz'\n",
       "10. 'F5_R1_raw.fastq.gz'\n",
       "11. 'F5_R2_filtered.fastq.gz'\n",
       "12. 'F5_R2_raw.fastq.gz'\n",
       "13. 'F8_R1_filtered.fastq.gz'\n",
       "14. 'F8_R1_raw.fastq.gz'\n",
       "15. 'F8_R2_filtered.fastq.gz'\n",
       "16. 'F8_R2_raw.fastq.gz'\n",
       "17. 'F9_R1_filtered.fastq.gz'\n",
       "18. 'F9_R1_raw.fastq.gz'\n",
       "19. 'F9_R2_filtered.fastq.gz'\n",
       "20. 'F9_R2_raw.fastq.gz'\n",
       "21. 'G10_R1_filtered.fastq.gz'\n",
       "22. 'G10_R1_raw.fastq.gz'\n",
       "23. 'G10_R2_filtered.fastq.gz'\n",
       "24. 'G10_R2_raw.fastq.gz'\n",
       "25. 'G3_R1_filtered.fastq.gz'\n",
       "26. 'G3_R1_raw.fastq.gz'\n",
       "27. 'G3_R2_filtered.fastq.gz'\n",
       "28. 'G3_R2_raw.fastq.gz'\n",
       "29. 'G5_R1_filtered.fastq.gz'\n",
       "30. 'G5_R1_raw.fastq.gz'\n",
       "31. 'G5_R2_filtered.fastq.gz'\n",
       "32. 'G5_R2_raw.fastq.gz'\n",
       "33. 'G8_R1_filtered.fastq.gz'\n",
       "34. 'G8_R1_raw.fastq.gz'\n",
       "35. 'G8_R2_filtered.fastq.gz'\n",
       "36. 'G8_R2_raw.fastq.gz'\n",
       "37. 'G9_R1_filtered.fastq.gz'\n",
       "38. 'G9_R1_raw.fastq.gz'\n",
       "39. 'G9_R2_filtered.fastq.gz'\n",
       "40. 'G9_R2_raw.fastq.gz'\n",
       "41. 'raw_multiqc_data'\n",
       "42. 'raw_multiqc.html'\n",
       "\n",
       "\n"
      ],
      "text/plain": [
       " [1] \"F10_R1_filtered.fastq.gz\" \"F10_R1_raw.fastq.gz\"     \n",
       " [3] \"F10_R2_filtered.fastq.gz\" \"F10_R2_raw.fastq.gz\"     \n",
       " [5] \"F3_R1_filtered.fastq.gz\"  \"F3_R1_raw.fastq.gz\"      \n",
       " [7] \"F3_R2_filtered.fastq.gz\"  \"F3_R2_raw.fastq.gz\"      \n",
       " [9] \"F5_R1_filtered.fastq.gz\"  \"F5_R1_raw.fastq.gz\"      \n",
       "[11] \"F5_R2_filtered.fastq.gz\"  \"F5_R2_raw.fastq.gz\"      \n",
       "[13] \"F8_R1_filtered.fastq.gz\"  \"F8_R1_raw.fastq.gz\"      \n",
       "[15] \"F8_R2_filtered.fastq.gz\"  \"F8_R2_raw.fastq.gz\"      \n",
       "[17] \"F9_R1_filtered.fastq.gz\"  \"F9_R1_raw.fastq.gz\"      \n",
       "[19] \"F9_R2_filtered.fastq.gz\"  \"F9_R2_raw.fastq.gz\"      \n",
       "[21] \"G10_R1_filtered.fastq.gz\" \"G10_R1_raw.fastq.gz\"     \n",
       "[23] \"G10_R2_filtered.fastq.gz\" \"G10_R2_raw.fastq.gz\"     \n",
       "[25] \"G3_R1_filtered.fastq.gz\"  \"G3_R1_raw.fastq.gz\"      \n",
       "[27] \"G3_R2_filtered.fastq.gz\"  \"G3_R2_raw.fastq.gz\"      \n",
       "[29] \"G5_R1_filtered.fastq.gz\"  \"G5_R1_raw.fastq.gz\"      \n",
       "[31] \"G5_R2_filtered.fastq.gz\"  \"G5_R2_raw.fastq.gz\"      \n",
       "[33] \"G8_R1_filtered.fastq.gz\"  \"G8_R1_raw.fastq.gz\"      \n",
       "[35] \"G8_R2_filtered.fastq.gz\"  \"G8_R2_raw.fastq.gz\"      \n",
       "[37] \"G9_R1_filtered.fastq.gz\"  \"G9_R1_raw.fastq.gz\"      \n",
       "[39] \"G9_R2_filtered.fastq.gz\"  \"G9_R2_raw.fastq.gz\"      \n",
       "[41] \"raw_multiqc_data\"         \"raw_multiqc.html\"        "
      ]
     },
     "metadata": {},
     "output_type": "display_data"
    }
   ],
   "source": [
    "list.files()"
   ]
  },
  {
   "cell_type": "markdown",
   "id": "d8303be3-bcf9-4282-9c22-8fe1e347c89a",
   "metadata": {},
   "source": [
    "## Checking on settings to remove primers\n",
    "\n",
    "It is imperative that we properly remove the primers. We can try trimming the primers with dada2's quality trimming/filtering program. But before we run it on everything, we're going to closely look at and test things on one sample – looking at the sequences before and after so we can visibly check the primers are indeed being removed.\n",
    "\n",
    "These are the primers for this dataset, and the IUPAC degenerate-base codes."
   ]
  },
  {
   "cell_type": "markdown",
   "id": "ee910c10-0244-406d-a8ce-8ea30afd9aef",
   "metadata": {},
   "source": [
    "```\n",
    "f primer: GTGYCAGCMGCCGCGGTAA\n",
    "r primer: GGACTACNVGGGTWTCTAAT\n",
    "\n",
    "Y = C/T  \n",
    "M = A/C  \n",
    "N = A/T/G/C  \n",
    "V = A/C/G  \n",
    "W = A/T  \n",
    "```"
   ]
  },
  {
   "cell_type": "markdown",
   "id": "33f6a899-feb0-4715-a8a4-8332932fe806",
   "metadata": {},
   "source": [
    "### Ensuring we can spot the primers"
   ]
  },
  {
   "cell_type": "code",
   "execution_count": 72,
   "id": "97a6dfb2-97ec-455e-ac85-537ebabecab6",
   "metadata": {
    "tags": []
   },
   "outputs": [],
   "source": [
    "# establishing a connect with the F10 forward read file\n",
    "incon <- gzcon(file(\"F10_R1_raw.fastq.gz\", open = \"rb\"))"
   ]
  },
  {
   "cell_type": "code",
   "execution_count": 73,
   "id": "425cbc45-7f8c-43b5-a0a5-9591e29a334c",
   "metadata": {
    "tags": []
   },
   "outputs": [],
   "source": [
    "# this reads in the first 8 lines, with each set of 4 lines holding one fastq entry\n",
    "stuff <- readLines(incon, 8)"
   ]
  },
  {
   "cell_type": "code",
   "execution_count": 74,
   "id": "d8bd09ed-79fe-4421-bc81-cb16a6b4fa6c",
   "metadata": {
    "tags": []
   },
   "outputs": [
    {
     "data": {
      "text/html": [
       "<style>\n",
       ".list-inline {list-style: none; margin:0; padding: 0}\n",
       ".list-inline>li {display: inline-block}\n",
       ".list-inline>li:not(:last-child)::after {content: \"\\00b7\"; padding: 0 .5ex}\n",
       "</style>\n",
       "<ol class=list-inline><li>'GTGCCAGCAGCCGCGGTAATACGGAGGATGCGAGCGTTATCCGGATTTAATGGGTTTAAAGGGTGCGTAGGTGGTTAATTAAGTCAGCGGTGAAAGTATGTGGCTCAACCATAAAATTGCCGTTGAAACTGGTTGACTTGAGTATAGTAGAGG'</li><li>'GTGCCAGCCGCCGCGGTAATACGTAGGGGGCAAGCGTTATCCGGATTTACTGGGAGTAAAGGGAGCGTAGACGGCCAGACAAGTCTGAAGTGAAAATTCAGCGCTTAACTTTGGAAGTGCTTTGGAAACTGCCGGGATAGAGTGCAGGAGGGG'</li></ol>\n"
      ],
      "text/latex": [
       "\\begin{enumerate*}\n",
       "\\item 'GTGCCAGCAGCCGCGGTAATACGGAGGATGCGAGCGTTATCCGGATTTAATGGGTTTAAAGGGTGCGTAGGTGGTTAATTAAGTCAGCGGTGAAAGTATGTGGCTCAACCATAAAATTGCCGTTGAAACTGGTTGACTTGAGTATAGTAGAGG'\n",
       "\\item 'GTGCCAGCCGCCGCGGTAATACGTAGGGGGCAAGCGTTATCCGGATTTACTGGGAGTAAAGGGAGCGTAGACGGCCAGACAAGTCTGAAGTGAAAATTCAGCGCTTAACTTTGGAAGTGCTTTGGAAACTGCCGGGATAGAGTGCAGGAGGGG'\n",
       "\\end{enumerate*}\n"
      ],
      "text/markdown": [
       "1. 'GTGCCAGCAGCCGCGGTAATACGGAGGATGCGAGCGTTATCCGGATTTAATGGGTTTAAAGGGTGCGTAGGTGGTTAATTAAGTCAGCGGTGAAAGTATGTGGCTCAACCATAAAATTGCCGTTGAAACTGGTTGACTTGAGTATAGTAGAGG'\n",
       "2. 'GTGCCAGCCGCCGCGGTAATACGTAGGGGGCAAGCGTTATCCGGATTTACTGGGAGTAAAGGGAGCGTAGACGGCCAGACAAGTCTGAAGTGAAAATTCAGCGCTTAACTTTGGAAGTGCTTTGGAAACTGCCGGGATAGAGTGCAGGAGGGG'\n",
       "\n",
       "\n"
      ],
      "text/plain": [
       "[1] \"GTGCCAGCAGCCGCGGTAATACGGAGGATGCGAGCGTTATCCGGATTTAATGGGTTTAAAGGGTGCGTAGGTGGTTAATTAAGTCAGCGGTGAAAGTATGTGGCTCAACCATAAAATTGCCGTTGAAACTGGTTGACTTGAGTATAGTAGAGG\"\n",
       "[2] \"GTGCCAGCCGCCGCGGTAATACGTAGGGGGCAAGCGTTATCCGGATTTACTGGGAGTAAAGGGAGCGTAGACGGCCAGACAAGTCTGAAGTGAAAATTCAGCGCTTAACTTTGGAAGTGCTTTGGAAACTGCCGGGATAGAGTGCAGGAGGGG\""
      ]
     },
     "metadata": {},
     "output_type": "display_data"
    }
   ],
   "source": [
    "# here is how we can just get the sequences for the first 2 entries\n",
    "stuff[c(2,6)]"
   ]
  },
  {
   "cell_type": "markdown",
   "id": "2dde8282-d274-4897-8db7-3a5a45121b0a",
   "metadata": {
    "tags": []
   },
   "source": [
    "They each start exactly with the forward primer sequence right up front, which isn't always the case (the asterisks are over the degenerate bases):"
   ]
  },
  {
   "cell_type": "markdown",
   "id": "457e12c2-526f-408e-b23a-c8afd5078676",
   "metadata": {
    "tags": []
   },
   "source": [
    "```\n",
    "                           *    *\n",
    "forward primer:         GTGYCAGCMGCCGCGGTAA\n",
    "forward read 1 start:   GTGCCAGCAGCCGCGGTAA\n",
    "forward read 2 start:   GTGCCAGCCGCCGCGGTAA\n",
    "```"
   ]
  },
  {
   "cell_type": "markdown",
   "id": "a435f14a-39ed-4ab3-947d-bfa53fb57a82",
   "metadata": {},
   "source": [
    "Let's look at a couple reverse reads:"
   ]
  },
  {
   "cell_type": "code",
   "execution_count": 75,
   "id": "176ff446-0112-4926-bd9a-7bd74118849b",
   "metadata": {
    "tags": []
   },
   "outputs": [],
   "source": [
    "# establishing a connection\n",
    "incon <- gzcon(file(\"F10_R2_raw.fastq.gz\", open = \"rb\"))\n",
    "\n",
    "# storing the first 8 lines in a variable\n",
    "stuff_rev <- readLines(incon, 8)"
   ]
  },
  {
   "cell_type": "code",
   "execution_count": 77,
   "id": "3fcecaa9-de85-44fe-8c81-f86b982d4b28",
   "metadata": {
    "tags": []
   },
   "outputs": [
    {
     "data": {
      "text/html": [
       "<style>\n",
       ".list-inline {list-style: none; margin:0; padding: 0}\n",
       ".list-inline>li {display: inline-block}\n",
       ".list-inline>li:not(:last-child)::after {content: \"\\00b7\"; padding: 0 .5ex}\n",
       "</style>\n",
       "<ol class=list-inline><li>'GGACTACTAGGGTTTCTAATCCTGTTTGATCCCCACGCTTTCGTGCATCAGTGTCAGTTATAGAAAAGTAAGCAGCCTTCGCAAACGGAGTTCAGCGAGATATCTAAGCATTTCACCGCTANACNANGNNTTCCGCCTACCTCAAATAAACTC'</li><li>'GGACTACCCGGGTTTCTAATCCTTTTTGCTCCCCACGCCTTCGAGCCTCAACGTCAGTTGCAGTCCAGCAGGACGCCTTCGCCACTGGTGTTCCTCCTAATATCTACGCATTTCACCGCTANACTANGAATTCCGCCTGCCCCTCCTGCACTC'</li></ol>\n"
      ],
      "text/latex": [
       "\\begin{enumerate*}\n",
       "\\item 'GGACTACTAGGGTTTCTAATCCTGTTTGATCCCCACGCTTTCGTGCATCAGTGTCAGTTATAGAAAAGTAAGCAGCCTTCGCAAACGGAGTTCAGCGAGATATCTAAGCATTTCACCGCTANACNANGNNTTCCGCCTACCTCAAATAAACTC'\n",
       "\\item 'GGACTACCCGGGTTTCTAATCCTTTTTGCTCCCCACGCCTTCGAGCCTCAACGTCAGTTGCAGTCCAGCAGGACGCCTTCGCCACTGGTGTTCCTCCTAATATCTACGCATTTCACCGCTANACTANGAATTCCGCCTGCCCCTCCTGCACTC'\n",
       "\\end{enumerate*}\n"
      ],
      "text/markdown": [
       "1. 'GGACTACTAGGGTTTCTAATCCTGTTTGATCCCCACGCTTTCGTGCATCAGTGTCAGTTATAGAAAAGTAAGCAGCCTTCGCAAACGGAGTTCAGCGAGATATCTAAGCATTTCACCGCTANACNANGNNTTCCGCCTACCTCAAATAAACTC'\n",
       "2. 'GGACTACCCGGGTTTCTAATCCTTTTTGCTCCCCACGCCTTCGAGCCTCAACGTCAGTTGCAGTCCAGCAGGACGCCTTCGCCACTGGTGTTCCTCCTAATATCTACGCATTTCACCGCTANACTANGAATTCCGCCTGCCCCTCCTGCACTC'\n",
       "\n",
       "\n"
      ],
      "text/plain": [
       "[1] \"GGACTACTAGGGTTTCTAATCCTGTTTGATCCCCACGCTTTCGTGCATCAGTGTCAGTTATAGAAAAGTAAGCAGCCTTCGCAAACGGAGTTCAGCGAGATATCTAAGCATTTCACCGCTANACNANGNNTTCCGCCTACCTCAAATAAACTC\"\n",
       "[2] \"GGACTACCCGGGTTTCTAATCCTTTTTGCTCCCCACGCCTTCGAGCCTCAACGTCAGTTGCAGTCCAGCAGGACGCCTTCGCCACTGGTGTTCCTCCTAATATCTACGCATTTCACCGCTANACTANGAATTCCGCCTGCCCCTCCTGCACTC\""
      ]
     },
     "metadata": {},
     "output_type": "display_data"
    }
   ],
   "source": [
    "# and looking at the first 2 sequences\n",
    "stuff_rev[c(2,6)]"
   ]
  },
  {
   "cell_type": "markdown",
   "id": "4d962a98-6ab1-4694-b2a5-5d9c0e812f5f",
   "metadata": {},
   "source": [
    "They each start exactly with the reverse primer sequence right up front:\n",
    "\n",
    "```\n",
    "                                **    *\n",
    "reverse primer:          GGACTACNVGGGTWTCTAAT\n",
    "reverse read 1 start:    GGACTACTAGGGTTTCTAAT\n",
    "reverse read 2 start:    GGACTACCCGGGTTTCTAAT\n",
    "```"
   ]
  },
  {
   "cell_type": "markdown",
   "id": "462670d0-4d8d-45dc-b89a-80fd758423af",
   "metadata": {},
   "source": [
    "### Doing a test trimming where we specify to cut these off\n",
    "The forward primer is 19 bases, the reverse is 20. We can pass these values to the `trimLeft` argument of dada2's `filterAndTrim()` function:"
   ]
  },
  {
   "cell_type": "code",
   "execution_count": 66,
   "id": "8a987295-1b46-4081-8b45-412cdfafcfd9",
   "metadata": {
    "tags": []
   },
   "outputs": [],
   "source": [
    "filterAndTrim(fwd = \"F10_R1_raw.fastq.gz\", \n",
    "              rev = \"F10_R2_raw.fastq.gz\", \n",
    "              filt = \"F10_R1_filtered.fastq.gz\",\n",
    "              filt.rev = \"F10_R2_filtered.fastq.gz\", \n",
    "              trimLeft = c(19, 20))"
   ]
  },
  {
   "cell_type": "markdown",
   "id": "0af612a3-19cf-4fc6-8c22-cb32decb45a9",
   "metadata": {},
   "source": [
    "### Ensuring those settings successfully removed the primers\n",
    "Now we are going to peek at the output trimmed files to make sure we cut off the primers, doing the same things we did above to read in part of the file and then just look at the first 2 sequences of the forward and reverse reads:"
   ]
  },
  {
   "cell_type": "code",
   "execution_count": 79,
   "id": "cbba7b23-0893-4f6d-b8ca-c6a8bf2b58b7",
   "metadata": {
    "tags": []
   },
   "outputs": [],
   "source": [
    "# establishing a connection and storing the first 8 lines into a file in one line now\n",
    "filt_stuff <- gzcon(file(\"F10_R1_filtered.fastq.gz\", open = \"rb\")) %>% readLines(8)\n",
    "    # reminder that this is the same as writing things nested this way\n",
    "# filt_stuff <- readLines(gzcon(file(\"F10_R1_filtered.fastq.gz\", open = \"rb\")), 8)"
   ]
  },
  {
   "cell_type": "code",
   "execution_count": 81,
   "id": "3f2445cc-3879-479a-abb3-7576b0b62c46",
   "metadata": {
    "tags": []
   },
   "outputs": [
    {
     "data": {
      "text/html": [
       "<style>\n",
       ".list-inline {list-style: none; margin:0; padding: 0}\n",
       ".list-inline>li {display: inline-block}\n",
       ".list-inline>li:not(:last-child)::after {content: \"\\00b7\"; padding: 0 .5ex}\n",
       "</style>\n",
       "<ol class=list-inline><li>'TACGGAGGATGCGAGCGTTATCCGGATTTAATGGGTTTAAAGGGTGCGTAGGTGGTTAATTAAGTCAGCGGTGAAAGTATGTGGCTCAACCATAAAATTGCCGTTGAAACTGGTTGACTTGAGTATAGTAGAGG'</li><li>'TACGTAGGGGGCAAGCGTTATCCGGATTTACTGGGAGTAAAGGGAGCGTAGACGGCCAGACAAGTCTGAAGTGAAAATTCAGCGCTTAACTTTGGAAGTGCTTTGGAAACTGCCGGGATAGAGTGCAGGAGGGG'</li></ol>\n"
      ],
      "text/latex": [
       "\\begin{enumerate*}\n",
       "\\item 'TACGGAGGATGCGAGCGTTATCCGGATTTAATGGGTTTAAAGGGTGCGTAGGTGGTTAATTAAGTCAGCGGTGAAAGTATGTGGCTCAACCATAAAATTGCCGTTGAAACTGGTTGACTTGAGTATAGTAGAGG'\n",
       "\\item 'TACGTAGGGGGCAAGCGTTATCCGGATTTACTGGGAGTAAAGGGAGCGTAGACGGCCAGACAAGTCTGAAGTGAAAATTCAGCGCTTAACTTTGGAAGTGCTTTGGAAACTGCCGGGATAGAGTGCAGGAGGGG'\n",
       "\\end{enumerate*}\n"
      ],
      "text/markdown": [
       "1. 'TACGGAGGATGCGAGCGTTATCCGGATTTAATGGGTTTAAAGGGTGCGTAGGTGGTTAATTAAGTCAGCGGTGAAAGTATGTGGCTCAACCATAAAATTGCCGTTGAAACTGGTTGACTTGAGTATAGTAGAGG'\n",
       "2. 'TACGTAGGGGGCAAGCGTTATCCGGATTTACTGGGAGTAAAGGGAGCGTAGACGGCCAGACAAGTCTGAAGTGAAAATTCAGCGCTTAACTTTGGAAGTGCTTTGGAAACTGCCGGGATAGAGTGCAGGAGGGG'\n",
       "\n",
       "\n"
      ],
      "text/plain": [
       "[1] \"TACGGAGGATGCGAGCGTTATCCGGATTTAATGGGTTTAAAGGGTGCGTAGGTGGTTAATTAAGTCAGCGGTGAAAGTATGTGGCTCAACCATAAAATTGCCGTTGAAACTGGTTGACTTGAGTATAGTAGAGG\"\n",
       "[2] \"TACGTAGGGGGCAAGCGTTATCCGGATTTACTGGGAGTAAAGGGAGCGTAGACGGCCAGACAAGTCTGAAGTGAAAATTCAGCGCTTAACTTTGGAAGTGCTTTGGAAACTGCCGGGATAGAGTGCAGGAGGGG\""
      ]
     },
     "metadata": {},
     "output_type": "display_data"
    }
   ],
   "source": [
    "filt_stuff[c(2,6)]"
   ]
  },
  {
   "cell_type": "markdown",
   "id": "48235ec2-2575-4e88-a3ac-0ae6158511a0",
   "metadata": {
    "tags": []
   },
   "source": [
    "These previously started:\n",
    "\n",
    "```\n",
    "                            *    *\n",
    "forward primer:          GTGYCAGCMGCCGCGGTAA\n",
    "original fwd read 1:     GTGCCAGCAGCCGCGGTAA   TACGGAGGAT\n",
    "original fwd read 2:     GTGCCAGCCGCCGCGGTAA   TACGTAGGGG\n",
    "```\n",
    "\n",
    "They each now begin right after the forward primer 👍"
   ]
  },
  {
   "cell_type": "code",
   "execution_count": 84,
   "id": "a8ef06ca-afe1-42ff-bf9e-90c61757886e",
   "metadata": {
    "tags": []
   },
   "outputs": [],
   "source": [
    "filt_stuff_rev <- gzcon(file(\"F10_R2_filtered.fastq.gz\", open = \"rb\")) %>% readLines(8)"
   ]
  },
  {
   "cell_type": "code",
   "execution_count": 85,
   "id": "e2473c24-61d3-4ad7-9023-fddd2047adcd",
   "metadata": {
    "tags": []
   },
   "outputs": [
    {
     "data": {
      "text/html": [
       "<style>\n",
       ".list-inline {list-style: none; margin:0; padding: 0}\n",
       ".list-inline>li {display: inline-block}\n",
       ".list-inline>li:not(:last-child)::after {content: \"\\00b7\"; padding: 0 .5ex}\n",
       "</style>\n",
       "<ol class=list-inline><li>'CCTGTTTGATCCCCACGCTTTCGTGCATCAGTGTCAGTTATAGAAAAGTAAGCAGCCTTCGCAAACGGAGTTCAGCGAGATATCTAAGCATTTCACCGCTA'</li><li>'CCTTTTTGCTCCCCACGCCTTCGAGCCTCAACGTCAGTTGCAGTCCAGCAGGACGCCTTCGCCACTGGTGTTCCTCCTAATATCTACGCATTTCACCGCTA'</li></ol>\n"
      ],
      "text/latex": [
       "\\begin{enumerate*}\n",
       "\\item 'CCTGTTTGATCCCCACGCTTTCGTGCATCAGTGTCAGTTATAGAAAAGTAAGCAGCCTTCGCAAACGGAGTTCAGCGAGATATCTAAGCATTTCACCGCTA'\n",
       "\\item 'CCTTTTTGCTCCCCACGCCTTCGAGCCTCAACGTCAGTTGCAGTCCAGCAGGACGCCTTCGCCACTGGTGTTCCTCCTAATATCTACGCATTTCACCGCTA'\n",
       "\\end{enumerate*}\n"
      ],
      "text/markdown": [
       "1. 'CCTGTTTGATCCCCACGCTTTCGTGCATCAGTGTCAGTTATAGAAAAGTAAGCAGCCTTCGCAAACGGAGTTCAGCGAGATATCTAAGCATTTCACCGCTA'\n",
       "2. 'CCTTTTTGCTCCCCACGCCTTCGAGCCTCAACGTCAGTTGCAGTCCAGCAGGACGCCTTCGCCACTGGTGTTCCTCCTAATATCTACGCATTTCACCGCTA'\n",
       "\n",
       "\n"
      ],
      "text/plain": [
       "[1] \"CCTGTTTGATCCCCACGCTTTCGTGCATCAGTGTCAGTTATAGAAAAGTAAGCAGCCTTCGCAAACGGAGTTCAGCGAGATATCTAAGCATTTCACCGCTA\"\n",
       "[2] \"CCTTTTTGCTCCCCACGCCTTCGAGCCTCAACGTCAGTTGCAGTCCAGCAGGACGCCTTCGCCACTGGTGTTCCTCCTAATATCTACGCATTTCACCGCTA\""
      ]
     },
     "metadata": {},
     "output_type": "display_data"
    }
   ],
   "source": [
    "filt_stuff_rev[c(2,6)]"
   ]
  },
  {
   "cell_type": "markdown",
   "id": "87000b13-d391-47be-81c7-ca5ccf18e77f",
   "metadata": {
    "tags": []
   },
   "source": [
    "These previously started:\n",
    "\n",
    "```\n",
    "                                **    *\n",
    "reverse primer:          GGACTACNVGGGTWTCTAAT\n",
    "original rev read 1:     GGACTACTAGGGTTTCTAAT  CCTGTTTGAT\n",
    "original rev read 2:     GGACTACCCGGGTTTCTAAT  CCTTTTTGCT\n",
    "```\n",
    "\n",
    "They each now begin right after the reverse primer 👍"
   ]
  },
  {
   "cell_type": "markdown",
   "id": "5587d6ad-8ccc-4089-9d40-401406690325",
   "metadata": {},
   "source": [
    "So with that confirmation (or looking at some more samples if wanted), we can be fairly confident in using that `trimLeft` argument for all our samples to remove the primers (since these were all prepared and sequenced together the same way).\n",
    "\n",
    "Now just removing those test output files so we know for sure we run everything the same way when we do all of them:"
   ]
  },
  {
   "cell_type": "code",
   "execution_count": 104,
   "id": "da5e2583-17a6-4eda-81c3-1ec7718b2276",
   "metadata": {
    "tags": []
   },
   "outputs": [
    {
     "data": {
      "text/html": [
       "<style>\n",
       ".list-inline {list-style: none; margin:0; padding: 0}\n",
       ".list-inline>li {display: inline-block}\n",
       ".list-inline>li:not(:last-child)::after {content: \"\\00b7\"; padding: 0 .5ex}\n",
       "</style>\n",
       "<ol class=list-inline><li>TRUE</li><li>TRUE</li></ol>\n"
      ],
      "text/latex": [
       "\\begin{enumerate*}\n",
       "\\item TRUE\n",
       "\\item TRUE\n",
       "\\end{enumerate*}\n"
      ],
      "text/markdown": [
       "1. TRUE\n",
       "2. TRUE\n",
       "\n",
       "\n"
      ],
      "text/plain": [
       "[1] TRUE TRUE"
      ]
     },
     "metadata": {},
     "output_type": "display_data"
    }
   ],
   "source": [
    "file.remove(\"F10_R1_filtered.fastq.gz\", \"F10_R2_filtered.fastq.gz\")"
   ]
  },
  {
   "cell_type": "markdown",
   "id": "f484ebcd-0afb-4985-85c2-5016a2526446",
   "metadata": {},
   "source": [
    "## Processing with dada2"
   ]
  },
  {
   "cell_type": "markdown",
   "id": "09e4be0e-6b57-429a-9472-692b60bd746f",
   "metadata": {},
   "source": [
    "### Quality trimming/filtering (including removing primers)"
   ]
  },
  {
   "cell_type": "code",
   "execution_count": 106,
   "id": "45f5c2fa-ccb6-49fd-8c80-0b3b5241d19b",
   "metadata": {
    "tags": []
   },
   "outputs": [],
   "source": [
    "filtered_out <- filterAndTrim(fwd = forward_raw_files, \n",
    "                              rev = reverse_raw_files, \n",
    "                              filt = forward_filtered_files, \n",
    "                              filt.rev = reverse_filtered_files, \n",
    "                              trimLeft = c(19, 20), \n",
    "                              maxEE = c(1,1),\n",
    "                              multithread = 4)"
   ]
  },
  {
   "cell_type": "markdown",
   "id": "46984186-188d-4efc-b30e-189ae2258b4d",
   "metadata": {},
   "source": [
    "**I'm not sure which of these formats i like better yet**"
   ]
  },
  {
   "cell_type": "markdown",
   "id": "141bbca6-26b9-4cad-93a6-09abda5425a0",
   "metadata": {
    "tags": []
   },
   "source": [
    "<div class=\"alert alert-block alert-info\">\n",
    "<b>Function breakdown</b>\n",
    "<br>\n",
    "</div>\n",
    "\n",
    "- `filterAndTrim()` - primary function\n",
    "    - `fwd = `      - where we provide the object holding all the forward read input files\n",
    "    - `rev = `      - where we provide the object holding all the reverse read input files\n",
    "    - `filt = `     - where we provide the object holding what will be the output forward read files\n",
    "    - `filt.rev = ` - where we provide the object holding what will be the output reverse read files\n",
    "    - `trimLeft = ` - how many bases we want to have trimmed off the left side of the reads (providing them as a vector like this with two numbers means the first will used for the forward reads and the second for the reverse reads)\n",
    "    - `maxEE = `    - maximum \"expected error\" to allow for the forward and reverse reads (similar to above; you can read more about \"expected error\" [here](https://www.drive5.com/usearch/manual/exp_errs.html) and in its original publication [here](https://academic.oup.com/bioinformatics/article/31/21/3476/194979))\n",
    "    \n",
    "<div class=\"alert alert-block alert-info\">\n",
    "<b><hr></b>\n",
    "</div>\n"
   ]
  },
  {
   "cell_type": "markdown",
   "id": "f8d97e7d-680d-45ea-bd47-9f391747011d",
   "metadata": {
    "tags": []
   },
   "source": [
    "<div class=\"alert alert-block alert-info\">\n",
    "<b>Function breakdown</b>\n",
    "<br>\n",
    "\n",
    "- `filterAndTrim()` - primary function\n",
    "    - `fwd = `      - where we provide the object holding all the forward read input files\n",
    "    - `rev = `      - where we provide the object holding all the reverse read input files\n",
    "    - `filt = `     - where we provide the object holding what will be the output forward read files\n",
    "    - `filt.rev = ` - where we provide the object holding what will be the output reverse read files\n",
    "    - `trimLeft = ` - how many bases we want to have trimmed off the left side of the reads (providing them as a vector like this with two numbers means the first will used for the forward reads and the second for the reverse reads)\n",
    "    - `maxEE = `    - maximum \"expected error\" to allow for the forward and reverse reads (similar to above; you can read more about \"expected error\" [here](https://www.drive5.com/usearch/manual/exp_errs.html) and in its original publication [here](https://academic.oup.com/bioinformatics/article/31/21/3476/194979))\n",
    "\n",
    "</div>\n"
   ]
  },
  {
   "cell_type": "markdown",
   "id": "4c125680-7529-410c-959f-f7fa55a2e1f9",
   "metadata": {},
   "source": [
    "**Switch back to amplicon-QC.ipynb in order to run fastqc/multiqc and look at these (if i decide to do that at the command line)**"
   ]
  },
  {
   "cell_type": "markdown",
   "id": "661dcfc4-30d2-49fa-821d-621e1c31fe18",
   "metadata": {},
   "source": [
    "### Generate error model of data"
   ]
  },
  {
   "cell_type": "code",
   "execution_count": 117,
   "id": "7efd064e-504c-4b2a-96ff-d7ea1e1695d1",
   "metadata": {
    "tags": []
   },
   "outputs": [
    {
     "name": "stdout",
     "output_type": "stream",
     "text": [
      "35427743 total bases in 264532 reads from 10 samples will be used for learning the error rates.\n",
      "35167163 total bases in 264532 reads from 10 samples will be used for learning the error rates.\n"
     ]
    }
   ],
   "source": [
    "# took about 45 seconds with subset dataset on local with 4 cpus\n",
    "err_forward_reads <- learnErrors(forward_filtered_files, multithread = 4)\n",
    "err_reverse_reads <- learnErrors(reverse_filtered_files, multithread = 4)"
   ]
  },
  {
   "cell_type": "markdown",
   "id": "14759e61-444d-4661-b1ed-537f5d6bd121",
   "metadata": {},
   "source": [
    "### Inferring sequences"
   ]
  },
  {
   "cell_type": "code",
   "execution_count": 118,
   "id": "747df00c-4e3d-4cd8-bdad-5a95de695299",
   "metadata": {
    "tags": []
   },
   "outputs": [
    {
     "name": "stdout",
     "output_type": "stream",
     "text": [
      "Sample 1 - 26560 reads in 5943 unique sequences.\n",
      "Sample 2 - 27920 reads in 5622 unique sequences.\n",
      "Sample 3 - 28023 reads in 5632 unique sequences.\n",
      "Sample 4 - 26796 reads in 5478 unique sequences.\n",
      "Sample 5 - 24666 reads in 5149 unique sequences.\n",
      "Sample 6 - 23554 reads in 4555 unique sequences.\n",
      "Sample 7 - 27674 reads in 5859 unique sequences.\n",
      "Sample 8 - 28505 reads in 5894 unique sequences.\n",
      "Sample 9 - 28276 reads in 5248 unique sequences.\n",
      "Sample 10 - 22558 reads in 4454 unique sequences.\n",
      "\n",
      "   selfConsist step 2Sample 1 - 26560 reads in 5985 unique sequences.\n",
      "Sample 2 - 27920 reads in 5528 unique sequences.\n",
      "Sample 3 - 28023 reads in 5558 unique sequences.\n",
      "Sample 4 - 26796 reads in 5454 unique sequences.\n",
      "Sample 5 - 24666 reads in 5174 unique sequences.\n",
      "Sample 6 - 23554 reads in 4375 unique sequences.\n",
      "Sample 7 - 27674 reads in 5730 unique sequences.\n",
      "Sample 8 - 28505 reads in 5747 unique sequences.\n",
      "Sample 9 - 28276 reads in 5235 unique sequences.\n",
      "Sample 10 - 22558 reads in 4381 unique sequences.\n",
      "\n",
      "   selfConsist step 2"
     ]
    }
   ],
   "source": [
    "# took about 20 seconds with subset dataset on local with 4 cpus\n",
    "forward_seqs <- dada(forward_filtered_files, err = err_forward_reads, pool = \"pseudo\", multithread = 4)\n",
    "reverse_seqs <- dada(reverse_filtered_files, err = err_reverse_reads, pool = \"pseudo\", multithread = 4)"
   ]
  },
  {
   "cell_type": "markdown",
   "id": "334c0550-ecc6-454c-8781-962275268ef3",
   "metadata": {},
   "source": [
    "### Merging forward and reverse reads"
   ]
  },
  {
   "cell_type": "code",
   "execution_count": 119,
   "id": "c664a3c1-1c2b-4257-96f9-17b3aef11504",
   "metadata": {
    "tags": []
   },
   "outputs": [],
   "source": [
    "merged_amplicons <- mergePairs(dadaF = forward_seqs, derepF = forward_filtered_files, \n",
    "                               dadaR = reverse_seqs, derepR = reverse_filtered_files)"
   ]
  },
  {
   "cell_type": "markdown",
   "id": "57f93c4d-d48d-47a0-9645-119f4ccde3eb",
   "metadata": {},
   "source": [
    "### Generating sequence table with counts per sample"
   ]
  },
  {
   "cell_type": "code",
   "execution_count": 120,
   "id": "a3cdfee5-4c0c-485e-99fe-883a052eed70",
   "metadata": {
    "tags": []
   },
   "outputs": [],
   "source": [
    "seqtab <- makeSequenceTable(merged_amplicons)"
   ]
  },
  {
   "cell_type": "markdown",
   "id": "459dabe0-dad6-4153-b7fc-4b5d27e35f2a",
   "metadata": {
    "tags": []
   },
   "source": [
    "### Removing putative chimeras"
   ]
  },
  {
   "cell_type": "code",
   "execution_count": 121,
   "id": "c81d8c70-cccb-46e9-ae6c-2cf875bd7e60",
   "metadata": {
    "tags": []
   },
   "outputs": [],
   "source": [
    "seqtab.nochim <- removeBimeraDenovo(seqtab, multithread = 4)"
   ]
  },
  {
   "cell_type": "code",
   "execution_count": 122,
   "id": "5a16016c-9c99-4072-9630-a08d77fc60f1",
   "metadata": {
    "tags": []
   },
   "outputs": [
    {
     "data": {
      "text/html": [
       "<style>\n",
       ".list-inline {list-style: none; margin:0; padding: 0}\n",
       ".list-inline>li {display: inline-block}\n",
       ".list-inline>li:not(:last-child)::after {content: \"\\00b7\"; padding: 0 .5ex}\n",
       "</style>\n",
       "<ol class=list-inline><li>10</li><li>504</li></ol>\n"
      ],
      "text/latex": [
       "\\begin{enumerate*}\n",
       "\\item 10\n",
       "\\item 504\n",
       "\\end{enumerate*}\n"
      ],
      "text/markdown": [
       "1. 10\n",
       "2. 504\n",
       "\n",
       "\n"
      ],
      "text/plain": [
       "[1]  10 504"
      ]
     },
     "metadata": {},
     "output_type": "display_data"
    }
   ],
   "source": [
    "dim(seqtab)"
   ]
  },
  {
   "cell_type": "code",
   "execution_count": 123,
   "id": "21c4ead2-16a7-47a4-b308-fdc06dfd5ad8",
   "metadata": {
    "tags": []
   },
   "outputs": [
    {
     "data": {
      "text/html": [
       "<style>\n",
       ".list-inline {list-style: none; margin:0; padding: 0}\n",
       ".list-inline>li {display: inline-block}\n",
       ".list-inline>li:not(:last-child)::after {content: \"\\00b7\"; padding: 0 .5ex}\n",
       "</style>\n",
       "<ol class=list-inline><li>10</li><li>85</li></ol>\n"
      ],
      "text/latex": [
       "\\begin{enumerate*}\n",
       "\\item 10\n",
       "\\item 85\n",
       "\\end{enumerate*}\n"
      ],
      "text/markdown": [
       "1. 10\n",
       "2. 85\n",
       "\n",
       "\n"
      ],
      "text/plain": [
       "[1] 10 85"
      ]
     },
     "metadata": {},
     "output_type": "display_data"
    }
   ],
   "source": [
    "dim(seqtab.nochim)"
   ]
  },
  {
   "cell_type": "code",
   "execution_count": 124,
   "id": "e16e067c-d711-40a8-af8a-ee02e5ab51ec",
   "metadata": {
    "tags": []
   },
   "outputs": [
    {
     "data": {
      "text/html": [
       "95.7675600614249"
      ],
      "text/latex": [
       "95.7675600614249"
      ],
      "text/markdown": [
       "95.7675600614249"
      ],
      "text/plain": [
       "[1] 95.76756"
      ]
     },
     "metadata": {},
     "output_type": "display_data"
    }
   ],
   "source": [
    "sum(seqtab.nochim) / sum(seqtab) * 100"
   ]
  },
  {
   "cell_type": "markdown",
   "id": "69a7bc4e-7c69-4b9c-8e2d-508c0905f82b",
   "metadata": {},
   "source": [
    "We retained 96% of the initial sequences."
   ]
  },
  {
   "cell_type": "markdown",
   "id": "c43a107f-ccd1-47ba-8f17-829e85710a9f",
   "metadata": {
    "tags": []
   },
   "source": [
    "### Assigning taxonomy"
   ]
  },
  {
   "cell_type": "code",
   "execution_count": 125,
   "id": "f8c8ccdd-6cad-4ff5-939d-caecc935a513",
   "metadata": {
    "tags": []
   },
   "outputs": [
    {
     "name": "stderr",
     "output_type": "stream",
     "text": [
      "Loading required package: Biostrings\n",
      "\n",
      "Loading required package: BiocGenerics\n",
      "\n",
      "Loading required package: parallel\n",
      "\n",
      "\n",
      "Attaching package: ‘BiocGenerics’\n",
      "\n",
      "\n",
      "The following objects are masked from ‘package:parallel’:\n",
      "\n",
      "    clusterApply, clusterApplyLB, clusterCall, clusterEvalQ,\n",
      "    clusterExport, clusterMap, parApply, parCapply, parLapply,\n",
      "    parLapplyLB, parRapply, parSapply, parSapplyLB\n",
      "\n",
      "\n",
      "The following objects are masked from ‘package:dplyr’:\n",
      "\n",
      "    combine, intersect, setdiff, union\n",
      "\n",
      "\n",
      "The following objects are masked from ‘package:stats’:\n",
      "\n",
      "    IQR, mad, sd, var, xtabs\n",
      "\n",
      "\n",
      "The following objects are masked from ‘package:base’:\n",
      "\n",
      "    anyDuplicated, append, as.data.frame, basename, cbind, colnames,\n",
      "    dirname, do.call, duplicated, eval, evalq, Filter, Find, get, grep,\n",
      "    grepl, intersect, is.unsorted, lapply, Map, mapply, match, mget,\n",
      "    order, paste, pmax, pmax.int, pmin, pmin.int, Position, rank,\n",
      "    rbind, Reduce, rownames, sapply, setdiff, sort, table, tapply,\n",
      "    union, unique, unsplit, which.max, which.min\n",
      "\n",
      "\n",
      "Loading required package: S4Vectors\n",
      "\n",
      "Loading required package: stats4\n",
      "\n",
      "\n",
      "Attaching package: ‘S4Vectors’\n",
      "\n",
      "\n",
      "The following objects are masked from ‘package:dplyr’:\n",
      "\n",
      "    first, rename\n",
      "\n",
      "\n",
      "The following object is masked from ‘package:tidyr’:\n",
      "\n",
      "    expand\n",
      "\n",
      "\n",
      "The following objects are masked from ‘package:base’:\n",
      "\n",
      "    expand.grid, I, unname\n",
      "\n",
      "\n",
      "Loading required package: IRanges\n",
      "\n",
      "\n",
      "Attaching package: ‘IRanges’\n",
      "\n",
      "\n",
      "The following objects are masked from ‘package:dplyr’:\n",
      "\n",
      "    collapse, desc, slice\n",
      "\n",
      "\n",
      "The following object is masked from ‘package:purrr’:\n",
      "\n",
      "    reduce\n",
      "\n",
      "\n",
      "Loading required package: XVector\n",
      "\n",
      "\n",
      "Attaching package: ‘XVector’\n",
      "\n",
      "\n",
      "The following object is masked from ‘package:purrr’:\n",
      "\n",
      "    compact\n",
      "\n",
      "\n",
      "Loading required package: GenomeInfoDb\n",
      "\n",
      "\n",
      "Attaching package: ‘Biostrings’\n",
      "\n",
      "\n",
      "The following object is masked from ‘package:base’:\n",
      "\n",
      "    strsplit\n",
      "\n",
      "\n",
      "Loading required package: RSQLite\n",
      "\n"
     ]
    }
   ],
   "source": [
    "# loading library used for taxonomy assignment\n",
    "library(DECIPHER)"
   ]
  },
  {
   "cell_type": "code",
   "execution_count": 126,
   "id": "50ca57c4-0495-4495-9d5a-1cabb2c0b69c",
   "metadata": {
    "tags": []
   },
   "outputs": [],
   "source": [
    "# creating the type of object needed\n",
    "dna <- DNAStringSet(getSequences(seqtab.nochim))"
   ]
  },
  {
   "cell_type": "code",
   "execution_count": 127,
   "id": "291bdb9e-b516-4562-9a20-9c51cfcda63a",
   "metadata": {},
   "outputs": [],
   "source": [
    "# downloading reference PUT THIS SOMEWHERE, MIKE, MAYBE ON THE SYSTEM, OR MAYBE JUST A BACKUP DOWNLOADABLE FROM FIGSHARE\n",
    "download.file(url = \"http://www2.decipher.codes/Classification/TrainingSets/SILVA_SSU_r138_2019.RData\", destfile = \"SILVA_SSU_r138_2019.RData\")"
   ]
  },
  {
   "cell_type": "code",
   "execution_count": 128,
   "id": "5f1b6052-a6e1-4fed-9675-817e96543334",
   "metadata": {
    "tags": []
   },
   "outputs": [],
   "source": [
    "# loading reference\n",
    "load(\"SILVA_SSU_r138_2019.RData\")"
   ]
  },
  {
   "cell_type": "code",
   "execution_count": 129,
   "id": "c4189374-c862-4463-9619-217c00b8deda",
   "metadata": {
    "tags": []
   },
   "outputs": [
    {
     "name": "stdout",
     "output_type": "stream",
     "text": [
      "================================================================================\n",
      "\n",
      "Time difference of 48.28 secs\n",
      "\n"
     ]
    }
   ],
   "source": [
    "# took about 60 seconds with subset dataset on local with 4 cpus\n",
    "# classifying sequences\n",
    "tax_info <- IdTaxa(dna, trainingSet = trainingSet, strand = \"both\", processors = 4)"
   ]
  },
  {
   "cell_type": "code",
   "execution_count": 130,
   "id": "f1c8225f-335c-4556-a81f-725045815c66",
   "metadata": {
    "tags": []
   },
   "outputs": [
    {
     "data": {
      "text/plain": [
       "  A test set of class 'Taxa' with length 85\n",
       "     confidence taxon\n",
       " [1]        97% Root; Bacteria; Bacteroidota; Bacteroidia; Bacteroidales; Tan...\n",
       " [2]        65% Root; Bacteria; Firmicutes; Clostridia; Lachnospirales; Lachn...\n",
       " [3]        96% Root; Bacteria; Firmicutes; Bacilli; Erysipelotrichales; Erys...\n",
       " [4]        69% Root; Bacteria; Firmicutes; Clostridia; Oscillospirales; Rumi...\n",
       " [5]        67% Root; Bacteria; Firmicutes; Clostridia; Lachnospirales; Lachn...\n",
       " ...        ... ...\n",
       "[81]        61% Root; Bacteria; Proteobacteria; Gammaproteobacteria; Oceanosp...\n",
       "[82]        64% Root; Bacteria; Firmicutes; Bacilli; Paenibacillales; Paeniba...\n",
       "[83]        74% Root; Bacteria; Firmicutes; Clostridia; Lachnospirales; Lachn...\n",
       "[84]        74% Root; Bacteria; Bacteroidota; Bacteroidia; unclassified_Bacte...\n",
       "[85]        90% Root; Bacteria; Firmicutes; Clostridia; Lachnospirales; Lachn..."
      ]
     },
     "metadata": {},
     "output_type": "display_data"
    }
   ],
   "source": [
    "tax_info"
   ]
  },
  {
   "cell_type": "markdown",
   "id": "f46a061f-fa00-41f4-947d-933a915402cb",
   "metadata": {},
   "source": [
    "### Generating and writing standard outputs"
   ]
  },
  {
   "cell_type": "code",
   "execution_count": 131,
   "id": "ebf219e0-cb12-4eb3-a86b-0e183f328474",
   "metadata": {
    "tags": []
   },
   "outputs": [],
   "source": [
    "# giving sequences more manageable names\n",
    "asv_seqs <- colnames(seqtab.nochim)\n",
    "asv_headers <- vector(dim(seqtab.nochim)[2], mode = \"character\")\n",
    "\n",
    "for (i in 1:dim(seqtab.nochim)[2]) {\n",
    "    asv_headers[i] <- paste(\">ASV\", i, sep = \"_\")\n",
    "}"
   ]
  },
  {
   "cell_type": "code",
   "execution_count": 132,
   "id": "7b68180c-5948-425a-a442-ebbe93b6f895",
   "metadata": {
    "tags": []
   },
   "outputs": [],
   "source": [
    "# making then writing out a fasta of final ASV sequences\n",
    "asv_fasta <- c(rbind(asv_headers, asv_seqs))\n",
    "write(asv_fasta, \"ASVs.fasta\")"
   ]
  },
  {
   "cell_type": "code",
   "execution_count": 133,
   "id": "6c26a741-1226-4a89-9878-b47bb13592f0",
   "metadata": {
    "tags": []
   },
   "outputs": [],
   "source": [
    "# making and writing out a count table\n",
    "asv_tab <- t(seqtab.nochim)\n",
    "row.names(asv_tab) <- sub(\">\", \"\", asv_headers)\n",
    "\n",
    "write.table(asv_tab, \"ASV_counts.tsv\", sep = \"\\t\", quote = F, col.names = NA)"
   ]
  },
  {
   "cell_type": "code",
   "execution_count": 134,
   "id": "8eed6081-dc3b-4dcc-b8a9-d7b95e7448b6",
   "metadata": {
    "tags": []
   },
   "outputs": [],
   "source": [
    "# making and writing out a table of taxonomy, with any unclassified as \"NA\"\n",
    "ranks <- c(\"domain\", \"phylum\", \"class\", \"order\", \"family\", \"genus\", \"species\")\n",
    "\n",
    "tax_tab <- t(sapply(tax_info, function(x) {\n",
    "    m <- match(ranks, x$rank)\n",
    "    taxa <- x$taxon[m]\n",
    "    taxa[startsWith(taxa, \"unclassified_\")] <- NA\n",
    "    taxa\n",
    "}))\n",
    "\n",
    "colnames(tax_tab) <- ranks\n",
    "rownames(tax_tab) <- gsub(pattern = \">\", replacement = \"\", x = asv_headers)\n",
    "\n",
    "write.table(tax_tab, \"ASV_taxonomy.tsv\", sep = \"\\t\", quote = F, col.names = NA)"
   ]
  },
  {
   "cell_type": "code",
   "execution_count": 135,
   "id": "7b205fdb-9ab6-4e82-9a10-6362ea3b292e",
   "metadata": {
    "tags": []
   },
   "outputs": [
    {
     "data": {
      "text/html": [
       "<table class=\"dataframe\">\n",
       "<caption>A matrix: 85 × 7 of type chr</caption>\n",
       "<thead>\n",
       "\t<tr><th></th><th scope=col>domain</th><th scope=col>phylum</th><th scope=col>class</th><th scope=col>order</th><th scope=col>family</th><th scope=col>genus</th><th scope=col>species</th></tr>\n",
       "</thead>\n",
       "<tbody>\n",
       "\t<tr><th scope=row>ASV_1</th><td>Bacteria</td><td>Bacteroidota    </td><td>Bacteroidia    </td><td>Bacteroidales                      </td><td>Tannerellaceae           </td><td>Parabacteroides              </td><td>NA</td></tr>\n",
       "\t<tr><th scope=row>ASV_2</th><td>Bacteria</td><td>Firmicutes      </td><td>Clostridia     </td><td>Lachnospirales                     </td><td>Lachnospiraceae          </td><td>Lachnoclostridium            </td><td>NA</td></tr>\n",
       "\t<tr><th scope=row>ASV_3</th><td>Bacteria</td><td>Firmicutes      </td><td>Bacilli        </td><td>Erysipelotrichales                 </td><td>Erysipelatoclostridiaceae</td><td>Erysipelatoclostridium       </td><td>NA</td></tr>\n",
       "\t<tr><th scope=row>ASV_4</th><td>Bacteria</td><td>Firmicutes      </td><td>Clostridia     </td><td>Oscillospirales                    </td><td>Ruminococcaceae          </td><td>Ruminococcus                 </td><td>NA</td></tr>\n",
       "\t<tr><th scope=row>ASV_5</th><td>Bacteria</td><td>Firmicutes      </td><td>Clostridia     </td><td>Lachnospirales                     </td><td>Lachnospiraceae          </td><td>NA                           </td><td>NA</td></tr>\n",
       "\t<tr><th scope=row>ASV_6</th><td>Bacteria</td><td>Firmicutes      </td><td>Clostridia     </td><td>Lachnospirales                     </td><td>Lachnospiraceae          </td><td>NA                           </td><td>NA</td></tr>\n",
       "\t<tr><th scope=row>ASV_7</th><td>Bacteria</td><td>Firmicutes      </td><td>Clostridia     </td><td>Lachnospirales                     </td><td>Lachnospiraceae          </td><td>NA                           </td><td>NA</td></tr>\n",
       "\t<tr><th scope=row>ASV_8</th><td>Bacteria</td><td>Firmicutes      </td><td>Clostridia     </td><td>Lachnospirales                     </td><td>Lachnospiraceae          </td><td>NA                           </td><td>NA</td></tr>\n",
       "\t<tr><th scope=row>ASV_9</th><td>Bacteria</td><td>Firmicutes      </td><td>Bacilli        </td><td>Lactobacillales                    </td><td>Lactobacillaceae         </td><td>Lactobacillus                </td><td>NA</td></tr>\n",
       "\t<tr><th scope=row>ASV_10</th><td>Bacteria</td><td>Firmicutes      </td><td>Clostridia     </td><td>Lachnospirales                     </td><td>Lachnospiraceae          </td><td>NA                           </td><td>NA</td></tr>\n",
       "\t<tr><th scope=row>ASV_11</th><td>Bacteria</td><td>Firmicutes      </td><td>Clostridia     </td><td>Lachnospirales                     </td><td>Lachnospiraceae          </td><td>Lachnospiraceae NK4A136 group</td><td>NA</td></tr>\n",
       "\t<tr><th scope=row>ASV_12</th><td>Bacteria</td><td>Firmicutes      </td><td>Clostridia     </td><td>Lachnospirales                     </td><td>Lachnospiraceae          </td><td>NA                           </td><td>NA</td></tr>\n",
       "\t<tr><th scope=row>ASV_13</th><td>Bacteria</td><td>Firmicutes      </td><td>Clostridia     </td><td>Lachnospirales                     </td><td>Lachnospiraceae          </td><td>Blautia                      </td><td>NA</td></tr>\n",
       "\t<tr><th scope=row>ASV_14</th><td>Bacteria</td><td>Deferribacterota</td><td>Deferribacteres</td><td>Deferribacterales                  </td><td>Deferribacteraceae       </td><td>Mucispirillum                </td><td>NA</td></tr>\n",
       "\t<tr><th scope=row>ASV_15</th><td>Bacteria</td><td>Firmicutes      </td><td>Clostridia     </td><td>Lachnospirales                     </td><td>Lachnospiraceae          </td><td>Lachnoclostridium            </td><td>NA</td></tr>\n",
       "\t<tr><th scope=row>ASV_16</th><td>Bacteria</td><td>Firmicutes      </td><td>Clostridia     </td><td>Peptostreptococcales-Tissierellales</td><td>Anaerovoracaceae         </td><td>NA                           </td><td>NA</td></tr>\n",
       "\t<tr><th scope=row>ASV_17</th><td>Bacteria</td><td>Firmicutes      </td><td>Clostridia     </td><td>Lachnospirales                     </td><td>Lachnospiraceae          </td><td>NA                           </td><td>NA</td></tr>\n",
       "\t<tr><th scope=row>ASV_18</th><td>Bacteria</td><td>Firmicutes      </td><td>Clostridia     </td><td>Lachnospirales                     </td><td>Lachnospiraceae          </td><td>NA                           </td><td>NA</td></tr>\n",
       "\t<tr><th scope=row>ASV_19</th><td>Bacteria</td><td>Firmicutes      </td><td>Clostridia     </td><td>Lachnospirales                     </td><td>Lachnospiraceae          </td><td>Lachnoclostridium            </td><td>NA</td></tr>\n",
       "\t<tr><th scope=row>ASV_20</th><td>Bacteria</td><td>Firmicutes      </td><td>NA             </td><td>NA                                 </td><td>NA                       </td><td>NA                           </td><td>NA</td></tr>\n",
       "\t<tr><th scope=row>ASV_21</th><td>Bacteria</td><td>Firmicutes      </td><td>Clostridia     </td><td>Oscillospirales                    </td><td>Oscillospiraceae         </td><td>Flavonifractor               </td><td>NA</td></tr>\n",
       "\t<tr><th scope=row>ASV_22</th><td>Bacteria</td><td>Firmicutes      </td><td>Bacilli        </td><td>Erysipelotrichales                 </td><td>Erysipelatoclostridiaceae</td><td>NA                           </td><td>NA</td></tr>\n",
       "\t<tr><th scope=row>ASV_23</th><td>Bacteria</td><td>Firmicutes      </td><td>Clostridia     </td><td>Lachnospirales                     </td><td>Lachnospiraceae          </td><td>Lachnospiraceae FCS020 group </td><td>NA</td></tr>\n",
       "\t<tr><th scope=row>ASV_24</th><td>Bacteria</td><td>Firmicutes      </td><td>Clostridia     </td><td>Oscillospirales                    </td><td>Ruminococcaceae          </td><td>Anaerotruncus                </td><td>NA</td></tr>\n",
       "\t<tr><th scope=row>ASV_25</th><td>Bacteria</td><td>Firmicutes      </td><td>Clostridia     </td><td>Lachnospirales                     </td><td>Lachnospiraceae          </td><td>NA                           </td><td>NA</td></tr>\n",
       "\t<tr><th scope=row>ASV_26</th><td>Bacteria</td><td>Firmicutes      </td><td>Clostridia     </td><td>Oscillospirales                    </td><td>Ruminococcaceae          </td><td>NA                           </td><td>NA</td></tr>\n",
       "\t<tr><th scope=row>ASV_27</th><td>Bacteria</td><td>Firmicutes      </td><td>Clostridia     </td><td>NA                                 </td><td>NA                       </td><td>NA                           </td><td>NA</td></tr>\n",
       "\t<tr><th scope=row>ASV_28</th><td>Bacteria</td><td>Firmicutes      </td><td>Clostridia     </td><td>Peptostreptococcales-Tissierellales</td><td>Peptostreptococcaceae    </td><td>NA                           </td><td>NA</td></tr>\n",
       "\t<tr><th scope=row>ASV_29</th><td>Bacteria</td><td>Firmicutes      </td><td>Bacilli        </td><td>Lactobacillales                    </td><td>Lactobacillaceae         </td><td>Lactobacillus                </td><td>NA</td></tr>\n",
       "\t<tr><th scope=row>ASV_30</th><td>Bacteria</td><td>Firmicutes      </td><td>Clostridia     </td><td>Lachnospirales                     </td><td>Lachnospiraceae          </td><td>NA                           </td><td>NA</td></tr>\n",
       "\t<tr><th scope=row>⋮</th><td>⋮</td><td>⋮</td><td>⋮</td><td>⋮</td><td>⋮</td><td>⋮</td><td>⋮</td></tr>\n",
       "\t<tr><th scope=row>ASV_56</th><td>Bacteria</td><td>Firmicutes    </td><td>Clostridia         </td><td>Lachnospirales                     </td><td>Lachnospiraceae      </td><td>Lachnoclostridium      </td><td>NA</td></tr>\n",
       "\t<tr><th scope=row>ASV_57</th><td>Bacteria</td><td>Firmicutes    </td><td>Clostridia         </td><td>Peptostreptococcales-Tissierellales</td><td>Peptostreptococcaceae</td><td>Romboutsia             </td><td>NA</td></tr>\n",
       "\t<tr><th scope=row>ASV_58</th><td>Bacteria</td><td>Firmicutes    </td><td>Clostridia         </td><td>Lachnospirales                     </td><td>Lachnospiraceae      </td><td>NA                     </td><td>NA</td></tr>\n",
       "\t<tr><th scope=row>ASV_59</th><td>Bacteria</td><td>Firmicutes    </td><td>Clostridia         </td><td>Lachnospirales                     </td><td>Lachnospiraceae      </td><td>Anaerostipes           </td><td>NA</td></tr>\n",
       "\t<tr><th scope=row>ASV_60</th><td>Bacteria</td><td>Firmicutes    </td><td>Clostridia         </td><td>Lachnospirales                     </td><td>Lachnospiraceae      </td><td>NA                     </td><td>NA</td></tr>\n",
       "\t<tr><th scope=row>ASV_61</th><td>Bacteria</td><td>Firmicutes    </td><td>Clostridia         </td><td>Oscillospirales                    </td><td>Oscillospiraceae     </td><td>Oscillibacter          </td><td>NA</td></tr>\n",
       "\t<tr><th scope=row>ASV_62</th><td>Bacteria</td><td>Firmicutes    </td><td>Bacilli            </td><td>Lactobacillales                    </td><td>Enterococcaceae      </td><td>NA                     </td><td>NA</td></tr>\n",
       "\t<tr><th scope=row>ASV_63</th><td>Bacteria</td><td>Firmicutes    </td><td>Clostridia         </td><td>Lachnospirales                     </td><td>Lachnospiraceae      </td><td>NA                     </td><td>NA</td></tr>\n",
       "\t<tr><th scope=row>ASV_64</th><td>Bacteria</td><td>Firmicutes    </td><td>Clostridia         </td><td>Peptostreptococcales-Tissierellales</td><td>Peptostreptococcaceae</td><td>NA                     </td><td>NA</td></tr>\n",
       "\t<tr><th scope=row>ASV_65</th><td>Bacteria</td><td>Proteobacteria</td><td>Gammaproteobacteria</td><td>Burkholderiales                    </td><td>Comamonadaceae       </td><td>NA                     </td><td>NA</td></tr>\n",
       "\t<tr><th scope=row>ASV_66</th><td>Bacteria</td><td>Bacteroidota  </td><td>Bacteroidia        </td><td>Bacteroidales                      </td><td>Tannerellaceae       </td><td>Parabacteroides        </td><td>NA</td></tr>\n",
       "\t<tr><th scope=row>ASV_67</th><td>Bacteria</td><td>Firmicutes    </td><td>NA                 </td><td>NA                                 </td><td>NA                   </td><td>NA                     </td><td>NA</td></tr>\n",
       "\t<tr><th scope=row>ASV_68</th><td>Bacteria</td><td>Firmicutes    </td><td>Clostridia         </td><td>Lachnospirales                     </td><td>Lachnospiraceae      </td><td>Lachnoclostridium      </td><td>NA</td></tr>\n",
       "\t<tr><th scope=row>ASV_69</th><td>Bacteria</td><td>Firmicutes    </td><td>Clostridia         </td><td>Lachnospirales                     </td><td>Lachnospiraceae      </td><td>NA                     </td><td>NA</td></tr>\n",
       "\t<tr><th scope=row>ASV_70</th><td>Bacteria</td><td>Bacteroidota  </td><td>Bacteroidia        </td><td>Bacteroidales                      </td><td>Tannerellaceae       </td><td>Parabacteroides        </td><td>NA</td></tr>\n",
       "\t<tr><th scope=row>ASV_71</th><td>Bacteria</td><td>Proteobacteria</td><td>Gammaproteobacteria</td><td>Enterobacterales                   </td><td>Morganellaceae       </td><td>Providencia            </td><td>NA</td></tr>\n",
       "\t<tr><th scope=row>ASV_72</th><td>Bacteria</td><td>Firmicutes    </td><td>Clostridia         </td><td>Lachnospirales                     </td><td>Lachnospiraceae      </td><td>NA                     </td><td>NA</td></tr>\n",
       "\t<tr><th scope=row>ASV_73</th><td>Bacteria</td><td>Firmicutes    </td><td>Clostridia         </td><td>Lachnospirales                     </td><td>Lachnospiraceae      </td><td>Lachnospiraceae UCG-006</td><td>NA</td></tr>\n",
       "\t<tr><th scope=row>ASV_74</th><td>Bacteria</td><td>Firmicutes    </td><td>Clostridia         </td><td>Lachnospirales                     </td><td>Lachnospiraceae      </td><td>NA                     </td><td>NA</td></tr>\n",
       "\t<tr><th scope=row>ASV_75</th><td>Bacteria</td><td>Firmicutes    </td><td>Clostridia         </td><td>Lachnospirales                     </td><td>Lachnospiraceae      </td><td>NA                     </td><td>NA</td></tr>\n",
       "\t<tr><th scope=row>ASV_76</th><td>Bacteria</td><td>Firmicutes    </td><td>Bacilli            </td><td>Lactobacillales                    </td><td>NA                   </td><td>NA                     </td><td>NA</td></tr>\n",
       "\t<tr><th scope=row>ASV_77</th><td>Bacteria</td><td>Fusobacteriota</td><td>Fusobacteriia      </td><td>Fusobacteriales                    </td><td>Fusobacteriaceae     </td><td>Fusobacterium          </td><td>NA</td></tr>\n",
       "\t<tr><th scope=row>ASV_78</th><td>Bacteria</td><td>Proteobacteria</td><td>Alphaproteobacteria</td><td>Rhizobiales                        </td><td>Xanthobacteraceae    </td><td>NA                     </td><td>NA</td></tr>\n",
       "\t<tr><th scope=row>ASV_79</th><td>Bacteria</td><td>Firmicutes    </td><td>Clostridia         </td><td>Lachnospirales                     </td><td>Lachnospiraceae      </td><td>NA                     </td><td>NA</td></tr>\n",
       "\t<tr><th scope=row>ASV_80</th><td>Bacteria</td><td>Firmicutes    </td><td>Clostridia         </td><td>Lachnospirales                     </td><td>Lachnospiraceae      </td><td>Lachnospiraceae UCG-006</td><td>NA</td></tr>\n",
       "\t<tr><th scope=row>ASV_81</th><td>Bacteria</td><td>Proteobacteria</td><td>Gammaproteobacteria</td><td>Oceanospirillales                  </td><td>Kangiellaceae        </td><td>Aliikangiella          </td><td>NA</td></tr>\n",
       "\t<tr><th scope=row>ASV_82</th><td>Bacteria</td><td>Firmicutes    </td><td>Bacilli            </td><td>Paenibacillales                    </td><td>Paenibacillaceae     </td><td>Paenibacillus          </td><td>NA</td></tr>\n",
       "\t<tr><th scope=row>ASV_83</th><td>Bacteria</td><td>Firmicutes    </td><td>Clostridia         </td><td>Lachnospirales                     </td><td>Lachnospiraceae      </td><td>NA                     </td><td>NA</td></tr>\n",
       "\t<tr><th scope=row>ASV_84</th><td>Bacteria</td><td>Bacteroidota  </td><td>Bacteroidia        </td><td>NA                                 </td><td>NA                   </td><td>NA                     </td><td>NA</td></tr>\n",
       "\t<tr><th scope=row>ASV_85</th><td>Bacteria</td><td>Firmicutes    </td><td>Clostridia         </td><td>Lachnospirales                     </td><td>Lachnospiraceae      </td><td>NA                     </td><td>NA</td></tr>\n",
       "</tbody>\n",
       "</table>\n"
      ],
      "text/latex": [
       "A matrix: 85 × 7 of type chr\n",
       "\\begin{tabular}{r|lllllll}\n",
       "  & domain & phylum & class & order & family & genus & species\\\\\n",
       "\\hline\n",
       "\tASV\\_1 & Bacteria & Bacteroidota     & Bacteroidia     & Bacteroidales                       & Tannerellaceae            & Parabacteroides               & NA\\\\\n",
       "\tASV\\_2 & Bacteria & Firmicutes       & Clostridia      & Lachnospirales                      & Lachnospiraceae           & Lachnoclostridium             & NA\\\\\n",
       "\tASV\\_3 & Bacteria & Firmicutes       & Bacilli         & Erysipelotrichales                  & Erysipelatoclostridiaceae & Erysipelatoclostridium        & NA\\\\\n",
       "\tASV\\_4 & Bacteria & Firmicutes       & Clostridia      & Oscillospirales                     & Ruminococcaceae           & Ruminococcus                  & NA\\\\\n",
       "\tASV\\_5 & Bacteria & Firmicutes       & Clostridia      & Lachnospirales                      & Lachnospiraceae           & NA                            & NA\\\\\n",
       "\tASV\\_6 & Bacteria & Firmicutes       & Clostridia      & Lachnospirales                      & Lachnospiraceae           & NA                            & NA\\\\\n",
       "\tASV\\_7 & Bacteria & Firmicutes       & Clostridia      & Lachnospirales                      & Lachnospiraceae           & NA                            & NA\\\\\n",
       "\tASV\\_8 & Bacteria & Firmicutes       & Clostridia      & Lachnospirales                      & Lachnospiraceae           & NA                            & NA\\\\\n",
       "\tASV\\_9 & Bacteria & Firmicutes       & Bacilli         & Lactobacillales                     & Lactobacillaceae          & Lactobacillus                 & NA\\\\\n",
       "\tASV\\_10 & Bacteria & Firmicutes       & Clostridia      & Lachnospirales                      & Lachnospiraceae           & NA                            & NA\\\\\n",
       "\tASV\\_11 & Bacteria & Firmicutes       & Clostridia      & Lachnospirales                      & Lachnospiraceae           & Lachnospiraceae NK4A136 group & NA\\\\\n",
       "\tASV\\_12 & Bacteria & Firmicutes       & Clostridia      & Lachnospirales                      & Lachnospiraceae           & NA                            & NA\\\\\n",
       "\tASV\\_13 & Bacteria & Firmicutes       & Clostridia      & Lachnospirales                      & Lachnospiraceae           & Blautia                       & NA\\\\\n",
       "\tASV\\_14 & Bacteria & Deferribacterota & Deferribacteres & Deferribacterales                   & Deferribacteraceae        & Mucispirillum                 & NA\\\\\n",
       "\tASV\\_15 & Bacteria & Firmicutes       & Clostridia      & Lachnospirales                      & Lachnospiraceae           & Lachnoclostridium             & NA\\\\\n",
       "\tASV\\_16 & Bacteria & Firmicutes       & Clostridia      & Peptostreptococcales-Tissierellales & Anaerovoracaceae          & NA                            & NA\\\\\n",
       "\tASV\\_17 & Bacteria & Firmicutes       & Clostridia      & Lachnospirales                      & Lachnospiraceae           & NA                            & NA\\\\\n",
       "\tASV\\_18 & Bacteria & Firmicutes       & Clostridia      & Lachnospirales                      & Lachnospiraceae           & NA                            & NA\\\\\n",
       "\tASV\\_19 & Bacteria & Firmicutes       & Clostridia      & Lachnospirales                      & Lachnospiraceae           & Lachnoclostridium             & NA\\\\\n",
       "\tASV\\_20 & Bacteria & Firmicutes       & NA              & NA                                  & NA                        & NA                            & NA\\\\\n",
       "\tASV\\_21 & Bacteria & Firmicutes       & Clostridia      & Oscillospirales                     & Oscillospiraceae          & Flavonifractor                & NA\\\\\n",
       "\tASV\\_22 & Bacteria & Firmicutes       & Bacilli         & Erysipelotrichales                  & Erysipelatoclostridiaceae & NA                            & NA\\\\\n",
       "\tASV\\_23 & Bacteria & Firmicutes       & Clostridia      & Lachnospirales                      & Lachnospiraceae           & Lachnospiraceae FCS020 group  & NA\\\\\n",
       "\tASV\\_24 & Bacteria & Firmicutes       & Clostridia      & Oscillospirales                     & Ruminococcaceae           & Anaerotruncus                 & NA\\\\\n",
       "\tASV\\_25 & Bacteria & Firmicutes       & Clostridia      & Lachnospirales                      & Lachnospiraceae           & NA                            & NA\\\\\n",
       "\tASV\\_26 & Bacteria & Firmicutes       & Clostridia      & Oscillospirales                     & Ruminococcaceae           & NA                            & NA\\\\\n",
       "\tASV\\_27 & Bacteria & Firmicutes       & Clostridia      & NA                                  & NA                        & NA                            & NA\\\\\n",
       "\tASV\\_28 & Bacteria & Firmicutes       & Clostridia      & Peptostreptococcales-Tissierellales & Peptostreptococcaceae     & NA                            & NA\\\\\n",
       "\tASV\\_29 & Bacteria & Firmicutes       & Bacilli         & Lactobacillales                     & Lactobacillaceae          & Lactobacillus                 & NA\\\\\n",
       "\tASV\\_30 & Bacteria & Firmicutes       & Clostridia      & Lachnospirales                      & Lachnospiraceae           & NA                            & NA\\\\\n",
       "\t⋮ & ⋮ & ⋮ & ⋮ & ⋮ & ⋮ & ⋮ & ⋮\\\\\n",
       "\tASV\\_56 & Bacteria & Firmicutes     & Clostridia          & Lachnospirales                      & Lachnospiraceae       & Lachnoclostridium       & NA\\\\\n",
       "\tASV\\_57 & Bacteria & Firmicutes     & Clostridia          & Peptostreptococcales-Tissierellales & Peptostreptococcaceae & Romboutsia              & NA\\\\\n",
       "\tASV\\_58 & Bacteria & Firmicutes     & Clostridia          & Lachnospirales                      & Lachnospiraceae       & NA                      & NA\\\\\n",
       "\tASV\\_59 & Bacteria & Firmicutes     & Clostridia          & Lachnospirales                      & Lachnospiraceae       & Anaerostipes            & NA\\\\\n",
       "\tASV\\_60 & Bacteria & Firmicutes     & Clostridia          & Lachnospirales                      & Lachnospiraceae       & NA                      & NA\\\\\n",
       "\tASV\\_61 & Bacteria & Firmicutes     & Clostridia          & Oscillospirales                     & Oscillospiraceae      & Oscillibacter           & NA\\\\\n",
       "\tASV\\_62 & Bacteria & Firmicutes     & Bacilli             & Lactobacillales                     & Enterococcaceae       & NA                      & NA\\\\\n",
       "\tASV\\_63 & Bacteria & Firmicutes     & Clostridia          & Lachnospirales                      & Lachnospiraceae       & NA                      & NA\\\\\n",
       "\tASV\\_64 & Bacteria & Firmicutes     & Clostridia          & Peptostreptococcales-Tissierellales & Peptostreptococcaceae & NA                      & NA\\\\\n",
       "\tASV\\_65 & Bacteria & Proteobacteria & Gammaproteobacteria & Burkholderiales                     & Comamonadaceae        & NA                      & NA\\\\\n",
       "\tASV\\_66 & Bacteria & Bacteroidota   & Bacteroidia         & Bacteroidales                       & Tannerellaceae        & Parabacteroides         & NA\\\\\n",
       "\tASV\\_67 & Bacteria & Firmicutes     & NA                  & NA                                  & NA                    & NA                      & NA\\\\\n",
       "\tASV\\_68 & Bacteria & Firmicutes     & Clostridia          & Lachnospirales                      & Lachnospiraceae       & Lachnoclostridium       & NA\\\\\n",
       "\tASV\\_69 & Bacteria & Firmicutes     & Clostridia          & Lachnospirales                      & Lachnospiraceae       & NA                      & NA\\\\\n",
       "\tASV\\_70 & Bacteria & Bacteroidota   & Bacteroidia         & Bacteroidales                       & Tannerellaceae        & Parabacteroides         & NA\\\\\n",
       "\tASV\\_71 & Bacteria & Proteobacteria & Gammaproteobacteria & Enterobacterales                    & Morganellaceae        & Providencia             & NA\\\\\n",
       "\tASV\\_72 & Bacteria & Firmicutes     & Clostridia          & Lachnospirales                      & Lachnospiraceae       & NA                      & NA\\\\\n",
       "\tASV\\_73 & Bacteria & Firmicutes     & Clostridia          & Lachnospirales                      & Lachnospiraceae       & Lachnospiraceae UCG-006 & NA\\\\\n",
       "\tASV\\_74 & Bacteria & Firmicutes     & Clostridia          & Lachnospirales                      & Lachnospiraceae       & NA                      & NA\\\\\n",
       "\tASV\\_75 & Bacteria & Firmicutes     & Clostridia          & Lachnospirales                      & Lachnospiraceae       & NA                      & NA\\\\\n",
       "\tASV\\_76 & Bacteria & Firmicutes     & Bacilli             & Lactobacillales                     & NA                    & NA                      & NA\\\\\n",
       "\tASV\\_77 & Bacteria & Fusobacteriota & Fusobacteriia       & Fusobacteriales                     & Fusobacteriaceae      & Fusobacterium           & NA\\\\\n",
       "\tASV\\_78 & Bacteria & Proteobacteria & Alphaproteobacteria & Rhizobiales                         & Xanthobacteraceae     & NA                      & NA\\\\\n",
       "\tASV\\_79 & Bacteria & Firmicutes     & Clostridia          & Lachnospirales                      & Lachnospiraceae       & NA                      & NA\\\\\n",
       "\tASV\\_80 & Bacteria & Firmicutes     & Clostridia          & Lachnospirales                      & Lachnospiraceae       & Lachnospiraceae UCG-006 & NA\\\\\n",
       "\tASV\\_81 & Bacteria & Proteobacteria & Gammaproteobacteria & Oceanospirillales                   & Kangiellaceae         & Aliikangiella           & NA\\\\\n",
       "\tASV\\_82 & Bacteria & Firmicutes     & Bacilli             & Paenibacillales                     & Paenibacillaceae      & Paenibacillus           & NA\\\\\n",
       "\tASV\\_83 & Bacteria & Firmicutes     & Clostridia          & Lachnospirales                      & Lachnospiraceae       & NA                      & NA\\\\\n",
       "\tASV\\_84 & Bacteria & Bacteroidota   & Bacteroidia         & NA                                  & NA                    & NA                      & NA\\\\\n",
       "\tASV\\_85 & Bacteria & Firmicutes     & Clostridia          & Lachnospirales                      & Lachnospiraceae       & NA                      & NA\\\\\n",
       "\\end{tabular}\n"
      ],
      "text/markdown": [
       "\n",
       "A matrix: 85 × 7 of type chr\n",
       "\n",
       "| <!--/--> | domain | phylum | class | order | family | genus | species |\n",
       "|---|---|---|---|---|---|---|---|\n",
       "| ASV_1 | Bacteria | Bacteroidota     | Bacteroidia     | Bacteroidales                       | Tannerellaceae            | Parabacteroides               | NA |\n",
       "| ASV_2 | Bacteria | Firmicutes       | Clostridia      | Lachnospirales                      | Lachnospiraceae           | Lachnoclostridium             | NA |\n",
       "| ASV_3 | Bacteria | Firmicutes       | Bacilli         | Erysipelotrichales                  | Erysipelatoclostridiaceae | Erysipelatoclostridium        | NA |\n",
       "| ASV_4 | Bacteria | Firmicutes       | Clostridia      | Oscillospirales                     | Ruminococcaceae           | Ruminococcus                  | NA |\n",
       "| ASV_5 | Bacteria | Firmicutes       | Clostridia      | Lachnospirales                      | Lachnospiraceae           | NA                            | NA |\n",
       "| ASV_6 | Bacteria | Firmicutes       | Clostridia      | Lachnospirales                      | Lachnospiraceae           | NA                            | NA |\n",
       "| ASV_7 | Bacteria | Firmicutes       | Clostridia      | Lachnospirales                      | Lachnospiraceae           | NA                            | NA |\n",
       "| ASV_8 | Bacteria | Firmicutes       | Clostridia      | Lachnospirales                      | Lachnospiraceae           | NA                            | NA |\n",
       "| ASV_9 | Bacteria | Firmicutes       | Bacilli         | Lactobacillales                     | Lactobacillaceae          | Lactobacillus                 | NA |\n",
       "| ASV_10 | Bacteria | Firmicutes       | Clostridia      | Lachnospirales                      | Lachnospiraceae           | NA                            | NA |\n",
       "| ASV_11 | Bacteria | Firmicutes       | Clostridia      | Lachnospirales                      | Lachnospiraceae           | Lachnospiraceae NK4A136 group | NA |\n",
       "| ASV_12 | Bacteria | Firmicutes       | Clostridia      | Lachnospirales                      | Lachnospiraceae           | NA                            | NA |\n",
       "| ASV_13 | Bacteria | Firmicutes       | Clostridia      | Lachnospirales                      | Lachnospiraceae           | Blautia                       | NA |\n",
       "| ASV_14 | Bacteria | Deferribacterota | Deferribacteres | Deferribacterales                   | Deferribacteraceae        | Mucispirillum                 | NA |\n",
       "| ASV_15 | Bacteria | Firmicutes       | Clostridia      | Lachnospirales                      | Lachnospiraceae           | Lachnoclostridium             | NA |\n",
       "| ASV_16 | Bacteria | Firmicutes       | Clostridia      | Peptostreptococcales-Tissierellales | Anaerovoracaceae          | NA                            | NA |\n",
       "| ASV_17 | Bacteria | Firmicutes       | Clostridia      | Lachnospirales                      | Lachnospiraceae           | NA                            | NA |\n",
       "| ASV_18 | Bacteria | Firmicutes       | Clostridia      | Lachnospirales                      | Lachnospiraceae           | NA                            | NA |\n",
       "| ASV_19 | Bacteria | Firmicutes       | Clostridia      | Lachnospirales                      | Lachnospiraceae           | Lachnoclostridium             | NA |\n",
       "| ASV_20 | Bacteria | Firmicutes       | NA              | NA                                  | NA                        | NA                            | NA |\n",
       "| ASV_21 | Bacteria | Firmicutes       | Clostridia      | Oscillospirales                     | Oscillospiraceae          | Flavonifractor                | NA |\n",
       "| ASV_22 | Bacteria | Firmicutes       | Bacilli         | Erysipelotrichales                  | Erysipelatoclostridiaceae | NA                            | NA |\n",
       "| ASV_23 | Bacteria | Firmicutes       | Clostridia      | Lachnospirales                      | Lachnospiraceae           | Lachnospiraceae FCS020 group  | NA |\n",
       "| ASV_24 | Bacteria | Firmicutes       | Clostridia      | Oscillospirales                     | Ruminococcaceae           | Anaerotruncus                 | NA |\n",
       "| ASV_25 | Bacteria | Firmicutes       | Clostridia      | Lachnospirales                      | Lachnospiraceae           | NA                            | NA |\n",
       "| ASV_26 | Bacteria | Firmicutes       | Clostridia      | Oscillospirales                     | Ruminococcaceae           | NA                            | NA |\n",
       "| ASV_27 | Bacteria | Firmicutes       | Clostridia      | NA                                  | NA                        | NA                            | NA |\n",
       "| ASV_28 | Bacteria | Firmicutes       | Clostridia      | Peptostreptococcales-Tissierellales | Peptostreptococcaceae     | NA                            | NA |\n",
       "| ASV_29 | Bacteria | Firmicutes       | Bacilli         | Lactobacillales                     | Lactobacillaceae          | Lactobacillus                 | NA |\n",
       "| ASV_30 | Bacteria | Firmicutes       | Clostridia      | Lachnospirales                      | Lachnospiraceae           | NA                            | NA |\n",
       "| ⋮ | ⋮ | ⋮ | ⋮ | ⋮ | ⋮ | ⋮ | ⋮ |\n",
       "| ASV_56 | Bacteria | Firmicutes     | Clostridia          | Lachnospirales                      | Lachnospiraceae       | Lachnoclostridium       | NA |\n",
       "| ASV_57 | Bacteria | Firmicutes     | Clostridia          | Peptostreptococcales-Tissierellales | Peptostreptococcaceae | Romboutsia              | NA |\n",
       "| ASV_58 | Bacteria | Firmicutes     | Clostridia          | Lachnospirales                      | Lachnospiraceae       | NA                      | NA |\n",
       "| ASV_59 | Bacteria | Firmicutes     | Clostridia          | Lachnospirales                      | Lachnospiraceae       | Anaerostipes            | NA |\n",
       "| ASV_60 | Bacteria | Firmicutes     | Clostridia          | Lachnospirales                      | Lachnospiraceae       | NA                      | NA |\n",
       "| ASV_61 | Bacteria | Firmicutes     | Clostridia          | Oscillospirales                     | Oscillospiraceae      | Oscillibacter           | NA |\n",
       "| ASV_62 | Bacteria | Firmicutes     | Bacilli             | Lactobacillales                     | Enterococcaceae       | NA                      | NA |\n",
       "| ASV_63 | Bacteria | Firmicutes     | Clostridia          | Lachnospirales                      | Lachnospiraceae       | NA                      | NA |\n",
       "| ASV_64 | Bacteria | Firmicutes     | Clostridia          | Peptostreptococcales-Tissierellales | Peptostreptococcaceae | NA                      | NA |\n",
       "| ASV_65 | Bacteria | Proteobacteria | Gammaproteobacteria | Burkholderiales                     | Comamonadaceae        | NA                      | NA |\n",
       "| ASV_66 | Bacteria | Bacteroidota   | Bacteroidia         | Bacteroidales                       | Tannerellaceae        | Parabacteroides         | NA |\n",
       "| ASV_67 | Bacteria | Firmicutes     | NA                  | NA                                  | NA                    | NA                      | NA |\n",
       "| ASV_68 | Bacteria | Firmicutes     | Clostridia          | Lachnospirales                      | Lachnospiraceae       | Lachnoclostridium       | NA |\n",
       "| ASV_69 | Bacteria | Firmicutes     | Clostridia          | Lachnospirales                      | Lachnospiraceae       | NA                      | NA |\n",
       "| ASV_70 | Bacteria | Bacteroidota   | Bacteroidia         | Bacteroidales                       | Tannerellaceae        | Parabacteroides         | NA |\n",
       "| ASV_71 | Bacteria | Proteobacteria | Gammaproteobacteria | Enterobacterales                    | Morganellaceae        | Providencia             | NA |\n",
       "| ASV_72 | Bacteria | Firmicutes     | Clostridia          | Lachnospirales                      | Lachnospiraceae       | NA                      | NA |\n",
       "| ASV_73 | Bacteria | Firmicutes     | Clostridia          | Lachnospirales                      | Lachnospiraceae       | Lachnospiraceae UCG-006 | NA |\n",
       "| ASV_74 | Bacteria | Firmicutes     | Clostridia          | Lachnospirales                      | Lachnospiraceae       | NA                      | NA |\n",
       "| ASV_75 | Bacteria | Firmicutes     | Clostridia          | Lachnospirales                      | Lachnospiraceae       | NA                      | NA |\n",
       "| ASV_76 | Bacteria | Firmicutes     | Bacilli             | Lactobacillales                     | NA                    | NA                      | NA |\n",
       "| ASV_77 | Bacteria | Fusobacteriota | Fusobacteriia       | Fusobacteriales                     | Fusobacteriaceae      | Fusobacterium           | NA |\n",
       "| ASV_78 | Bacteria | Proteobacteria | Alphaproteobacteria | Rhizobiales                         | Xanthobacteraceae     | NA                      | NA |\n",
       "| ASV_79 | Bacteria | Firmicutes     | Clostridia          | Lachnospirales                      | Lachnospiraceae       | NA                      | NA |\n",
       "| ASV_80 | Bacteria | Firmicutes     | Clostridia          | Lachnospirales                      | Lachnospiraceae       | Lachnospiraceae UCG-006 | NA |\n",
       "| ASV_81 | Bacteria | Proteobacteria | Gammaproteobacteria | Oceanospirillales                   | Kangiellaceae         | Aliikangiella           | NA |\n",
       "| ASV_82 | Bacteria | Firmicutes     | Bacilli             | Paenibacillales                     | Paenibacillaceae      | Paenibacillus           | NA |\n",
       "| ASV_83 | Bacteria | Firmicutes     | Clostridia          | Lachnospirales                      | Lachnospiraceae       | NA                      | NA |\n",
       "| ASV_84 | Bacteria | Bacteroidota   | Bacteroidia         | NA                                  | NA                    | NA                      | NA |\n",
       "| ASV_85 | Bacteria | Firmicutes     | Clostridia          | Lachnospirales                      | Lachnospiraceae       | NA                      | NA |\n",
       "\n"
      ],
      "text/plain": [
       "       domain   phylum           class              \n",
       "ASV_1  Bacteria Bacteroidota     Bacteroidia        \n",
       "ASV_2  Bacteria Firmicutes       Clostridia         \n",
       "ASV_3  Bacteria Firmicutes       Bacilli            \n",
       "ASV_4  Bacteria Firmicutes       Clostridia         \n",
       "ASV_5  Bacteria Firmicutes       Clostridia         \n",
       "ASV_6  Bacteria Firmicutes       Clostridia         \n",
       "ASV_7  Bacteria Firmicutes       Clostridia         \n",
       "ASV_8  Bacteria Firmicutes       Clostridia         \n",
       "ASV_9  Bacteria Firmicutes       Bacilli            \n",
       "ASV_10 Bacteria Firmicutes       Clostridia         \n",
       "ASV_11 Bacteria Firmicutes       Clostridia         \n",
       "ASV_12 Bacteria Firmicutes       Clostridia         \n",
       "ASV_13 Bacteria Firmicutes       Clostridia         \n",
       "ASV_14 Bacteria Deferribacterota Deferribacteres    \n",
       "ASV_15 Bacteria Firmicutes       Clostridia         \n",
       "ASV_16 Bacteria Firmicutes       Clostridia         \n",
       "ASV_17 Bacteria Firmicutes       Clostridia         \n",
       "ASV_18 Bacteria Firmicutes       Clostridia         \n",
       "ASV_19 Bacteria Firmicutes       Clostridia         \n",
       "ASV_20 Bacteria Firmicutes       NA                 \n",
       "ASV_21 Bacteria Firmicutes       Clostridia         \n",
       "ASV_22 Bacteria Firmicutes       Bacilli            \n",
       "ASV_23 Bacteria Firmicutes       Clostridia         \n",
       "ASV_24 Bacteria Firmicutes       Clostridia         \n",
       "ASV_25 Bacteria Firmicutes       Clostridia         \n",
       "ASV_26 Bacteria Firmicutes       Clostridia         \n",
       "ASV_27 Bacteria Firmicutes       Clostridia         \n",
       "ASV_28 Bacteria Firmicutes       Clostridia         \n",
       "ASV_29 Bacteria Firmicutes       Bacilli            \n",
       "ASV_30 Bacteria Firmicutes       Clostridia         \n",
       "⋮      ⋮        ⋮                ⋮                  \n",
       "ASV_56 Bacteria Firmicutes       Clostridia         \n",
       "ASV_57 Bacteria Firmicutes       Clostridia         \n",
       "ASV_58 Bacteria Firmicutes       Clostridia         \n",
       "ASV_59 Bacteria Firmicutes       Clostridia         \n",
       "ASV_60 Bacteria Firmicutes       Clostridia         \n",
       "ASV_61 Bacteria Firmicutes       Clostridia         \n",
       "ASV_62 Bacteria Firmicutes       Bacilli            \n",
       "ASV_63 Bacteria Firmicutes       Clostridia         \n",
       "ASV_64 Bacteria Firmicutes       Clostridia         \n",
       "ASV_65 Bacteria Proteobacteria   Gammaproteobacteria\n",
       "ASV_66 Bacteria Bacteroidota     Bacteroidia        \n",
       "ASV_67 Bacteria Firmicutes       NA                 \n",
       "ASV_68 Bacteria Firmicutes       Clostridia         \n",
       "ASV_69 Bacteria Firmicutes       Clostridia         \n",
       "ASV_70 Bacteria Bacteroidota     Bacteroidia        \n",
       "ASV_71 Bacteria Proteobacteria   Gammaproteobacteria\n",
       "ASV_72 Bacteria Firmicutes       Clostridia         \n",
       "ASV_73 Bacteria Firmicutes       Clostridia         \n",
       "ASV_74 Bacteria Firmicutes       Clostridia         \n",
       "ASV_75 Bacteria Firmicutes       Clostridia         \n",
       "ASV_76 Bacteria Firmicutes       Bacilli            \n",
       "ASV_77 Bacteria Fusobacteriota   Fusobacteriia      \n",
       "ASV_78 Bacteria Proteobacteria   Alphaproteobacteria\n",
       "ASV_79 Bacteria Firmicutes       Clostridia         \n",
       "ASV_80 Bacteria Firmicutes       Clostridia         \n",
       "ASV_81 Bacteria Proteobacteria   Gammaproteobacteria\n",
       "ASV_82 Bacteria Firmicutes       Bacilli            \n",
       "ASV_83 Bacteria Firmicutes       Clostridia         \n",
       "ASV_84 Bacteria Bacteroidota     Bacteroidia        \n",
       "ASV_85 Bacteria Firmicutes       Clostridia         \n",
       "       order                               family                   \n",
       "ASV_1  Bacteroidales                       Tannerellaceae           \n",
       "ASV_2  Lachnospirales                      Lachnospiraceae          \n",
       "ASV_3  Erysipelotrichales                  Erysipelatoclostridiaceae\n",
       "ASV_4  Oscillospirales                     Ruminococcaceae          \n",
       "ASV_5  Lachnospirales                      Lachnospiraceae          \n",
       "ASV_6  Lachnospirales                      Lachnospiraceae          \n",
       "ASV_7  Lachnospirales                      Lachnospiraceae          \n",
       "ASV_8  Lachnospirales                      Lachnospiraceae          \n",
       "ASV_9  Lactobacillales                     Lactobacillaceae         \n",
       "ASV_10 Lachnospirales                      Lachnospiraceae          \n",
       "ASV_11 Lachnospirales                      Lachnospiraceae          \n",
       "ASV_12 Lachnospirales                      Lachnospiraceae          \n",
       "ASV_13 Lachnospirales                      Lachnospiraceae          \n",
       "ASV_14 Deferribacterales                   Deferribacteraceae       \n",
       "ASV_15 Lachnospirales                      Lachnospiraceae          \n",
       "ASV_16 Peptostreptococcales-Tissierellales Anaerovoracaceae         \n",
       "ASV_17 Lachnospirales                      Lachnospiraceae          \n",
       "ASV_18 Lachnospirales                      Lachnospiraceae          \n",
       "ASV_19 Lachnospirales                      Lachnospiraceae          \n",
       "ASV_20 NA                                  NA                       \n",
       "ASV_21 Oscillospirales                     Oscillospiraceae         \n",
       "ASV_22 Erysipelotrichales                  Erysipelatoclostridiaceae\n",
       "ASV_23 Lachnospirales                      Lachnospiraceae          \n",
       "ASV_24 Oscillospirales                     Ruminococcaceae          \n",
       "ASV_25 Lachnospirales                      Lachnospiraceae          \n",
       "ASV_26 Oscillospirales                     Ruminococcaceae          \n",
       "ASV_27 NA                                  NA                       \n",
       "ASV_28 Peptostreptococcales-Tissierellales Peptostreptococcaceae    \n",
       "ASV_29 Lactobacillales                     Lactobacillaceae         \n",
       "ASV_30 Lachnospirales                      Lachnospiraceae          \n",
       "⋮      ⋮                                   ⋮                        \n",
       "ASV_56 Lachnospirales                      Lachnospiraceae          \n",
       "ASV_57 Peptostreptococcales-Tissierellales Peptostreptococcaceae    \n",
       "ASV_58 Lachnospirales                      Lachnospiraceae          \n",
       "ASV_59 Lachnospirales                      Lachnospiraceae          \n",
       "ASV_60 Lachnospirales                      Lachnospiraceae          \n",
       "ASV_61 Oscillospirales                     Oscillospiraceae         \n",
       "ASV_62 Lactobacillales                     Enterococcaceae          \n",
       "ASV_63 Lachnospirales                      Lachnospiraceae          \n",
       "ASV_64 Peptostreptococcales-Tissierellales Peptostreptococcaceae    \n",
       "ASV_65 Burkholderiales                     Comamonadaceae           \n",
       "ASV_66 Bacteroidales                       Tannerellaceae           \n",
       "ASV_67 NA                                  NA                       \n",
       "ASV_68 Lachnospirales                      Lachnospiraceae          \n",
       "ASV_69 Lachnospirales                      Lachnospiraceae          \n",
       "ASV_70 Bacteroidales                       Tannerellaceae           \n",
       "ASV_71 Enterobacterales                    Morganellaceae           \n",
       "ASV_72 Lachnospirales                      Lachnospiraceae          \n",
       "ASV_73 Lachnospirales                      Lachnospiraceae          \n",
       "ASV_74 Lachnospirales                      Lachnospiraceae          \n",
       "ASV_75 Lachnospirales                      Lachnospiraceae          \n",
       "ASV_76 Lactobacillales                     NA                       \n",
       "ASV_77 Fusobacteriales                     Fusobacteriaceae         \n",
       "ASV_78 Rhizobiales                         Xanthobacteraceae        \n",
       "ASV_79 Lachnospirales                      Lachnospiraceae          \n",
       "ASV_80 Lachnospirales                      Lachnospiraceae          \n",
       "ASV_81 Oceanospirillales                   Kangiellaceae            \n",
       "ASV_82 Paenibacillales                     Paenibacillaceae         \n",
       "ASV_83 Lachnospirales                      Lachnospiraceae          \n",
       "ASV_84 NA                                  NA                       \n",
       "ASV_85 Lachnospirales                      Lachnospiraceae          \n",
       "       genus                         species\n",
       "ASV_1  Parabacteroides               NA     \n",
       "ASV_2  Lachnoclostridium             NA     \n",
       "ASV_3  Erysipelatoclostridium        NA     \n",
       "ASV_4  Ruminococcus                  NA     \n",
       "ASV_5  NA                            NA     \n",
       "ASV_6  NA                            NA     \n",
       "ASV_7  NA                            NA     \n",
       "ASV_8  NA                            NA     \n",
       "ASV_9  Lactobacillus                 NA     \n",
       "ASV_10 NA                            NA     \n",
       "ASV_11 Lachnospiraceae NK4A136 group NA     \n",
       "ASV_12 NA                            NA     \n",
       "ASV_13 Blautia                       NA     \n",
       "ASV_14 Mucispirillum                 NA     \n",
       "ASV_15 Lachnoclostridium             NA     \n",
       "ASV_16 NA                            NA     \n",
       "ASV_17 NA                            NA     \n",
       "ASV_18 NA                            NA     \n",
       "ASV_19 Lachnoclostridium             NA     \n",
       "ASV_20 NA                            NA     \n",
       "ASV_21 Flavonifractor                NA     \n",
       "ASV_22 NA                            NA     \n",
       "ASV_23 Lachnospiraceae FCS020 group  NA     \n",
       "ASV_24 Anaerotruncus                 NA     \n",
       "ASV_25 NA                            NA     \n",
       "ASV_26 NA                            NA     \n",
       "ASV_27 NA                            NA     \n",
       "ASV_28 NA                            NA     \n",
       "ASV_29 Lactobacillus                 NA     \n",
       "ASV_30 NA                            NA     \n",
       "⋮      ⋮                             ⋮      \n",
       "ASV_56 Lachnoclostridium             NA     \n",
       "ASV_57 Romboutsia                    NA     \n",
       "ASV_58 NA                            NA     \n",
       "ASV_59 Anaerostipes                  NA     \n",
       "ASV_60 NA                            NA     \n",
       "ASV_61 Oscillibacter                 NA     \n",
       "ASV_62 NA                            NA     \n",
       "ASV_63 NA                            NA     \n",
       "ASV_64 NA                            NA     \n",
       "ASV_65 NA                            NA     \n",
       "ASV_66 Parabacteroides               NA     \n",
       "ASV_67 NA                            NA     \n",
       "ASV_68 Lachnoclostridium             NA     \n",
       "ASV_69 NA                            NA     \n",
       "ASV_70 Parabacteroides               NA     \n",
       "ASV_71 Providencia                   NA     \n",
       "ASV_72 NA                            NA     \n",
       "ASV_73 Lachnospiraceae UCG-006       NA     \n",
       "ASV_74 NA                            NA     \n",
       "ASV_75 NA                            NA     \n",
       "ASV_76 NA                            NA     \n",
       "ASV_77 Fusobacterium                 NA     \n",
       "ASV_78 NA                            NA     \n",
       "ASV_79 NA                            NA     \n",
       "ASV_80 Lachnospiraceae UCG-006       NA     \n",
       "ASV_81 Aliikangiella                 NA     \n",
       "ASV_82 Paenibacillus                 NA     \n",
       "ASV_83 NA                            NA     \n",
       "ASV_84 NA                            NA     \n",
       "ASV_85 NA                            NA     "
      ]
     },
     "metadata": {},
     "output_type": "display_data"
    }
   ],
   "source": [
    "tax_tab"
   ]
  },
  {
   "cell_type": "code",
   "execution_count": null,
   "id": "50e34db4-341b-44e3-85de-e460ced0a869",
   "metadata": {},
   "outputs": [],
   "source": []
  }
 ],
 "metadata": {
  "kernelspec": {
   "display_name": "R",
   "language": "R",
   "name": "ir"
  },
  "language_info": {
   "codemirror_mode": "r",
   "file_extension": ".r",
   "mimetype": "text/x-r-source",
   "name": "R",
   "pygments_lexer": "r",
   "version": "4.1.3"
  }
 },
 "nbformat": 4,
 "nbformat_minor": 5
}
