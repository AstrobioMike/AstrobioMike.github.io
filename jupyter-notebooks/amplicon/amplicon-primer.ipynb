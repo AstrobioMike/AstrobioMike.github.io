{
 "cells": [
  {
   "cell_type": "code",
   "execution_count": null,
   "id": "35afe4c6-f72c-42dc-8026-9a51a5d85229",
   "metadata": {},
   "outputs": [],
   "source": []
  }
 ],
 "metadata": {
  "kernelspec": {
   "display_name": "R",
   "language": "R",
   "name": "ir"
  },
  "language_info": {
   "codemirror_mode": "r",
   "file_extension": ".r",
   "mimetype": "text/x-r-source",
   "name": "R",
   "pygments_lexer": "r",
   "version": "4.1.3"
  }
 },
 "nbformat": 4,
 "nbformat_minor": 5
}
