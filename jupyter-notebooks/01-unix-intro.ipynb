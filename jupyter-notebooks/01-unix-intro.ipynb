{
 "cells": [
  {
   "cell_type": "markdown",
   "id": "9078f46e-c866-43d5-a686-a359df70b96d",
   "metadata": {
    "deletable": false,
    "editable": false,
    "tags": []
   },
   "source": [
    "# 1. Getting Started\n",
    "\n",
    "<hr>\n",
    "<center>This is part 1 of 5 of an <a href=\"00-unix-intro.ipynb\" target=\"_blank\">introduction to Unix</a>.</center>\n",
    "<hr>\n",
    "\n",
    "> **Things covered here:**\n",
    "> * Some general rules\n",
    "> * Running commands and general syntax\n",
    "> * File-system structure and how to navigate\n",
    "\n",
    "---\n",
    "\n",
    "## A few foundational rules\n",
    "* **Spaces are special!** The command line uses spaces to know how to properly break things apart. This is why it's not ideal to have filenames that contain spaces, but rather it's better to use dashes (**`-`**) or underscores (**`_`**) – e.g., \"draft-v3.txt\" is preferred over \"draft v3.txt\".  \n",
    "\n",
    "* The general syntax working at the command line goes like this: `command argument`.  \n",
    "\n",
    "* Arguments (which can also be referred to as \"flags\" or \"options\" or \"parameters\") can be **optional** or **required** based on the command being used.  \n",
    "\n",
    "\n",
    "### Note on running cells in a Jupyter notebook\n",
    "\n",
    "Code blocks like the one in the next section are in what the notebook calls \"cells\". To run a cell, we first need to select it, then we can either click the \"play\" icon at the top of the notebook, or we can use shortcut keys. Here are a few:\n",
    "\n",
    "Run a cell and keep the same cell selected:\n",
    "- Mac:     `CMD + RETURN`\n",
    "- Windows: `CTRL + ENTER`  \n",
    "\n",
    "Run a cell and move to the next cell:\n",
    "- Mac:     `SHIFT + RETURN`\n",
    "- Windows: `SHIFT + ENTER`\n",
    "\n",
    "---\n",
    "\n",
    "## Getting example files\n",
    "\n",
    "Running this next code block will download example files and ensure we are all starting from the same place. This will be the <b>only</b> time I would like you to blindly run a code block without us necessarily understanding what it is doing 🙂\n",
    "\n",
    "So select the following code block, and run it either with shortcut keys as noted above, or use the \"play\" icon at the top of the document to set us up. After doing so, some file-transfer information will populate below it."
   ]
  },
  {
   "cell_type": "code",
   "execution_count": null,
   "id": "2d9fc6d9-1a42-4bce-a77b-535b54ceda17",
   "metadata": {
    "deletable": false,
    "editable": false,
    "tags": []
   },
   "outputs": [],
   "source": [
    "cd ~\n",
    "curl -L -o unix_intro.tar.gz https://ndownloader.figshare.com/files/15573746\n",
    "tar -xzf unix_intro.tar.gz && rm unix_intro.tar.gz\n",
    "cd unix_intro/"
   ]
  },
  {
   "cell_type": "markdown",
   "id": "e7765286-2ad0-4f54-b91c-2679825ff8a4",
   "metadata": {
    "deletable": false,
    "editable": false,
    "tags": []
   },
   "source": [
    "<br>\n",
    "<b><center>Great! Now let's get started!</center></b>"
   ]
  },
  {
   "cell_type": "markdown",
   "id": "17f01a45-f28b-4319-8337-d4068914bec7",
   "metadata": {
    "deletable": false,
    "editable": false,
    "tags": []
   },
   "source": [
    "---"
   ]
  },
  {
   "cell_type": "markdown",
   "id": "bf445ea5-32f4-48a0-a67c-235e7a832cb3",
   "metadata": {
    "deletable": false,
    "editable": false,
    "tags": []
   },
   "source": [
    "## Running commands\n",
    "\n",
    "`date` is a command that prints out the date and time. This particular command doesn't require any arguments:"
   ]
  },
  {
   "cell_type": "code",
   "execution_count": null,
   "id": "05571c90-d298-4bf1-935c-9393b1218546",
   "metadata": {
    "tags": []
   },
   "outputs": [],
   "source": [
    "date"
   ]
  },
  {
   "cell_type": "markdown",
   "id": "0a253c60-5b35-46d9-914f-e791f869bd9c",
   "metadata": {
    "deletable": false,
    "editable": false,
    "tags": []
   },
   "source": [
    "When we run `date` with no arguments, it uses some default settings, like assuming we want to know the time in our computer's currently set time zone. But we can provide optional arguments to `date`. \n",
    "\n",
    "Optional arguments most often require putting a dash in front of them in order for the program to interpret them properly. \n",
    "\n",
    "Here, we are adding the `-u` argument to tell it to report UTC time instead of the local time – which will be the same if the computer we're using happens to be set to UTC time, of course 🙂: "
   ]
  },
  {
   "cell_type": "code",
   "execution_count": null,
   "id": "a60a0f11-f305-4dd8-ae13-4762e1bfd618",
   "metadata": {
    "tags": []
   },
   "outputs": [],
   "source": [
    "date -u"
   ]
  },
  {
   "cell_type": "markdown",
   "id": "21dab9f7-c5e5-4901-b3bf-9bf07e2c479a",
   "metadata": {
    "deletable": false,
    "editable": false,
    "tags": []
   },
   "source": [
    "Note that if we try to run it without the dash, we get an error (ignore the message highlighted in red, we wouldn't normally see that outside of a notebook):"
   ]
  },
  {
   "cell_type": "code",
   "execution_count": null,
   "id": "e202b328-97cd-46fd-abc4-1f4a4b6d5472",
   "metadata": {
    "tags": []
   },
   "outputs": [],
   "source": [
    "date u"
   ]
  },
  {
   "cell_type": "markdown",
   "id": "8560818f-6283-48c5-9cf1-0b446129765a",
   "metadata": {
    "deletable": false,
    "editable": false,
    "tags": []
   },
   "source": [
    "Also note that if we try to enter this without the \"space\" separteing `date` and the optional argument `-u`, the computer won't know how to break apart the command and we get a different error (again, ignoring the red output):"
   ]
  },
  {
   "cell_type": "code",
   "execution_count": null,
   "id": "1b57e555-186f-4320-902a-6d715b8c6de1",
   "metadata": {
    "tags": []
   },
   "outputs": [],
   "source": [
    "date-u"
   ]
  },
  {
   "cell_type": "markdown",
   "id": "00f31740-ad5a-4a37-9de2-bb4eb07f8bce",
   "metadata": {
    "deletable": false,
    "editable": false,
    "tags": []
   },
   "source": [
    "Notice that the first error above comes from the program `date`. So the program we wanted to use *is* actually responding to us, but it doesn't seem to know what to do with the letter `u` we gave it. And this is because it wasn't prefixed with a dash, like `-u`. \n",
    "\n",
    "Now looking at the second error above, that one comes from `bash`, the language we are working in. `bash` is telling us it can't find a command (or program) called \"date-u\". And it was looking for that because by missing the space in between the command `date` and the argument `-u`, we weren't telling it how to properly break things apart.\n",
    "\n",
    "<div class=\"alert alert-block alert-info\">\n",
    "    <b>Note on error messages</b>\n",
    "    <br>\n",
    "    Error messages can often seem obtuse and just confusing (and sometimes they are), but in many cases they can also be helpful. Being able to interpret some of them is certainly an acquired skill, but it's always worth doing our best to try to pay attention to them if we're having trouble with something.\n",
    "</div>"
   ]
  },
  {
   "cell_type": "markdown",
   "id": "85b141f4-e6ee-40ec-8574-349baf1c682b",
   "metadata": {
    "deletable": false,
    "editable": false,
    "tags": []
   },
   "source": [
    "Unlike `date`, most commands require arguments and won't work without them. `head` is a command that prints the first lines of a file, so it **requires** us to provide the file we want it to act on. Here is printing out the first lines of a file called \"example.txt\": "
   ]
  },
  {
   "cell_type": "code",
   "execution_count": null,
   "id": "dd22e076-051f-4c81-ada4-4c5d840751d9",
   "metadata": {
    "tags": []
   },
   "outputs": [],
   "source": [
    "head example.txt"
   ]
  },
  {
   "cell_type": "markdown",
   "id": "62002b90-3ed2-4527-9525-361bfbc9dd78",
   "metadata": {
    "deletable": false,
    "editable": false,
    "tags": []
   },
   "source": [
    "Here \"example.txt\" is the **required** argument, and in this case it is also what's known as a **positional** (we'll see examples of what's *not* a \"positional\" arugment in a second). \n",
    "\n",
    "Whether things need to be provided as positional arguments or not depends on how the command or program we are using was written. Sometimes we need to specify the input file by putting something in front of it (e.g. some commands will use the `-i` flag, but it's often other things as well).\n",
    "\n",
    "There are also optional arguments for the `head` command. The default for `head` is to print the first 10 lines of a file. We can change that by specifying the `-n` flag followed by how many lines we want:"
   ]
  },
  {
   "cell_type": "code",
   "execution_count": null,
   "id": "540b8ac1-0394-4cf8-9712-a45034f62e74",
   "metadata": {
    "editable": true,
    "tags": []
   },
   "outputs": [],
   "source": [
    "head -n 5 example.txt"
   ]
  },
  {
   "cell_type": "markdown",
   "id": "8ca79eb2-0987-4b97-bfb6-51a7e1737041",
   "metadata": {
    "deletable": false,
    "editable": false,
    "tags": []
   },
   "source": [
    "How would we know we needed the `-n` flag for that? There are a few ways to find out. Many standard Unix commands and other programs will have built-in help menus that we can access by providing `-h` or `--help` as the only argument. I usually try `-h` first:"
   ]
  },
  {
   "cell_type": "code",
   "execution_count": null,
   "id": "f7160134-aa29-4aed-b170-fcd67f3a39b4",
   "metadata": {
    "tags": []
   },
   "outputs": [],
   "source": [
    "head -h"
   ]
  },
  {
   "cell_type": "markdown",
   "id": "d98cfb2f-116f-41f5-93c0-adae8a959d57",
   "metadata": {
    "deletable": false,
    "editable": false,
    "tags": []
   },
   "source": [
    "That tells us \"h\" is an invalid option, and the version we are using kindly prints out how to access the help menu, so let's try with `--help`:"
   ]
  },
  {
   "cell_type": "code",
   "execution_count": null,
   "id": "ed5041ce-51de-4c79-adbc-400286f4c7dd",
   "metadata": {
    "tags": []
   },
   "outputs": [],
   "source": [
    "head --help"
   ]
  },
  {
   "cell_type": "markdown",
   "id": "8e44c0d0-36e5-4fa6-9d39-230a8bf18519",
   "metadata": {
    "deletable": false,
    "editable": false,
    "tags": []
   },
   "source": [
    "That spit out a lot of information (and `head` is a relatively simple command compared to many others), but somewhere in there we can see \"-n, --lines...\" (we could have used `--lines 5` instead of `-n 5` to get the same result), but even that can be confusing if we're not use to how this information is presented. \n",
    "\n",
    "I usually try an built-in help menu first, because it's usually immediately accessible and might help. But if it's not working out, I very quickly go to our good friend google, which will often have a more easily understood answer for me somehwere. \n",
    "\n",
    "What options are available for a certain command, and how to specify them, are parts of this process that are not about memorization at all. We might remember a few flags or specific options if we happen to use them a lot, but searching for options and details when needed is definitely the norm!\n",
    "\n",
    "<div class=\"alert alert-block alert-success\">\n",
    "    What we've done so far already really is the framework for how almost all things work at the command line! Multiple commands can be strung together, and some commands can have many options, inputs, and outputs and can grow to be quite long, but this is the general framework that underlies it all.\n",
    "    <br>\n",
    "    <br>\n",
    "    <center><b>Becoming familiar with these baseline rules is important, memorizing particular commands and options is not!</b></center>\n",
    "</div>"
   ]
  },
  {
   "cell_type": "markdown",
   "id": "a90dd4c0-ad60-4aa0-8334-527029e45d1b",
   "metadata": {
    "deletable": false,
    "editable": false,
    "tags": []
   },
   "source": [
    "---"
   ]
  },
  {
   "cell_type": "markdown",
   "id": "d68f4947-a6a1-402a-8de6-af0ac5581cb0",
   "metadata": {
    "deletable": false,
    "editable": false,
    "tags": []
   },
   "source": [
    "## The Unix file-system structure\n",
    "\n",
    "Computers store file locations in a hierarchical structure. We are typically already used to navigating through this stucture by clicking on various folders (known as directories in the Unix world) in a Windows Explorer window or a Mac Finder window. Just like we need to select the appropriate files in the appropriate locations there (in a Graphical User-Interface, or GUI), we need to do the same when working at a command-line interface. What this means in practice is that each file and directory has its own \"address\", and that address is called its \"**path**\". \n",
    "\n",
    "Additionally, there are two special locations in all Unix-based systems, so 2 more terms we should become familiar with: the \"**root**\" location and the current user's \"**home**\" location. \"Root\" is where the address system of the computer starts; \"home\" is where the current user's location starts.\n",
    "\n",
    "Here is an image of an example file-system structure. Let's take a peek at it. First imagining just \"clicking\" through folders (directories) in a GUI in order to reach the file we want, \"processing_notes.txt\". Then we'll talk about it in terms of the \"path\" we could use to get to the same file at the command line.\n",
    "\n",
    "<center><a href=\"https://astrobiomike.github.io/images/file_system_structure.png\"><img src=\"https://astrobiomike.github.io/images/file_system_structure.png\" width=\"80%\"></a></center>\n",
    "<br>\n",
    "\n",
    "We tell the command line where files and directories are located by providing their address, their \"path\". If we use the `pwd` command (for **p**rint **w**orking **d**irectory), we can find out what the path is for the directory (folder) we are sitting in:"
   ]
  },
  {
   "cell_type": "code",
   "execution_count": null,
   "id": "78629ebd-4fe4-4a10-b5af-91fb9ee7fee4",
   "metadata": {
    "tags": []
   },
   "outputs": [],
   "source": [
    "pwd"
   ]
  },
  {
   "cell_type": "markdown",
   "id": "5f3b122e-ef70-4289-87a8-d2753f4c0c57",
   "metadata": {
    "deletable": false,
    "editable": false,
    "tags": []
   },
   "source": [
    "Note that is providing the path starting from the special **root** location, because it begins with that leading `/`, which is the special character that denotes the start of the address system.\n",
    "\n",
    "And we can use the `ls` command (for **l**i**s**t) to see what directories and files are in the current directory we are sitting in:"
   ]
  },
  {
   "cell_type": "code",
   "execution_count": null,
   "id": "9bacdb85-9c8f-410f-bb6c-1620096802d7",
   "metadata": {
    "tags": []
   },
   "outputs": [],
   "source": [
    "ls"
   ]
  },
  {
   "cell_type": "markdown",
   "id": "1b33bf4c-512b-4332-9abe-ceff4d2e7af7",
   "metadata": {
    "deletable": false,
    "editable": false,
    "tags": []
   },
   "source": [
    "### Absolute vs relative path\n",
    "\n",
    "There are two ways to specify the path (address in the computer) of the file we want to find or do something to:\n",
    "\n",
    "* An **absolute path** is an address that starts from one of those two special locations we mentioned above: either the \"root\" (specified with `/`) or the \"home\" location (specified with `~/`). \n",
    "\n",
    "* A **relative path** is an address that starts from wherever we are currently sitting.\n",
    "\n",
    "These can sound a little more confusing at first than they are, so it's best to just look at some examples.\n",
    "\n",
    "Let's start by looking again at the **`head`** command we ran above:"
   ]
  },
  {
   "cell_type": "code",
   "execution_count": null,
   "id": "a01ef70f-607d-4bbd-b75d-c75884ed5cd3",
   "metadata": {
    "tags": []
   },
   "outputs": [],
   "source": [
    "head example.txt"
   ]
  },
  {
   "cell_type": "markdown",
   "id": "f0c8efe8-2213-45e3-ba4d-bea5261b46c3",
   "metadata": {
    "deletable": false,
    "editable": false,
    "tags": []
   },
   "source": [
    "**What we are actually doing here is using a *relative path* to specify where the \"example.txt\" file is located.** The command line automatically looks in the current working directory if we don't specify anything else about a file's location. So this works specifically because there is a file called \"example.txt\" in the current directory we are sitting in where we are running the command.\n",
    "\n",
    "We can also run the same command on the same file, but specifying the file's location using an **absolute path**:"
   ]
  },
  {
   "cell_type": "code",
   "execution_count": null,
   "id": "05f217b8-d6f3-41c3-81df-f7aa13c462d7",
   "metadata": {
    "tags": []
   },
   "outputs": [],
   "source": [
    "head ~/unix_intro/example.txt"
   ]
  },
  {
   "cell_type": "markdown",
   "id": "96963b5f-472d-4498-b99e-562c0285a259",
   "metadata": {
    "deletable": false,
    "editable": false,
    "tags": []
   },
   "source": [
    "There we are using the special \"home\" location, specified by the `~/` at the start, then going into the directory that holds the file, then naming the file. \n",
    "\n",
    "The previous two commands both point to the same exact file. But the first way, `head example.txt`, will only work if we are entering it while \"sitting\" in the directory that holds that file, while the second way will work no matter \"where\" we happen to be in the computer.\n",
    "\n",
    "<div class=\"alert alert-block alert-info\">\n",
    "    <b>Note</b>\n",
    "    <br>\n",
    "    The address of a file, it's \"path\", includes the name of the file also. It doesn't stop at the directory that holds it.\n",
    "</div>\n",
    "\n",
    "It is important to always think about *where* we are in the computer when working at the command line. **One of the most common errors/easiest mistakes to make is trying to do something to a file that isn't where we think it is.** \n",
    "\n",
    "Let's run `head` on the \"example.txt\" file again, using a relative path by just providing the name of the file, and then let's try it on another file, \"notes.txt\":"
   ]
  },
  {
   "cell_type": "code",
   "execution_count": null,
   "id": "15c9cefe-89ae-4ea3-8a77-5518ff152edd",
   "metadata": {
    "tags": []
   },
   "outputs": [],
   "source": [
    "head example.txt"
   ]
  },
  {
   "cell_type": "code",
   "execution_count": null,
   "id": "9bd68329-fbe0-4b5a-8a5c-44c505ffc10e",
   "metadata": {
    "tags": []
   },
   "outputs": [],
   "source": [
    "head notes.txt"
   ]
  },
  {
   "cell_type": "markdown",
   "id": "b69fbb6d-7cf0-42d0-bf43-92dbaa59b9f7",
   "metadata": {
    "deletable": false,
    "editable": false,
    "tags": []
   },
   "source": [
    "Here the `head` command works fine on \"example.txt\", but we get an error message when we call it on \"notes.txt\" telling us no such file or directory (ignore the red highlighted line, we wouldn't see that if outside of the notebook). \n",
    "\n",
    "If we run the `ls` command to **l**i**s**t the contents of the current working directory, we can see the computer is absolutely right – spoiler alert: it usually is – and there is no file here named \"notes.txt\":"
   ]
  },
  {
   "cell_type": "code",
   "execution_count": null,
   "id": "8dcf7874-8614-413d-99f0-e30cf152023f",
   "metadata": {
    "tags": []
   },
   "outputs": [],
   "source": [
    "ls"
   ]
  },
  {
   "cell_type": "markdown",
   "id": "681f3874-85b6-42f0-9391-2d51065f7b02",
   "metadata": {
    "deletable": false,
    "editable": false,
    "tags": []
   },
   "source": [
    "The `ls` command by default operates on the current working directory if we don't specify any location, but we can tell it to list the contents of a different directory by providing it as a positional argument. Here we are telling it to list the contents inside the \"experiment\" directory:"
   ]
  },
  {
   "cell_type": "code",
   "execution_count": null,
   "id": "f90eba07-937e-4494-a83a-21d1a4e474cb",
   "metadata": {
    "tags": []
   },
   "outputs": [],
   "source": [
    "ls experiment"
   ]
  },
  {
   "cell_type": "markdown",
   "id": "ec123bc1-4a7e-4193-b112-2d79b740c618",
   "metadata": {
    "deletable": false,
    "editable": false,
    "tags": []
   },
   "source": [
    "We can see the file we were looking for is located in this sub-directory called \"experiment\". Here is how we can run `head` on \"notes.txt\" by specifying an accurate **relative path** to that file:"
   ]
  },
  {
   "cell_type": "code",
   "execution_count": null,
   "id": "01c67c18-9747-4b06-bffe-35650b299c02",
   "metadata": {
    "tags": []
   },
   "outputs": [],
   "source": [
    "head experiment/notes.txt"
   ]
  },
  {
   "cell_type": "markdown",
   "id": "afbd7701-a8c3-473f-90ee-adf8f9cdb155",
   "metadata": {
    "deletable": false,
    "editable": false,
    "tags": []
   },
   "source": [
    "If we had been using **tab-completion**, we would not have made that mistake!\n",
    "\n",
    "#### BONUS ROUND: Tab-completion is our friend!\n",
    "Tab-completion is a huge time-saver, but even more importantly it is a perpetual sanity-check that helps prevent mistakes. \n",
    "\n",
    "If we are trying to specify a file that's in our current working directory, we can begin typing its name and then press the `tab` key to complete it. If there is only one possible way to finish what we've started typing, it will complete it entirely for us. If there is more than one possible way to finish what we've started typing, it will complete as far as it can, and then hitting `tab` twice quickly will show all the possible options. **If tab-complete does not do either of those things, then we are either confused about where we are, or we're confused about where the file is that we're trying to do something to** – this is invaluable.\n",
    "\n",
    "<div class=\"alert alert-block alert-warning\">\n",
    "    <b>A note on tab-completion in a notebook</b>\n",
    "    <br>\n",
    "    Currently, tab-completion doesn't behave within the notebook as it does in the real Unix world. So we are going to hop out into a terminal to look at it, and don't worry if it's not as helpful in here. \n",
    "</div>\n",
    "\n",
    "<center><b>Use tab-completion whenever you can!!</b></center>\n",
    "<br>"
   ]
  },
  {
   "cell_type": "markdown",
   "id": "eb41791f-ad33-46e0-85ee-df160220ee51",
   "metadata": {
    "editable": false,
    "tags": []
   },
   "source": [
    "---"
   ]
  },
  {
   "cell_type": "markdown",
   "id": "d0bf4187-7f75-4585-8942-06fcc03a6d48",
   "metadata": {
    "deletable": false,
    "editable": false,
    "tags": []
   },
   "source": [
    "### Moving around\n",
    "We can also move into the directory containing the file we want to work with by using the `cd` command (**c**hange **d**irectory). This command takes a positional argument that is the path (address) of the directory we want to change into. This can be a relative path or an absolute path. \n",
    "\n",
    "Here we'll use the relative path of the subdirectory, \"experiment\", to change into it:"
   ]
  },
  {
   "cell_type": "code",
   "execution_count": null,
   "id": "b7080ddf-70db-4ad1-9ddc-b73968a2078f",
   "metadata": {
    "tags": []
   },
   "outputs": [],
   "source": [
    "cd experiment"
   ]
  },
  {
   "cell_type": "markdown",
   "id": "a13b50e2-488e-4393-ac8d-3b5ce54a7529",
   "metadata": {
    "deletable": false,
    "editable": false,
    "tags": []
   },
   "source": [
    "Now let's use `pwd` (**p**rint **w**orking **d**irectory) to see where we are:"
   ]
  },
  {
   "cell_type": "code",
   "execution_count": null,
   "id": "4358c704-4dbc-442c-a0db-21068a9f827f",
   "metadata": {
    "tags": []
   },
   "outputs": [],
   "source": [
    "pwd"
   ]
  },
  {
   "cell_type": "markdown",
   "id": "4b0558b9-b20e-46fb-97a1-8f337606ee97",
   "metadata": {
    "deletable": false,
    "editable": false,
    "tags": []
   },
   "source": [
    "And `ls` (for **l**i**s**t) to see what is in this directory:"
   ]
  },
  {
   "cell_type": "code",
   "execution_count": null,
   "id": "aa28b80a-301f-475c-a883-7f14331b1a3e",
   "metadata": {
    "tags": []
   },
   "outputs": [],
   "source": [
    "ls"
   ]
  },
  {
   "cell_type": "markdown",
   "id": "2ab293f1-361d-4025-97ca-1b8c488c2f70",
   "metadata": {
    "deletable": false,
    "editable": false,
    "tags": []
   },
   "source": [
    "And here we can see the \"notes.txt\" file is here, so we should be able to run `head` on it just by providing it's name as the positinal argument with no error this time:"
   ]
  },
  {
   "cell_type": "code",
   "execution_count": null,
   "id": "c58097c6-2ca0-4cae-9942-6ca00c5b35c6",
   "metadata": {
    "tags": []
   },
   "outputs": [],
   "source": [
    "head notes.txt"
   ]
  },
  {
   "cell_type": "markdown",
   "id": "1ab2e61b-1381-4adf-8add-3ebbae84c427",
   "metadata": {
    "deletable": false,
    "editable": false,
    "tags": []
   },
   "source": [
    "Great. But now how do we get back \"up\" to the directory above us? One way would be to provide an absolute path to the `cd` (**c**hange **d**irectory) command, like `cd ~/unix_intro`, but there is also a handy shortcut. `..` are special characters that act as a relative path specifying \"up\" one level – one directory/folder – from wherever we currently are. So we can provide that as the positional argument to `cd` to get back to where we started:"
   ]
  },
  {
   "cell_type": "code",
   "execution_count": null,
   "id": "30e836f0-1a70-48d5-8670-aa47f67dbb7d",
   "metadata": {
    "tags": []
   },
   "outputs": [],
   "source": [
    "cd .."
   ]
  },
  {
   "cell_type": "markdown",
   "id": "ad5043f9-5a0d-4fbe-86e5-395c124123ed",
   "metadata": {
    "deletable": false,
    "editable": false,
    "tags": []
   },
   "source": [
    "And we can check out where we are and what is here again with `pwd` and `ls` (having two commands like this one line after another will just run them one after the other and print the output as it goes):"
   ]
  },
  {
   "cell_type": "code",
   "execution_count": null,
   "id": "639b5f9f-a5d8-4359-b991-1cf945c6edfc",
   "metadata": {
    "tags": []
   },
   "outputs": [],
   "source": [
    "pwd\n",
    "ls"
   ]
  },
  {
   "cell_type": "markdown",
   "id": "142866ce-73b5-4f7b-8e32-0637abb28665",
   "metadata": {
    "deletable": false,
    "editable": false,
    "tags": []
   },
   "source": [
    "Moving around the computer like this may feel a bit cumbersome at first, but after spending a little time with it and getting used to tab-completion you'll soon find yourself slightly frustrated when you have to scroll through a bunch of files and find something by eye in a GUI 🙂"
   ]
  },
  {
   "cell_type": "markdown",
   "id": "3f90832c-769c-4d86-a109-e859745ce637",
   "metadata": {
    "editable": false,
    "tags": []
   },
   "source": [
    "---"
   ]
  },
  {
   "cell_type": "markdown",
   "id": "eaca4bd8-bc11-4595-a615-ff161cc2ff83",
   "metadata": {
    "deletable": false,
    "editable": false,
    "tags": []
   },
   "source": [
    "## Summary\n",
    "While maybe not all that exciting, these things really are the foundation needed to start utilizing the command line – which then gives us the capability to use lots of tools that only work at a command line, manipulate large files rapidly, access and work with remote computers, and more! Next we're going to look at some of the ways to work with files and directories in [02-unix-intro.ipynb](02-unix-intro.ipynb).\n",
    "\n",
    "**Terms introduced:**\n",
    "\n",
    "| Term     | What it is          |\n",
    "|:----------:|------------------|\n",
    "| `path` | the address system the computer uses to keep track of files and directories |\n",
    "| `root` | where the address system of the computer starts, `/` |\n",
    "| `home` | where the current user's location starts, `~/`|\n",
    "| `absolute path` | an address that starts from a specified location, i.e. root, or home |\n",
    "| `relative path` | an address that starts from wherever we are |\n",
    "| `tab-completion` | our best friend – though maybe not helpful in a notebook yet 😕|\n",
    "\n",
    "\n",
    "<br>\n",
    "\n",
    "**Commands introduced:**\n",
    "\n",
    "|Command     |Function          |\n",
    "|:----------:|------------------|\n",
    "|`date`| prints out information about the current date and time |\n",
    "|`head`| prints out the first lines of a file |\n",
    "|`pwd` |prints out where we are in the computer (print working directory)|\n",
    "|`ls`  |lists contents of a directory (list)|\n",
    "|`cd`| change directories |\n",
    "\n",
    "<br>\n",
    "\n",
    "**Special characters introduced:**\n",
    "\n",
    "|Characters     | Meaning          |\n",
    "|:----------:|------------------|\n",
    "| `/` | the computer's root location |\n",
    "| `~/` | the user's home location |\n",
    "| `../` |specifies a directory one level \"above\" the current working directory|\n",
    "\n",
    "<br>\n",
    "\n",
    "<br>\n",
    "\n",
    "---\n",
    "---\n",
    "\n",
    "<a href=\"00-unix-intro.ipynb\"><b>Previous:</b> Unix intro home</a>\n",
    "\n",
    "<div align=\"right\"><a href=”02-unix-intro.ipynb”><b>Next:</b> 2. Working with files and directories</a></div>\n",
    "\n",
    "---\n",
    "\n",
    "<div class=\"alert alert-block alert-info\" align=\"center\">\n",
    "<font size=\"-1\">This is a notebook implementation of the <a href=\"https://astrobiomike.github.io/unix/unix-intro\" target=\"_blank\">Unix introduction</a> from <a href=\"https://astrobiomike.github.io\" target=\"_blank\">Happy Belly Bioinformatics.</a></font>\n",
    "</div>\n",
    "    \n",
    "---"
   ]
  }
 ],
 "metadata": {
  "kernelspec": {
   "display_name": "Bash",
   "language": "bash",
   "name": "bash"
  },
  "language_info": {
   "codemirror_mode": "shell",
   "file_extension": ".sh",
   "mimetype": "text/x-sh",
   "name": "bash"
  }
 },
 "nbformat": 4,
 "nbformat_minor": 5
}
