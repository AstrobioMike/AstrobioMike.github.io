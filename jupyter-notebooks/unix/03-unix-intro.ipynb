{
 "cells": [
  {
   "cell_type": "markdown",
   "id": "96c8df94-6de5-4b7d-b879-9b87a72ec3c6",
   "metadata": {
    "deletable": false,
    "editable": false,
    "tags": []
   },
   "source": [
    "# 3. Redirectors and wildcards\n",
    "\n",
    "<hr>\n",
    "<center>This is part 3 of 5 of an <a href=\"00-unix-intro.ipynb\" target=\"_blank\">introduction to Unix</a>, it assumes the previous parts were done first.</center>\n",
    "<hr>\n",
    "\n",
    "> **Things covered here:**\n",
    "> * Redirecrors\n",
    "> * Wildcards\n",
    "> * History\n",
    "\n",
    "---\n",
    "\n",
    "<div class=\"alert alert-block alert-warning\" align=\"center\">\n",
    "    <b>Not yet incorporated</b>\n",
    "</div>"
   ]
  },
  {
   "cell_type": "markdown",
   "id": "8c3bd863-8ba3-48c3-9e6a-08c1962c92af",
   "metadata": {
    "deletable": false,
    "editable": false,
    "tags": []
   },
   "source": [
    "<br>\n",
    "\n",
    "---\n",
    "---\n",
    "\n",
    "<a href=\"02-unix-intro.ipynb\"><b>Previous:</b> 2. Working with files and directories</a>\n",
    "\n",
    "<div align=\"right\"><a href=”03-unix-intro.ipynb”><b>Next:</b> 4. Six glorious commands</a></div>\n",
    "\n",
    "---\n",
    "\n",
    "<div class=\"alert alert-block alert-info\" align=\"center\">\n",
    "<font size=\"-1\">This is a notebook implementation of the <a href=\"https://astrobiomike.github.io/unix/unix-intro\" target=\"_blank\">Unix introduction</a> from <a href=\"https://astrobiomike.github.io\" target=\"_blank\">Happy Belly Bioinformatics.</a></font>\n",
    "</div>\n",
    "    \n",
    "---"
   ]
  }
 ],
 "metadata": {
  "kernelspec": {
   "display_name": "Bash",
   "language": "bash",
   "name": "bash"
  },
  "language_info": {
   "codemirror_mode": "shell",
   "file_extension": ".sh",
   "mimetype": "text/x-sh",
   "name": "bash"
  }
 },
 "nbformat": 4,
 "nbformat_minor": 5
}
