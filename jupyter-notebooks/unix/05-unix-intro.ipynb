{
 "cells": [
  {
   "cell_type": "markdown",
   "id": "3e1e6cf3-0809-4fb1-901b-195254cfae8f",
   "metadata": {
    "deletable": false,
    "editable": false,
    "tags": []
   },
   "source": [
    "# 5. Variables and for loops\n",
    "\n",
    "<hr>\n",
    "<center>This is part 5 of 5 of an <a href=\"00-unix-intro.ipynb\" target=\"_blank\">introduction to Unix</a>, it assumes the previous parts were done first.</center>\n",
    "<hr>\n",
    "\n",
    "> **Things covered here:**\n",
    "> * variables\n",
    "> * for loops\n",
    "\n",
    "---\n",
    "\n",
    "<div class=\"alert alert-block alert-warning\" align=\"center\">\n",
    "    <b>Not yet incorporated</b>\n",
    "</div>"
   ]
  },
  {
   "cell_type": "markdown",
   "id": "0b7607fb-a504-4d1a-9012-bbb151988266",
   "metadata": {
    "deletable": false,
    "editable": false,
    "tags": []
   },
   "source": [
    "<br>\n",
    "\n",
    "---\n",
    "---\n",
    "\n",
    "<a href=\"04-unix-intro.ipynb\"><b>Previous:</b> 4. Six glorious commands</a>\n",
    "\n",
    "<div align=\"right\"><a href=”00-unix-intro.ipynb”><b>Back to:</b> Unix intro home</a></div>\n",
    "\n",
    "---\n",
    "\n",
    "<div class=\"alert alert-block alert-info\" align=\"center\">\n",
    "<font size=\"-1\">This is a notebook implementation of the <a href=\"https://astrobiomike.github.io/unix/unix-intro\" target=\"_blank\">Unix introduction</a> from <a href=\"https://astrobiomike.github.io\" target=\"_blank\">Happy Belly Bioinformatics.</a></font>\n",
    "</div>\n",
    "    \n",
    "---"
   ]
  }
 ],
 "metadata": {
  "kernelspec": {
   "display_name": "Bash",
   "language": "bash",
   "name": "bash"
  },
  "language_info": {
   "codemirror_mode": "shell",
   "file_extension": ".sh",
   "mimetype": "text/x-sh",
   "name": "bash"
  }
 },
 "nbformat": 4,
 "nbformat_minor": 5
}
