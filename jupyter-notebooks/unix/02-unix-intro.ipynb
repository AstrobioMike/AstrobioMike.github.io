{
 "cells": [
  {
   "cell_type": "markdown",
   "id": "f2464099-74fb-4ee7-a8e4-c80239e53bfd",
   "metadata": {
    "deletable": false,
    "editable": false,
    "tags": []
   },
   "source": [
    "# 2. Working with files and directories\n",
    "\n",
    "<hr>\n",
    "<center>This is part 2 of 5 of an <a href=\"00-unix-intro.ipynb\" target=\"_blank\">introduction to Unix</a>, it assumes <a href=\"01-unix-intro.ipynb\" target=\"_blank\">part 1</a> was done first.</center>\n",
    "<hr>\n",
    "\n",
    "> **Things covered here:**\n",
    "> * Working with files\n",
    "> * What a plain-text file is\n",
    "> * Working with directories\n",
    "\n",
    "---\n",
    "\n",
    "**To be sure we are starting in the right place, let's run this first (and if you need to restart your kernel, you will need to re-run this command):**"
   ]
  },
  {
   "cell_type": "code",
   "execution_count": null,
   "id": "b3aa97e0-9543-439e-85fe-5b7cc3885cc9",
   "metadata": {
    "tags": []
   },
   "outputs": [],
   "source": [
    "cd ~/unix_intro"
   ]
  },
  {
   "cell_type": "markdown",
   "id": "78f8d581-3662-4683-85c4-c959e1ea830f",
   "metadata": {
    "deletable": false,
    "editable": false,
    "tags": []
   },
   "source": [
    "---"
   ]
  },
  {
   "cell_type": "markdown",
   "id": "fdb9bc1a-1837-4108-9dad-1262f762edc6",
   "metadata": {
    "deletable": false,
    "editable": false,
    "tags": []
   },
   "source": [
    "## Working with plain-text files and directories\n",
    "Next we're going to look at some more ways to learn about and manipulate file and directories at the command line.\n",
    "\n",
    "### Working with files\n",
    "We will often want to get a look at a file to see how it's structured or what's in it. We've already used one very common tool for peeking at files, the `head` command. There is also `tail`, which prints the last 10 lines of a file by default:"
   ]
  },
  {
   "cell_type": "code",
   "execution_count": null,
   "id": "b55fdcf1-27f9-4616-82e1-a225914278e8",
   "metadata": {
    "tags": []
   },
   "outputs": [],
   "source": [
    "head example.txt"
   ]
  },
  {
   "cell_type": "code",
   "execution_count": null,
   "id": "a41ac0f7-f04d-40b6-9df1-df8aaa802541",
   "metadata": {
    "tags": []
   },
   "outputs": [],
   "source": [
    "tail example.txt"
   ]
  },
  {
   "cell_type": "markdown",
   "id": "1c1cf575-fc2c-41ee-b88c-4b7b0da5b0ce",
   "metadata": {
    "deletable": false,
    "editable": false,
    "tags": []
   },
   "source": [
    "Programs like this can be especially helpful if a file is particularly large, as `head` will just print the first 10 lines and stop. This means it will be just as instananeous whether the file is 10kB or 10GB.\n",
    "\n",
    "Another standard useful program for viewing the contents of a file is `less`, which opens a searchable, read-only program that allows us to scroll through the file. But `less` doesn't work in a notebook setting like this, so we'll try it out when we switch to a terminal later.\n",
    "\n",
    "The `wc` command (for **w**ord **c**ount) is useful for counting how many lines, words, and characters there are in a file: "
   ]
  },
  {
   "cell_type": "code",
   "execution_count": null,
   "id": "a37dd3d8-c084-40b9-85cb-c8c77d672358",
   "metadata": {
    "tags": []
   },
   "outputs": [],
   "source": [
    "wc example.txt"
   ]
  },
  {
   "cell_type": "code",
   "execution_count": null,
   "id": "f94302d3-26de-4095-9796-e38008ea7ac5",
   "metadata": {},
   "outputs": [],
   "source": []
  },
  {
   "cell_type": "markdown",
   "id": "dba7d256-a0dd-427b-b4f0-c7cf32619ae6",
   "metadata": {
    "deletable": false,
    "editable": false,
    "tags": []
   },
   "source": [
    "<div class=\"alert alert-block alert-success\">\n",
    "<center><b>QUICK PRACTICE!</b></center>\n",
    "\n",
    "In the above open code cell, try to find an option/argument that will let us get <i>only</i> the number of lines in a file from the `wc` command.\n",
    "\n",
    "<details>\n",
    "<summary><b>Solution</b></summary>\n",
    "\n",
    "<br>\n",
    "\n",
    "`wc -l example.txt`\n",
    "\n",
    "Adding the optional flag `-l` will print just how many lines are in a file. We could find this out by running `wc --help` if we could find it in the help menu or by visiting our good friend Google 🙂 \n",
    "\n",
    "</details>\n",
    "</div>"
   ]
  },
  {
   "cell_type": "markdown",
   "id": "edc4a8df-9b8f-423c-af33-21796506351a",
   "metadata": {
    "deletable": false,
    "editable": false,
    "tags": []
   },
   "source": [
    "The most common command-line tools like these and many others we'll see are mostly only useful for operating on what are known as **plain-text files** – also referred to as \"flat files\". \n",
    "\n",
    "#### BONUS ROUND: What's a plain-text file?\n",
    "A general definition of a plain-text file is a text file that doesn't contain any special formatting characters or information, and that can be properly viewed and edited with any standard text editor.  \n",
    "\n",
    "Common types of plain-text files are those ending with extensions like \".txt\", \".tsv\" (**t**ab-**s**eparated **v**alues), or \".csv\" (**c**omma **s**eparated **v**alues). \n",
    "\n",
    "Some examples of common file types that are *not* plain-text files would be \".docx\", \".pdf\", or \".xlsx\". This is because those file formats contain special types of compression and formatting information that are only interpretable by programs specifically designed to work with them.\n",
    "\n",
    "<div class=\"alert alert-block alert-info\">\n",
    "    <b>A note on file extensions</b>\n",
    "    <br>\n",
    "    File extensions themselves do not actually do anything to the file format. They are <i>mostly</i> there just for our convenience/organization – \"mostly\" because some programs require a specific extension to be present for them to even try interacting with a file. But this has nothing to do with the file contents, just that the program won't let us interact with it unless it has a specific extension.\n",
    "</div>"
   ]
  },
  {
   "cell_type": "markdown",
   "id": "164f92e6-6a6f-4641-9121-bfe7e2079fea",
   "metadata": {
    "deletable": false,
    "editable": false,
    "tags": []
   },
   "source": [
    "---"
   ]
  },
  {
   "cell_type": "markdown",
   "id": "779bf146-2a88-40b6-92f1-373e6f43fac7",
   "metadata": {
    "deletable": false,
    "editable": false,
    "tags": []
   },
   "source": [
    "### Copying, moving, and renaming files\n",
    "\n",
    "<div class=\"alert alert-block alert-warning\">\n",
    "    <b>WARNING!</b>\n",
    "    <br>\n",
    "Using commands that do things like create, copy, and move files at the command line will overwrite files if they have the same name in the same location. And using commands that delete things will do so permanently. Use caution while getting used to things – and then forever after 🙂\n",
    "</div>\n",
    "\n",
    "#### `cp`\n",
    "\n",
    "The commands `cp` and `mv` (**c**o**p**y and **m**o**v**e) have the same basic structure. They both require two positional arguments – the first is the file we want to act on, and the second is where we want it to go (which can include the name we want to give it). \n",
    "\n",
    "To see how this works, let's make a copy of \"example.txt\". Here's what is in our current working directory initially:"
   ]
  },
  {
   "cell_type": "code",
   "execution_count": null,
   "id": "81bc3c1e-90e0-4286-8726-4cf75674ebc6",
   "metadata": {
    "tags": []
   },
   "outputs": [],
   "source": [
    "ls"
   ]
  },
  {
   "cell_type": "markdown",
   "id": "131538b4-5f60-4b41-9fd7-056a2517ec70",
   "metadata": {
    "deletable": false,
    "editable": false,
    "tags": []
   },
   "source": [
    "Then here is how we can make a copy, naming it what we want the copy to be when we run this based on what we put as the second positional argument:"
   ]
  },
  {
   "cell_type": "code",
   "execution_count": null,
   "id": "75367c4d-3366-468b-95b3-b8b4c1ba1ac9",
   "metadata": {
    "tags": []
   },
   "outputs": [],
   "source": [
    "cp example.txt example_copy.txt"
   ]
  },
  {
   "cell_type": "markdown",
   "id": "d213c1ff-15b9-438f-9ca8-135af11fcad4",
   "metadata": {
    "deletable": false,
    "editable": false,
    "tags": []
   },
   "source": [
    "And then we can see that copy was made by running `ls` again:"
   ]
  },
  {
   "cell_type": "code",
   "execution_count": null,
   "id": "119e1eb4-fb83-448e-8bf8-f48a151a864d",
   "metadata": {
    "tags": []
   },
   "outputs": [],
   "source": [
    "ls"
   ]
  },
  {
   "cell_type": "markdown",
   "id": "3ac25438-488c-4b35-811f-48d1b82dbeba",
   "metadata": {
    "deletable": false,
    "editable": false,
    "tags": []
   },
   "source": [
    "By just giving the second argument a file name and nothing else (meaning no path or directories in front of the name), we are implicitly saying we want it copied to where we currently are. \n",
    "\n",
    "To make a copy and put it somewhere else, like in our subdirectory \"data\", we could change the second positional argument using a **relative path** (\"relative\" because it starts from where we currently are).\n",
    "\n",
    "Let's look what's in the data sub-directory, then let's make a copy of \"example.txt\" in that sub-directory:"
   ]
  },
  {
   "cell_type": "code",
   "execution_count": null,
   "id": "2f77f148-f6de-4b24-b61e-bac065b40fa9",
   "metadata": {
    "tags": []
   },
   "outputs": [],
   "source": [
    "ls data"
   ]
  },
  {
   "cell_type": "code",
   "execution_count": null,
   "id": "daa79bbd-7895-4fe8-bb59-dc30ba5992d7",
   "metadata": {
    "tags": []
   },
   "outputs": [],
   "source": [
    "cp example.txt data/example_copy.txt"
   ]
  },
  {
   "cell_type": "code",
   "execution_count": null,
   "id": "c73675a1-60cf-49b1-9830-9f4089a93144",
   "metadata": {
    "tags": []
   },
   "outputs": [],
   "source": [
    "ls data"
   ]
  },
  {
   "cell_type": "markdown",
   "id": "f2e661a1-ea0b-4337-b359-e625e196632e",
   "metadata": {
    "deletable": false,
    "editable": false,
    "tags": []
   },
   "source": [
    "To copy it to that sub-directory but keep the same name, we could type the whole name out, but we can also just provide the directory and leave off the file name, and it will automatically keep the same original name:"
   ]
  },
  {
   "cell_type": "code",
   "execution_count": null,
   "id": "aa94d913-318e-45d7-a55a-8b07d3447161",
   "metadata": {
    "tags": []
   },
   "outputs": [],
   "source": [
    "cp example.txt data/"
   ]
  },
  {
   "cell_type": "code",
   "execution_count": null,
   "id": "18309c0b-121c-4dac-8e5e-3280b3b0ef8e",
   "metadata": {
    "tags": []
   },
   "outputs": [],
   "source": [
    "ls data"
   ]
  },
  {
   "cell_type": "markdown",
   "id": "73fdd5b9-d161-4659-8ad2-b88022afc8c7",
   "metadata": {
    "deletable": false,
    "editable": false,
    "tags": []
   },
   "source": [
    "If we wanted to copy something *from somewhere else to our current working directory* and keep the same name, we can use another special character, a period (`.`), which specifies the current working directory. So here for the second positional argument, we just provide `.`:"
   ]
  },
  {
   "cell_type": "code",
   "execution_count": null,
   "id": "b04dd51b-1c2e-42e1-a2e6-1dfa1afcf080",
   "metadata": {
    "tags": []
   },
   "outputs": [],
   "source": [
    "ls"
   ]
  },
  {
   "cell_type": "code",
   "execution_count": null,
   "id": "4f17f3bb-f024-4255-bafc-6a5adcca1590",
   "metadata": {
    "tags": []
   },
   "outputs": [],
   "source": [
    "cp experiment/notes.txt ."
   ]
  },
  {
   "cell_type": "code",
   "execution_count": null,
   "id": "06914711-4634-4c25-9ade-a4247b70d575",
   "metadata": {
    "tags": []
   },
   "outputs": [],
   "source": [
    "ls"
   ]
  },
  {
   "cell_type": "markdown",
   "id": "4ad1d1a8-f7f4-4efa-b965-10f0555e191a",
   "metadata": {
    "deletable": false,
    "editable": false,
    "tags": []
   },
   "source": [
    "#### `mv`\n",
    "\n",
    "The `mv` command is used to **m**o**v**e files. Let's move the \"example_copy.txt\" file into the \"experiment\" subdirectory:"
   ]
  },
  {
   "cell_type": "code",
   "execution_count": null,
   "id": "a0af54fa-d35f-47be-bcc9-60115dd6f1b9",
   "metadata": {
    "tags": []
   },
   "outputs": [],
   "source": [
    "ls"
   ]
  },
  {
   "cell_type": "code",
   "execution_count": null,
   "id": "d7f6a8d4-2b8e-4f1c-a8ee-793f17749256",
   "metadata": {
    "tags": []
   },
   "outputs": [],
   "source": [
    "ls experiment"
   ]
  },
  {
   "cell_type": "code",
   "execution_count": null,
   "id": "b572b8d2-7e52-44f3-82ac-9700c4a260a0",
   "metadata": {
    "tags": []
   },
   "outputs": [],
   "source": [
    "mv example_copy.txt experiment/"
   ]
  },
  {
   "cell_type": "markdown",
   "id": "596fff56-2826-4ce1-9bc5-941b55956a98",
   "metadata": {
    "deletable": false,
    "editable": false,
    "tags": []
   },
   "source": [
    "Now it is no longer here:"
   ]
  },
  {
   "cell_type": "code",
   "execution_count": null,
   "id": "2df25b9a-f2c0-4a64-9d5f-8badd8ec5ea7",
   "metadata": {
    "tags": []
   },
   "outputs": [],
   "source": [
    "ls"
   ]
  },
  {
   "cell_type": "markdown",
   "id": "712681e6-8db5-4429-960c-6cb2ecffbec4",
   "metadata": {
    "deletable": false,
    "editable": false,
    "tags": []
   },
   "source": [
    "But is in the \"experiment\" sub-directory:"
   ]
  },
  {
   "cell_type": "code",
   "execution_count": null,
   "id": "361c3649-3992-429e-af91-7ee61d1f0aaa",
   "metadata": {
    "tags": []
   },
   "outputs": [],
   "source": [
    "ls experiment"
   ]
  },
  {
   "cell_type": "markdown",
   "id": "ae9c40eb-be26-46a5-b20a-5b81478c97a9",
   "metadata": {
    "deletable": false,
    "editable": false,
    "tags": []
   },
   "source": [
    "The `mv` command is also used to *rename* files. This may seem strange at first, but remember that the path (address) of a file actually includes its name too (otherwise everything in the same directory would have the same path). So when we change the file name of something, we are also changing it's path/address."
   ]
  },
  {
   "cell_type": "code",
   "execution_count": null,
   "id": "40a15aa6-3fae-44ae-ae6a-4f52ce336c6b",
   "metadata": {
    "tags": []
   },
   "outputs": [],
   "source": [
    "ls"
   ]
  },
  {
   "cell_type": "code",
   "execution_count": null,
   "id": "7a105496-025e-4e28-b615-016d4e038703",
   "metadata": {
    "tags": []
   },
   "outputs": [],
   "source": [
    "mv notes.txt notes_old.txt"
   ]
  },
  {
   "cell_type": "code",
   "execution_count": null,
   "id": "2fcc5861-419e-454c-a623-e5213d398f35",
   "metadata": {
    "tags": []
   },
   "outputs": [],
   "source": [
    "ls"
   ]
  },
  {
   "cell_type": "markdown",
   "id": "9559ecf7-39ff-490e-ad51-8a0ee0c76f4d",
   "metadata": {
    "deletable": false,
    "editable": false,
    "tags": []
   },
   "source": [
    "#### `rm`\n",
    "\n",
    "To delete files there is the `rm` command (**r**e**m**ove). This requires at least one argument specifying the file we want to delete. But again, caution is warranted. There will be no confirmation or retrieval from a waste bin afterwards."
   ]
  },
  {
   "cell_type": "code",
   "execution_count": null,
   "id": "a0c08926-e155-40d1-8726-fccdec37c683",
   "metadata": {
    "tags": []
   },
   "outputs": [],
   "source": [
    "ls"
   ]
  },
  {
   "cell_type": "code",
   "execution_count": null,
   "id": "936989f5-4fc7-4968-9581-157ab88aa438",
   "metadata": {
    "tags": []
   },
   "outputs": [],
   "source": [
    "rm notes_old.txt"
   ]
  },
  {
   "cell_type": "code",
   "execution_count": null,
   "id": "5a1dcb0c-9382-4243-a8bf-ed8e3494b1bb",
   "metadata": {
    "tags": []
   },
   "outputs": [],
   "source": [
    "ls"
   ]
  },
  {
   "cell_type": "markdown",
   "id": "35486d3c-ac22-441d-bef5-505b9c70ab94",
   "metadata": {},
   "source": [
    "---"
   ]
  },
  {
   "cell_type": "markdown",
   "id": "60b83be7-d9f7-46e5-bfde-a2f5f671de4c",
   "metadata": {
    "deletable": false,
    "editable": false,
    "tags": []
   },
   "source": [
    "### Working with directories\n",
    "Commands for working with directories for the most part operate similarly. \n",
    "\n",
    "#### `mkdir`\n",
    "\n",
    "We can make a new directory with the command `mkdir` (for **m**a**k**e **dir**ectory): "
   ]
  },
  {
   "cell_type": "code",
   "execution_count": null,
   "id": "f52e50c4-1952-4854-b71c-26173037e0cb",
   "metadata": {
    "tags": []
   },
   "outputs": [],
   "source": [
    "ls"
   ]
  },
  {
   "cell_type": "code",
   "execution_count": null,
   "id": "c9a6aa1a-5c48-45f0-bf12-1d9ab04dff0c",
   "metadata": {
    "tags": []
   },
   "outputs": [],
   "source": [
    "mkdir subset"
   ]
  },
  {
   "cell_type": "code",
   "execution_count": null,
   "id": "a1e354e6-0e56-4740-9f53-ed3a4b70f025",
   "metadata": {
    "tags": []
   },
   "outputs": [],
   "source": [
    "ls"
   ]
  },
  {
   "cell_type": "markdown",
   "id": "e44d2df5-12ab-41d5-93ac-850b5aa3114f",
   "metadata": {
    "deletable": false,
    "editable": false,
    "tags": []
   },
   "source": [
    "#### `rmdir`\n",
    "\n",
    "And similarly, directories can be deleted with `rmdir` (for **r**e**m**ove **dir**ectory):"
   ]
  },
  {
   "cell_type": "code",
   "execution_count": null,
   "id": "d6a74bab-f0b8-44ff-9d85-8c72fd409fc8",
   "metadata": {
    "tags": []
   },
   "outputs": [],
   "source": [
    "rmdir subset/"
   ]
  },
  {
   "cell_type": "code",
   "execution_count": null,
   "id": "e3007a2e-e477-47f4-9f8d-b4911877ac10",
   "metadata": {
    "tags": []
   },
   "outputs": [],
   "source": [
    "ls"
   ]
  },
  {
   "cell_type": "markdown",
   "id": "313345eb-bf82-4315-900d-a274baa48739",
   "metadata": {
    "deletable": false,
    "editable": false,
    "tags": []
   },
   "source": [
    "The command line is a little more forgiving when trying to delete a directory. If the directory is not empty, `rmdir` will give us an error:"
   ]
  },
  {
   "cell_type": "code",
   "execution_count": null,
   "id": "535eaddd-1933-4c9a-aad8-3ba8b20501ec",
   "metadata": {
    "tags": []
   },
   "outputs": [],
   "source": [
    "rmdir experiment/"
   ]
  },
  {
   "cell_type": "markdown",
   "id": "c111a0cd-ebea-4f58-a613-e1935fa2a698",
   "metadata": {},
   "source": [
    "---"
   ]
  },
  {
   "cell_type": "markdown",
   "id": "f0964efd-faa8-413c-99f9-c7025e9bb04e",
   "metadata": {
    "deletable": false,
    "editable": false,
    "tags": []
   },
   "source": [
    "## Summary\n",
    "So far we've only seen individual commands and printing information to the screen. This is useful for in-the-moment things, but not so much for getting things done. Next we're going to start looking at some of the things that make the command line so versatile and powerful, starting with \"redirectors\" and \"wildcards\" in [03-unix-intro.ipynb](03-unix-intro.ipynb).\n",
    "\n",
    "**Commands introduced:**\n",
    "\n",
    "|Command     |Function          |\n",
    "|:----------:|------------------|\n",
    "|`head`      |prints the first lines of a file|\n",
    "|`tail`      |prints the last lines of a file|\n",
    "|`less`      |allows us to browse a file (exit with `q` key)|\n",
    "|`wc`       |count lines, words, and characters in a file|\n",
    "|`cp`      |copy a file or directory (use with caution)|\n",
    "|`mv`      |mv a file or directory (use with caution)|\n",
    "|`rm`      |delete a file or directory (use with caution)|\n",
    "|`mkdir`       |create a directory|\n",
    "|`rmdir`     |delete an empty directory|\n",
    "|`nano`     |create and edit plain text files at the command line|\n",
    "\n",
    "\n",
    "<br>\n",
    "\n",
    "**Special characters introduced:**\n",
    "\n",
    "|Characters     | Meaning          |\n",
    "|:----------:|------------------|\n",
    "| `.` | specifies the current working directory |\n",
    "\n",
    "\n",
    "<br>\n",
    "\n",
    "---\n",
    "---\n",
    "\n",
    "<a href=\"01-unix-intro.ipynb\"><b>Previous:</b> 1. Getting started</a>\n",
    "\n",
    "<div align=\"right\"><a href=”03-unix-intro.ipynb”><b>Next:</b> 3. Redirectors and wildcards</a></div>\n",
    "\n",
    "---\n",
    "\n",
    "<div class=\"alert alert-block alert-info\" align=\"center\">\n",
    "<font size=\"-1\">This is a notebook implementation of the <a href=\"https://astrobiomike.github.io/unix/unix-intro\" target=\"_blank\">Unix introduction</a> from <a href=\"https://astrobiomike.github.io\" target=\"_blank\">Happy Belly Bioinformatics.</a></font>\n",
    "</div>\n",
    "    \n",
    "---"
   ]
  }
 ],
 "metadata": {
  "kernelspec": {
   "display_name": "Bash",
   "language": "bash",
   "name": "bash"
  },
  "language_info": {
   "codemirror_mode": "shell",
   "file_extension": ".sh",
   "mimetype": "text/x-sh",
   "name": "bash"
  }
 },
 "nbformat": 4,
 "nbformat_minor": 5
}
